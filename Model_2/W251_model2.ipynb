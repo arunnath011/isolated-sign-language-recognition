{
 "cells": [
  {
   "cell_type": "code",
   "execution_count": 1,
   "id": "KUAFAfyIXJzj",
   "metadata": {
    "colab": {
     "base_uri": "https://localhost:8080/"
    },
    "id": "KUAFAfyIXJzj",
    "outputId": "d7994f75-d0ec-4d6d-9b7f-a539054eb213",
    "tags": []
   },
   "outputs": [
    {
     "name": "stdout",
     "output_type": "stream",
     "text": [
      "Requirement already satisfied: wandb in /opt/tensorflow/lib/python3.10/site-packages (0.14.2)\n",
      "Requirement already satisfied: docker-pycreds>=0.4.0 in /opt/tensorflow/lib/python3.10/site-packages (from wandb) (0.4.0)\n",
      "Requirement already satisfied: GitPython!=3.1.29,>=1.0.0 in /opt/tensorflow/lib/python3.10/site-packages (from wandb) (3.1.31)\n",
      "Requirement already satisfied: pathtools in /opt/tensorflow/lib/python3.10/site-packages (from wandb) (0.1.2)\n",
      "Requirement already satisfied: sentry-sdk>=1.0.0 in /opt/tensorflow/lib/python3.10/site-packages (from wandb) (1.19.1)\n",
      "Requirement already satisfied: setuptools in /opt/tensorflow/lib/python3.10/site-packages (from wandb) (67.6.0)\n",
      "Requirement already satisfied: PyYAML in /opt/tensorflow/lib/python3.10/site-packages (from wandb) (5.4.1)\n",
      "Requirement already satisfied: Click!=8.0.0,>=7.0 in /opt/tensorflow/lib/python3.10/site-packages (from wandb) (8.1.3)\n",
      "Requirement already satisfied: protobuf!=4.21.0,<5,>=3.19.0 in /opt/tensorflow/lib/python3.10/site-packages (from wandb) (3.20.3)\n",
      "Requirement already satisfied: psutil>=5.0.0 in /opt/tensorflow/lib/python3.10/site-packages (from wandb) (5.9.4)\n",
      "Requirement already satisfied: requests<3,>=2.0.0 in /opt/tensorflow/lib/python3.10/site-packages (from wandb) (2.28.2)\n",
      "Requirement already satisfied: appdirs>=1.4.3 in /opt/tensorflow/lib/python3.10/site-packages (from wandb) (1.4.4)\n",
      "Requirement already satisfied: setproctitle in /opt/tensorflow/lib/python3.10/site-packages (from wandb) (1.3.2)\n",
      "Requirement already satisfied: six>=1.4.0 in /opt/tensorflow/lib/python3.10/site-packages (from docker-pycreds>=0.4.0->wandb) (1.16.0)\n",
      "Requirement already satisfied: gitdb<5,>=4.0.1 in /opt/tensorflow/lib/python3.10/site-packages (from GitPython!=3.1.29,>=1.0.0->wandb) (4.0.10)\n",
      "Requirement already satisfied: certifi>=2017.4.17 in /opt/tensorflow/lib/python3.10/site-packages (from requests<3,>=2.0.0->wandb) (2022.12.7)\n",
      "Requirement already satisfied: idna<4,>=2.5 in /opt/tensorflow/lib/python3.10/site-packages (from requests<3,>=2.0.0->wandb) (3.4)\n",
      "Requirement already satisfied: urllib3<1.27,>=1.21.1 in /opt/tensorflow/lib/python3.10/site-packages (from requests<3,>=2.0.0->wandb) (1.26.15)\n",
      "Requirement already satisfied: charset-normalizer<4,>=2 in /opt/tensorflow/lib/python3.10/site-packages (from requests<3,>=2.0.0->wandb) (3.1.0)\n",
      "Requirement already satisfied: smmap<6,>=3.0.1 in /opt/tensorflow/lib/python3.10/site-packages (from gitdb<5,>=4.0.1->GitPython!=3.1.29,>=1.0.0->wandb) (5.0.0)\n"
     ]
    }
   ],
   "source": [
    "# !pip install wandb"
   ]
  },
  {
   "cell_type": "code",
   "execution_count": 2,
   "id": "57BwI4MFXOzb",
   "metadata": {
    "colab": {
     "base_uri": "https://localhost:8080/",
     "height": 121
    },
    "id": "57BwI4MFXOzb",
    "outputId": "d4ac39c5-bba7-4dcb-9b33-aa07a9cb67e8",
    "tags": []
   },
   "outputs": [
    {
     "name": "stderr",
     "output_type": "stream",
     "text": [
      "2023-04-14 04:42:44.439179: I tensorflow/core/platform/cpu_feature_guard.cc:182] This TensorFlow binary is optimized to use available CPU instructions in performance-critical operations.\n",
      "To enable the following instructions: AVX2 FMA, in other operations, rebuild TensorFlow with the appropriate compiler flags.\n",
      "2023-04-14 04:42:45.865843: W tensorflow/compiler/tf2tensorrt/utils/py_utils.cc:38] TF-TRT Warning: Could not find TensorRT\n",
      "\u001b[34m\u001b[1mwandb\u001b[0m: Currently logged in as: \u001b[33mreynard011\u001b[0m (\u001b[33mw251-asl-fp\u001b[0m). Use \u001b[1m`wandb login --relogin`\u001b[0m to force relogin\n"
     ]
    },
    {
     "data": {
      "text/plain": [
       "True"
      ]
     },
     "execution_count": 2,
     "metadata": {},
     "output_type": "execute_result"
    }
   ],
   "source": [
    "import wandb\n",
    "from wandb.keras import WandbCallback\n",
    "\n",
    "# If you're running this in Google Colab or Jupyter Notebook, you can use this line to log in to WandB\n",
    "wandb.login()\n"
   ]
  },
  {
   "cell_type": "code",
   "execution_count": 3,
   "id": "DrtWK4Wzfw6J",
   "metadata": {
    "colab": {
     "base_uri": "https://localhost:8080/"
    },
    "id": "DrtWK4Wzfw6J",
    "outputId": "8fe1c4fa-5f42-42b6-d67f-be0d090c6534"
   },
   "outputs": [
    {
     "name": "stdout",
     "output_type": "stream",
     "text": [
      "Mounted at /content/drive\n"
     ]
    }
   ],
   "source": [
    "# from google.colab import drive\n",
    "# drive.mount('/content/drive')"
   ]
  },
  {
   "cell_type": "code",
   "execution_count": 3,
   "id": "WK248WnDjlTm",
   "metadata": {
    "colab": {
     "base_uri": "https://localhost:8080/"
    },
    "id": "WK248WnDjlTm",
    "outputId": "82e985e1-d964-49b6-d612-01fc2a2a546d",
    "tags": []
   },
   "outputs": [
    {
     "name": "stdout",
     "output_type": "stream",
     "text": [
      "Fri Apr 14 04:43:04 2023       \n",
      "+-----------------------------------------------------------------------------+\n",
      "| NVIDIA-SMI 525.85.12    Driver Version: 525.85.12    CUDA Version: 12.0     |\n",
      "|-------------------------------+----------------------+----------------------+\n",
      "| GPU  Name        Persistence-M| Bus-Id        Disp.A | Volatile Uncorr. ECC |\n",
      "| Fan  Temp  Perf  Pwr:Usage/Cap|         Memory-Usage | GPU-Util  Compute M. |\n",
      "|                               |                      |               MIG M. |\n",
      "|===============================+======================+======================|\n",
      "|   0  NVIDIA A10G         On   | 00000000:00:1E.0 Off |                    0 |\n",
      "|  0%   55C    P0   190W / 300W |  21534MiB / 23028MiB |     95%      Default |\n",
      "|                               |                      |                  N/A |\n",
      "+-------------------------------+----------------------+----------------------+\n",
      "                                                                               \n",
      "+-----------------------------------------------------------------------------+\n",
      "| Processes:                                                                  |\n",
      "|  GPU   GI   CI        PID   Type   Process name                  GPU Memory |\n",
      "|        ID   ID                                                   Usage      |\n",
      "|=============================================================================|\n",
      "|    0   N/A  N/A     10774      C   python3                         21532MiB |\n",
      "+-----------------------------------------------------------------------------+\n"
     ]
    }
   ],
   "source": [
    "gpu_info = !nvidia-smi\n",
    "gpu_info = '\\n'.join(gpu_info)\n",
    "if gpu_info.find('failed') >= 0:\n",
    "  print('Not connected to a GPU')\n",
    "else:\n",
    "  print(gpu_info)"
   ]
  },
  {
   "cell_type": "code",
   "execution_count": 4,
   "id": "856a4495-55f2-4dd0-a5a3-208bdd9af48d",
   "metadata": {
    "id": "856a4495-55f2-4dd0-a5a3-208bdd9af48d",
    "tags": []
   },
   "outputs": [
    {
     "name": "stderr",
     "output_type": "stream",
     "text": [
      "/tmp/ipykernel_31176/2255047068.py:32: DeprecationWarning: Importing display from IPython.core.display is deprecated since IPython 7.14, please import from IPython display\n",
      "  from IPython.core.display import display, HTML, Javascript\n"
     ]
    }
   ],
   "source": [
    "import pandas as pd\n",
    "# from itables import init_notebook_mode\n",
    "# init_notebook_mode(all_interactive=True, connected=True)\n",
    "\n",
    "import os\n",
    "\n",
    "import json\n",
    "from tqdm import tqdm\n",
    "import numpy as np\n",
    "import itertools\n",
    "# os.environ['TF_XLA_FLAGS'] = '--tf_xla_disable_xla_devices'\n",
    "import tensorflow as tf\n",
    "\n",
    "# #pytorch model\n",
    "# import torch\n",
    "# import torch.nn.functional as F\n",
    "# import torch.nn as nn\n",
    "\n",
    "import seaborn as sns\n",
    "\n",
    "import matplotlib.pyplot as plt\n",
    "\n",
    "import plotly.express as px\n",
    "import plotly.graph_objects as go\n",
    "from plotly.subplots import make_subplots\n",
    "\n",
    "\n",
    "from matplotlib import animation\n",
    "from pathlib import Path\n",
    "import IPython\n",
    "from IPython import display\n",
    "from IPython.core.display import display, HTML, Javascript\n",
    "from IPython.display import Markdown as md\n",
    "\n",
    "# import mediapipe as mp\n",
    "# from mediapipe.framework.formats import landmark_pb2"
   ]
  },
  {
   "cell_type": "code",
   "execution_count": 5,
   "id": "dba57b07-22aa-4ba7-a054-bd0c3715fc58",
   "metadata": {
    "colab": {
     "base_uri": "https://localhost:8080/"
    },
    "id": "dba57b07-22aa-4ba7-a054-bd0c3715fc58",
    "outputId": "8eaad617-5a1f-4e20-e188-177136e0a4c1",
    "tags": []
   },
   "outputs": [
    {
     "name": "stdout",
     "output_type": "stream",
     "text": [
      "Num GPUs Available:  1\n"
     ]
    }
   ],
   "source": [
    "import tensorflow as tf\n",
    "print(\"Num GPUs Available: \", len(tf.config.list_physical_devices('GPU')))\n",
    "#os.environ['TF_XLA_FLAGS'] = '--tf_xla_disable_xla_devices'"
   ]
  },
  {
   "cell_type": "code",
   "execution_count": 9,
   "id": "qYE9U8OVFLA4",
   "metadata": {
    "id": "qYE9U8OVFLA4",
    "tags": []
   },
   "outputs": [
    {
     "name": "stderr",
     "output_type": "stream",
     "text": [
      "Saving Chunks: 100%|███████████████████████████████████████████████████████████| 95/95 [00:57<00:00,  1.64it/s]\n"
     ]
    }
   ],
   "source": [
    "#only run this if data_chunks doest exist\n",
    "import numpy as np\n",
    "import os\n",
    "from tqdm import tqdm\n",
    "\n",
    "def save_chunks(data, labels, chunk_size, output_dir):\n",
    "    num_samples = len(data)\n",
    "    num_chunks = (num_samples + chunk_size - 1) // chunk_size\n",
    "    \n",
    "    if not os.path.exists(output_dir):\n",
    "        os.makedirs(output_dir)\n",
    "    \n",
    "    for i in tqdm(range(num_chunks), desc=\"Saving Chunks\"):\n",
    "        start = i * chunk_size\n",
    "        end = min((i + 1) * chunk_size, num_samples)\n",
    "        \n",
    "        chunk_data = data[start:end]\n",
    "        chunk_labels = labels[start:end]\n",
    "        \n",
    "        np.save(os.path.join(output_dir, f'feature_data_{i}.npy'), chunk_data)\n",
    "        np.save(os.path.join(output_dir, f'feature_labels_{i}.npy'), chunk_labels)\n",
    "\n",
    "# Update the file paths to point to your Google Drive\n",
    "drive_path = 'home/ec2-user/isolated-sign-language-recognition/Model_2'\n",
    "\n",
    "x_data = np.load('feature_data.npy')\n",
    "y_data = np.load('feature_labels.npy')\n",
    "chunk_size = 1000  # Adjust this value based on your memory constraints\n",
    "output_dir = 'data_chunks'\n",
    "\n",
    "save_chunks(x_data, y_data, chunk_size, output_dir)\n"
   ]
  },
  {
   "cell_type": "code",
   "execution_count": 10,
   "id": "480a95bb-9467-4699-8977-558880952dee",
   "metadata": {
    "id": "480a95bb-9467-4699-8977-558880952dee",
    "tags": []
   },
   "outputs": [],
   "source": [
    "# drive_path = 'home/ec2-user/isolated-sign-language-recognition/Model_2/'\n",
    "output_dir =  'data_chunks'"
   ]
  },
  {
   "cell_type": "code",
   "execution_count": 15,
   "id": "3706d987-b720-452c-b6d3-cc72cab301b9",
   "metadata": {
    "id": "3706d987-b720-452c-b6d3-cc72cab301b9",
    "tags": []
   },
   "outputs": [],
   "source": [
    "import tensorflow as tf\n",
    "from glob import glob\n",
    "from sklearn.model_selection import train_test_split\n",
    "\n",
    "def data_generator(x_file_paths, y_file_paths):\n",
    "    for x_file_path, y_file_path in zip(x_file_paths, y_file_paths):\n",
    "        x_data = np.load(x_file_path)\n",
    "        y_data = np.load(y_file_path)\n",
    "\n",
    "        for x, y in zip(x_data, y_data):\n",
    "            yield np.transpose(x, (2, 0, 1)), y\n",
    "\n",
    "def create_dataset(x_file_paths, y_file_paths, batch_size):\n",
    "    dataset = tf.data.Dataset.from_generator(\n",
    "        lambda: data_generator(x_file_paths, y_file_paths),\n",
    "        output_signature=(\n",
    "            tf.TensorSpec(shape=(3, 37, 192), dtype=tf.float32),\n",
    "            tf.TensorSpec(shape=(), dtype=tf.int32)\n",
    "        )\n",
    "    )\n",
    "    dataset = dataset.shuffle(buffer_size=10000)\n",
    "    dataset = dataset.batch(batch_size)\n",
    "    dataset = dataset.prefetch(tf.data.AUTOTUNE)\n",
    "    \n",
    "    return dataset\n",
    "\n",
    "\n",
    "x_file_paths = sorted(glob(os.path.join(output_dir, 'feature_data_*.npy')))\n",
    "y_file_paths = sorted(glob(os.path.join(output_dir, 'feature_labels_*.npy')))\n",
    "file_paths = list(zip(x_file_paths, y_file_paths))\n",
    "\n",
    "train_file_paths, test_file_paths = train_test_split(file_paths, test_size=0.2, random_state=42)\n",
    "train_x_file_paths, train_y_file_paths = zip(*train_file_paths)\n",
    "test_x_file_paths, test_y_file_paths = zip(*test_file_paths)\n",
    "\n",
    "batch_size = 32\n",
    "train_dataset = create_dataset(train_x_file_paths, train_y_file_paths, batch_size)\n",
    "test_dataset = create_dataset(test_x_file_paths, test_y_file_paths, batch_size)\n"
   ]
  },
  {
   "cell_type": "code",
   "execution_count": 16,
   "id": "cb5ce4cb-aa89-4210-bbbc-076bab1a6295",
   "metadata": {
    "id": "cb5ce4cb-aa89-4210-bbbc-076bab1a6295",
    "tags": []
   },
   "outputs": [],
   "source": [
    "import tensorflow as tf\n",
    "from tensorflow.keras.layers import Input, Dense, Dropout, LayerNormalization, Flatten\n",
    "\n",
    "def transformer_encoder(input_shape, num_heads, ff_dim, dropout_rate):\n",
    "    inputs = Input(shape=tuple(input_shape))\n",
    "    attn_output = tf.keras.layers.MultiHeadAttention(num_heads=num_heads, key_dim=input_shape[-1])(inputs, inputs)\n",
    "    attn_output = Dropout(dropout_rate)(attn_output)\n",
    "    out1 = LayerNormalization(epsilon=1e-6)(inputs + attn_output)\n",
    "    ff_output = Dense(ff_dim, activation='relu')(out1)\n",
    "    ff_output = Dropout(dropout_rate)(ff_output)\n",
    "    ff_output = Dense(input_shape[-1])(ff_output)  # Add this line to match the dimensions\n",
    "    out2 = LayerNormalization(epsilon=1e-6)(out1 + ff_output)\n",
    "    model = tf.keras.models.Model(inputs=inputs, outputs=out2)\n",
    "    return model\n",
    "\n",
    "\n",
    "def create_spbt(input_shape, num_classes, num_heads, ff_dim, dropout_rate, num_encoders):\n",
    "    inputs = Input(shape=input_shape)\n",
    "    x = inputs\n",
    "    encoder_input_shape = input_shape\n",
    "    for _ in range(num_encoders):\n",
    "        x = transformer_encoder(encoder_input_shape, num_heads, ff_dim, dropout_rate)(x)\n",
    "        encoder_input_shape = x.shape[1:]  # Update the input shape for the next encoder\n",
    "    x = Flatten()(x)\n",
    "    x = Dense(num_classes, activation='softmax')(x)\n",
    "    model = tf.keras.models.Model(inputs=inputs, outputs=x)\n",
    "    return model\n",
    "\n"
   ]
  },
  {
   "cell_type": "code",
   "execution_count": 24,
   "id": "01d7f88b-0ccf-4781-9038-e66442710b83",
   "metadata": {
    "id": "01d7f88b-0ccf-4781-9038-e66442710b83",
    "tags": []
   },
   "outputs": [],
   "source": [
    "\n",
    "\n",
    "from tensorflow.keras.optimizers import Adam\n",
    "from glob import glob\n",
    "\n",
    "\n",
    "def get_all_x_y_file_paths(x_file_pattern, y_file_pattern):\n",
    "    x_file_paths = sorted(glob(x_file_pattern))\n",
    "    y_file_paths = sorted(glob(y_file_pattern))\n",
    "    \n",
    "    if len(x_file_paths) != len(y_file_paths):\n",
    "        raise ValueError(\"The number of X and y files does not match.\")\n",
    "    \n",
    "    return list(zip(x_file_paths, y_file_paths))\n",
    "\n",
    "\n",
    "# Function to extract unique class count from the dataset\n",
    "def get_unique_class_count(dataset):\n",
    "    unique_classes = set()\n",
    "    for _, label in dataset.unbatch().as_numpy_iterator():\n",
    "        unique_classes.add(label)\n",
    "    return len(unique_classes)\n",
    "\n",
    "# Get all X and y file paths\n",
    "all_file_paths = get_all_x_y_file_paths( 'data_chunks/feature_data_*.npy',  'data_chunks/feature_labels_*.npy')\n",
    "\n",
    "\n",
    "# Split the file paths into training and testing sets\n",
    "train_file_paths, test_file_paths = train_test_split(all_file_paths, test_size=0.2, random_state=42)\n",
    "\n",
    "# Separate X and y file paths for train and test datasets\n",
    "train_x_file_paths, train_y_file_paths = zip(*train_file_paths)\n",
    "test_x_file_paths, test_y_file_paths = zip(*test_file_paths)\n",
    "\n",
    "# Define batch size\n",
    "batch_size = 64\n",
    "\n",
    "# Create train and test datasets\n",
    "train_dataset = create_dataset(train_x_file_paths, train_y_file_paths, batch_size)\n",
    "test_dataset = create_dataset(test_x_file_paths, test_y_file_paths, batch_size)\n",
    "\n",
    "# Define model parameters\n",
    "input_dim = 192 * 3\n",
    "# num_classes = get_unique_class_count(train_dataset)\n",
    "num_classes = 250\n",
    "num_heads = 8\n",
    "ff_dim = 2048\n",
    "dropout_rate = 0.3\n",
    "num_encoders = 8\n",
    "epochs=100\n"
   ]
  },
  {
   "cell_type": "code",
   "execution_count": 25,
   "id": "ndLyxrm4Zu3i",
   "metadata": {
    "colab": {
     "base_uri": "https://localhost:8080/",
     "height": 142
    },
    "id": "ndLyxrm4Zu3i",
    "outputId": "1f634300-8263-4d65-ae7d-5a801b78cef8",
    "tags": []
   },
   "outputs": [
    {
     "data": {
      "text/html": [
       "Finishing last run (ID:otczxnkx) before initializing another..."
      ],
      "text/plain": [
       "<IPython.core.display.HTML object>"
      ]
     },
     "metadata": {},
     "output_type": "display_data"
    },
    {
     "data": {
      "text/html": [
       "Waiting for W&B process to finish... <strong style=\"color:green\">(success).</strong>"
      ],
      "text/plain": [
       "<IPython.core.display.HTML object>"
      ]
     },
     "metadata": {},
     "output_type": "display_data"
    },
    {
     "data": {
      "text/html": [
       " View run <strong style=\"color:#cdcd00\">different-butterfly-3</strong> at: <a href='https://wandb.ai/w251-asl-fp/W251_finalproject_ASedits/runs/otczxnkx' target=\"_blank\">https://wandb.ai/w251-asl-fp/W251_finalproject_ASedits/runs/otczxnkx</a><br/>Synced 4 W&B file(s), 0 media file(s), 0 artifact file(s) and 0 other file(s)"
      ],
      "text/plain": [
       "<IPython.core.display.HTML object>"
      ]
     },
     "metadata": {},
     "output_type": "display_data"
    },
    {
     "data": {
      "text/html": [
       "Find logs at: <code>./wandb/run-20230414_050026-otczxnkx/logs</code>"
      ],
      "text/plain": [
       "<IPython.core.display.HTML object>"
      ]
     },
     "metadata": {},
     "output_type": "display_data"
    },
    {
     "data": {
      "text/html": [
       "Successfully finished last run (ID:otczxnkx). Initializing new run:<br/>"
      ],
      "text/plain": [
       "<IPython.core.display.HTML object>"
      ]
     },
     "metadata": {},
     "output_type": "display_data"
    },
    {
     "data": {
      "application/vnd.jupyter.widget-view+json": {
       "model_id": "8402073d97054d4eb12aa5896a231b83",
       "version_major": 2,
       "version_minor": 0
      },
      "text/plain": [
       "VBox(children=(Label(value='Waiting for wandb.init()...\\r'), FloatProgress(value=0.016669442750026065, max=1.0…"
      ]
     },
     "metadata": {},
     "output_type": "display_data"
    },
    {
     "data": {
      "text/html": [
       "Tracking run with wandb version 0.14.2"
      ],
      "text/plain": [
       "<IPython.core.display.HTML object>"
      ]
     },
     "metadata": {},
     "output_type": "display_data"
    },
    {
     "data": {
      "text/html": [
       "Run data is saved locally in <code>/home/ec2-user/isolated-sign-language-recognition/Model_2/wandb/run-20230414_050533-dsbi0duh</code>"
      ],
      "text/plain": [
       "<IPython.core.display.HTML object>"
      ]
     },
     "metadata": {},
     "output_type": "display_data"
    },
    {
     "data": {
      "text/html": [
       "Syncing run <strong><a href='https://wandb.ai/w251-asl-fp/W251_finalproject_ASedits/runs/dsbi0duh' target=\"_blank\">noble-monkey-4</a></strong> to <a href='https://wandb.ai/w251-asl-fp/W251_finalproject_ASedits' target=\"_blank\">Weights & Biases</a> (<a href='https://wandb.me/run' target=\"_blank\">docs</a>)<br/>"
      ],
      "text/plain": [
       "<IPython.core.display.HTML object>"
      ]
     },
     "metadata": {},
     "output_type": "display_data"
    },
    {
     "data": {
      "text/html": [
       " View project at <a href='https://wandb.ai/w251-asl-fp/W251_finalproject_ASedits' target=\"_blank\">https://wandb.ai/w251-asl-fp/W251_finalproject_ASedits</a>"
      ],
      "text/plain": [
       "<IPython.core.display.HTML object>"
      ]
     },
     "metadata": {},
     "output_type": "display_data"
    },
    {
     "data": {
      "text/html": [
       " View run at <a href='https://wandb.ai/w251-asl-fp/W251_finalproject_ASedits/runs/dsbi0duh' target=\"_blank\">https://wandb.ai/w251-asl-fp/W251_finalproject_ASedits/runs/dsbi0duh</a>"
      ],
      "text/plain": [
       "<IPython.core.display.HTML object>"
      ]
     },
     "metadata": {},
     "output_type": "display_data"
    },
    {
     "data": {
      "text/html": [
       "<button onClick=\"this.nextSibling.style.display='block';this.style.display='none';\">Display W&B run</button><iframe src='https://wandb.ai/w251-asl-fp/W251_finalproject_ASedits/runs/dsbi0duh?jupyter=true' style='border:none;width:100%;height:420px;display:none;'></iframe>"
      ],
      "text/plain": [
       "<wandb.sdk.wandb_run.Run at 0x7fc129414dc0>"
      ]
     },
     "execution_count": 25,
     "metadata": {},
     "output_type": "execute_result"
    }
   ],
   "source": [
    "# Set up WandB configuration\n",
    "config = dict(\n",
    "    batch_size=batch_size,\n",
    "    num_classes=num_classes,\n",
    "    num_heads=num_heads,\n",
    "    ff_dim=ff_dim,\n",
    "    dropout_rate=dropout_rate,\n",
    "    num_encoders=num_encoders,\n",
    ")\n",
    "\n",
    "# Initialize WandB run\n",
    "wandb.init(project='W251_finalproject_ASedits', config=config)\n"
   ]
  },
  {
   "cell_type": "code",
   "execution_count": null,
   "id": "EnUrTsiSfSQQ",
   "metadata": {
    "id": "EnUrTsiSfSQQ"
   },
   "outputs": [],
   "source": [
    "# class WarmUpCosineDecay(tf.keras.optimizers.schedules.LearningRateSchedule):\n",
    "#     def __init__(self, initial_learning_rate, warmup_steps, total_steps, alpha=0.0):\n",
    "#         super(WarmUpCosineDecay, self).__init__()\n",
    "        \n",
    "#         self.initial_learning_rate = initial_learning_rate\n",
    "#         self.warmup_steps = warmup_steps\n",
    "#         self.total_steps = total_steps\n",
    "#         self.alpha = alpha\n",
    "    \n",
    "#     def __call__(self, step):\n",
    "#         step_float = tf.cast(step, tf.float32)\n",
    "#         warmup_steps_float = tf.cast(self.warmup_steps, tf.float32)\n",
    "\n",
    "#         def warmup_phase():\n",
    "#             return step_float * self.initial_learning_rate / warmup_steps_float\n",
    "        \n",
    "#         def cosine_decay_phase():\n",
    "#             decay_steps = tf.math.maximum(step_float - warmup_steps_float, 1)\n",
    "#             decay_steps = tf.math.minimum(decay_steps, self.total_steps)\n",
    "#             cosine_decay = 0.5 * (1 + tf.math.cos(tf.constant(np.pi) * decay_steps / self.total_steps))\n",
    "#             decayed = (1 - self.alpha) * cosine_decay + self.alpha\n",
    "#             return self.initial_learning_rate * decayed\n",
    "        \n",
    "#         return tf.cond(step_float < warmup_steps_float, warmup_phase, cosine_decay_phase)\n",
    "    \n",
    "#     def get_config(self):\n",
    "#         return {\n",
    "#             \"initial_learning_rate\": self.initial_learning_rate,\n",
    "#             \"warmup_steps\": self.warmup_steps,\n",
    "#             \"total_steps\": self.total_steps,\n",
    "#             \"alpha\": self.alpha,\n",
    "#         }\n",
    "\n",
    "# # Example usage:\n",
    "# initial_learning_rate = 0.001\n",
    "# warmup_steps = 1000\n",
    "# total_steps = 10000\n",
    "# alpha = 0.0001\n",
    "\n",
    "# lr_schedule = WarmUpCosineDecay(initial_learning_rate, warmup_steps, total_steps, alpha)\n",
    "# optimizer = tf.keras.optimizers.Adam(learning_rate=lr_schedule)\n",
    "\n",
    "# Compile and train your model\n",
    "# model.compile(optimizer=optimizer, loss='categorical_crossentropy', metrics=['accuracy'])\n",
    "# model.fit(train_dataset, epochs=epochs, validation_data=test_dataset, verbose=1)\n"
   ]
  },
  {
   "cell_type": "code",
   "execution_count": 26,
   "id": "jzu74rL0rIBz",
   "metadata": {
    "id": "jzu74rL0rIBz",
    "tags": []
   },
   "outputs": [],
   "source": [
    "import tensorflow as tf\n",
    "\n",
    "initial_learning_rate = 0.0001\n",
    "decay_steps = 32150\n",
    "alpha = 0.0001\n",
    "\n",
    "lr_schedule = tf.keras.optimizers.schedules.CosineDecay(\n",
    "    initial_learning_rate,\n",
    "    decay_steps,\n",
    "    alpha=alpha\n",
    ")\n",
    "\n",
    "optimizer = tf.keras.optimizers.Adam(learning_rate=lr_schedule)\n",
    "\n",
    "# #model.compile(optimizer=optimizer, loss='categorical_crossentropy', metrics=['accuracy'])\n"
   ]
  },
  {
   "cell_type": "code",
   "execution_count": 27,
   "id": "fd6ad2ff-692d-4a7b-80dd-bd3e3717e4f4",
   "metadata": {
    "colab": {
     "base_uri": "https://localhost:8080/"
    },
    "id": "fd6ad2ff-692d-4a7b-80dd-bd3e3717e4f4",
    "outputId": "f19b8f0a-ab53-4b56-a5a1-3c0689c5e9b6",
    "tags": []
   },
   "outputs": [
    {
     "name": "stdout",
     "output_type": "stream",
     "text": [
      "Model: \"model_8\"\n",
      "_________________________________________________________________\n",
      " Layer (type)                Output Shape              Param #   \n",
      "=================================================================\n",
      " input_1 (InputLayer)        [(None, 3, 37, 192)]      0         \n",
      "                                                                 \n",
      " model (Functional)          (None, 3, 37, 192)        1973888   \n",
      "                                                                 \n",
      " model_1 (Functional)        (None, 3, 37, 192)        1973888   \n",
      "                                                                 \n",
      " model_2 (Functional)        (None, 3, 37, 192)        1973888   \n",
      "                                                                 \n",
      " model_3 (Functional)        (None, 3, 37, 192)        1973888   \n",
      "                                                                 \n",
      " model_4 (Functional)        (None, 3, 37, 192)        1973888   \n",
      "                                                                 \n",
      " model_5 (Functional)        (None, 3, 37, 192)        1973888   \n",
      "                                                                 \n",
      " model_6 (Functional)        (None, 3, 37, 192)        1973888   \n",
      "                                                                 \n",
      " model_7 (Functional)        (None, 3, 37, 192)        1973888   \n",
      "                                                                 \n",
      " flatten (Flatten)           (None, 21312)             0         \n",
      "                                                                 \n",
      " dense_16 (Dense)            (None, 250)               5328250   \n",
      "                                                                 \n",
      "=================================================================\n",
      "Total params: 21,119,354\n",
      "Trainable params: 21,119,354\n",
      "Non-trainable params: 0\n",
      "_________________________________________________________________\n"
     ]
    }
   ],
   "source": [
    "model = create_spbt(input_shape=(3, 37, 192), num_classes=num_classes, num_heads=num_heads, ff_dim=ff_dim, dropout_rate=dropout_rate, num_encoders=num_encoders)\n",
    "model.compile(optimizer=optimizer, loss='sparse_categorical_crossentropy', metrics=['accuracy'])\n",
    "model.summary()"
   ]
  },
  {
   "cell_type": "code",
   "execution_count": null,
   "id": "1d911fe3-ddd6-48ef-9515-e22b36b1ee51",
   "metadata": {
    "colab": {
     "base_uri": "https://localhost:8080/"
    },
    "id": "1d911fe3-ddd6-48ef-9515-e22b36b1ee51",
    "outputId": "ecab4bd4-02cc-4e8e-9bd3-eedbf159fd31",
    "tags": []
   },
   "outputs": [
    {
     "name": "stderr",
     "output_type": "stream",
     "text": [
      "\u001b[34m\u001b[1mwandb\u001b[0m: \u001b[33mWARNING\u001b[0m The save_model argument by default saves the model in the HDF5 format that cannot save custom objects like subclassed models and custom layers. This behavior will be deprecated in a future release in favor of the SavedModel format. Meanwhile, the HDF5 model is saved as W&B files and the SavedModel as W&B Artifacts.\n"
     ]
    },
    {
     "name": "stdout",
     "output_type": "stream",
     "text": [
      "Epoch 1/100\n"
     ]
    },
    {
     "name": "stderr",
     "output_type": "stream",
     "text": [
      "2023-04-14 05:06:04.725870: I tensorflow/core/common_runtime/executor.cc:1197] [/device:CPU:0] (DEBUG INFO) Executor start aborting (this does not indicate an error and you can ignore this message): INVALID_ARGUMENT: You must feed a value for placeholder tensor 'Placeholder/_0' with dtype int32\n",
      "\t [[{{node Placeholder/_0}}]]\n",
      "2023-04-14 05:06:04.726128: I tensorflow/core/common_runtime/executor.cc:1197] [/device:CPU:0] (DEBUG INFO) Executor start aborting (this does not indicate an error and you can ignore this message): INVALID_ARGUMENT: You must feed a value for placeholder tensor 'Placeholder/_0' with dtype int32\n",
      "\t [[{{node Placeholder/_0}}]]\n",
      "2023-04-14 05:06:04.793419: I tensorflow/core/common_runtime/executor.cc:1197] [/device:CPU:0] (DEBUG INFO) Executor start aborting (this does not indicate an error and you can ignore this message): INVALID_ARGUMENT: You must feed a value for placeholder tensor 'Placeholder/_0' with dtype int32\n",
      "\t [[{{node Placeholder/_0}}]]\n",
      "2023-04-14 05:06:04.793716: I tensorflow/core/common_runtime/executor.cc:1197] [/device:CPU:0] (DEBUG INFO) Executor start aborting (this does not indicate an error and you can ignore this message): INVALID_ARGUMENT: You must feed a value for placeholder tensor 'Placeholder/_0' with dtype int32\n",
      "\t [[{{node Placeholder/_0}}]]\n",
      "2023-04-14 05:06:12.851039: E tensorflow/core/grappler/optimizers/meta_optimizer.cc:954] layout failed: INVALID_ARGUMENT: Size of values 0 does not match size of permutation 4 @ fanin shape inmodel_8/model/dropout_1/dropout/SelectV2-2-TransposeNHWCToNCHW-LayoutOptimizer\n",
      "2023-04-14 05:06:18.103275: I tensorflow/compiler/xla/stream_executor/cuda/cuda_blas.cc:637] TensorFloat-32 will be used for the matrix multiplication. This will only be logged once.\n",
      "2023-04-14 05:06:18.404609: I tensorflow/compiler/xla/service/service.cc:169] XLA service 0x7fba1d91a560 initialized for platform CUDA (this does not guarantee that XLA will be used). Devices:\n",
      "2023-04-14 05:06:18.404642: I tensorflow/compiler/xla/service/service.cc:177]   StreamExecutor device (0): NVIDIA A10G, Compute Capability 8.6\n",
      "2023-04-14 05:06:18.510023: I tensorflow/compiler/mlir/tensorflow/utils/dump_mlir_util.cc:269] disabling MLIR crash reproducer, set env var `MLIR_CRASH_REPRODUCER_DIRECTORY` to enable.\n",
      "2023-04-14 05:06:18.956855: I tensorflow/compiler/xla/stream_executor/cuda/cuda_dnn.cc:424] Loaded cuDNN version 8700\n",
      "2023-04-14 05:06:19.519016: I ./tensorflow/compiler/jit/device_compiler.h:180] Compiled cluster using XLA!  This line is logged at most once for the lifetime of the process.\n"
     ]
    },
    {
     "name": "stdout",
     "output_type": "stream",
     "text": [
      "   1180/Unknown - 185s 135ms/step - loss: 4.3421 - accuracy: 0.1340"
     ]
    },
    {
     "name": "stderr",
     "output_type": "stream",
     "text": [
      "2023-04-14 05:09:30.196304: I tensorflow/core/common_runtime/executor.cc:1197] [/device:CPU:0] (DEBUG INFO) Executor start aborting (this does not indicate an error and you can ignore this message): INVALID_ARGUMENT: You must feed a value for placeholder tensor 'inputs' with dtype float and shape [?,3,37,192]\n",
      "\t [[{{node inputs}}]]\n",
      "2023-04-14 05:09:30.209386: I tensorflow/core/common_runtime/executor.cc:1197] [/device:CPU:0] (DEBUG INFO) Executor start aborting (this does not indicate an error and you can ignore this message): INVALID_ARGUMENT: You must feed a value for placeholder tensor 'inputs' with dtype float and shape [?,3,37,192]\n",
      "\t [[{{node inputs}}]]\n",
      "2023-04-14 05:09:30.214063: I tensorflow/core/common_runtime/executor.cc:1197] [/device:CPU:0] (DEBUG INFO) Executor start aborting (this does not indicate an error and you can ignore this message): INVALID_ARGUMENT: You must feed a value for placeholder tensor 'inputs' with dtype float and shape [?,3,37,2048]\n",
      "\t [[{{node inputs}}]]\n",
      "2023-04-14 05:09:30.221670: I tensorflow/core/common_runtime/executor.cc:1197] [/device:CPU:0] (DEBUG INFO) Executor start aborting (this does not indicate an error and you can ignore this message): INVALID_ARGUMENT: You must feed a value for placeholder tensor 'inputs' with dtype float and shape [?,3,37,2048]\n",
      "\t [[{{node inputs}}]]\n",
      "2023-04-14 05:09:30.506589: I tensorflow/core/common_runtime/executor.cc:1197] [/device:CPU:0] (DEBUG INFO) Executor start aborting (this does not indicate an error and you can ignore this message): INVALID_ARGUMENT: You must feed a value for placeholder tensor 'inputs' with dtype float and shape [?,3,37,192]\n",
      "\t [[{{node inputs}}]]\n",
      "2023-04-14 05:09:30.520003: I tensorflow/core/common_runtime/executor.cc:1197] [/device:CPU:0] (DEBUG INFO) Executor start aborting (this does not indicate an error and you can ignore this message): INVALID_ARGUMENT: You must feed a value for placeholder tensor 'inputs' with dtype float and shape [?,3,37,192]\n",
      "\t [[{{node inputs}}]]\n",
      "2023-04-14 05:09:30.524791: I tensorflow/core/common_runtime/executor.cc:1197] [/device:CPU:0] (DEBUG INFO) Executor start aborting (this does not indicate an error and you can ignore this message): INVALID_ARGUMENT: You must feed a value for placeholder tensor 'inputs' with dtype float and shape [?,3,37,2048]\n",
      "\t [[{{node inputs}}]]\n",
      "2023-04-14 05:09:30.742074: I tensorflow/core/common_runtime/executor.cc:1197] [/device:CPU:0] (DEBUG INFO) Executor start aborting (this does not indicate an error and you can ignore this message): INVALID_ARGUMENT: You must feed a value for placeholder tensor 'inputs' with dtype float and shape [?,3,37,2048]\n",
      "\t [[{{node inputs}}]]\n",
      "2023-04-14 05:09:31.027729: I tensorflow/core/common_runtime/executor.cc:1197] [/device:CPU:0] (DEBUG INFO) Executor start aborting (this does not indicate an error and you can ignore this message): INVALID_ARGUMENT: You must feed a value for placeholder tensor 'inputs' with dtype float and shape [?,3,37,192]\n",
      "\t [[{{node inputs}}]]\n",
      "2023-04-14 05:09:31.041227: I tensorflow/core/common_runtime/executor.cc:1197] [/device:CPU:0] (DEBUG INFO) Executor start aborting (this does not indicate an error and you can ignore this message): INVALID_ARGUMENT: You must feed a value for placeholder tensor 'inputs' with dtype float and shape [?,3,37,192]\n",
      "\t [[{{node inputs}}]]\n",
      "2023-04-14 05:09:31.045803: I tensorflow/core/common_runtime/executor.cc:1197] [/device:CPU:0] (DEBUG INFO) Executor start aborting (this does not indicate an error and you can ignore this message): INVALID_ARGUMENT: You must feed a value for placeholder tensor 'inputs' with dtype float and shape [?,3,37,2048]\n",
      "\t [[{{node inputs}}]]\n",
      "2023-04-14 05:09:31.053597: I tensorflow/core/common_runtime/executor.cc:1197] [/device:CPU:0] (DEBUG INFO) Executor start aborting (this does not indicate an error and you can ignore this message): INVALID_ARGUMENT: You must feed a value for placeholder tensor 'inputs' with dtype float and shape [?,3,37,2048]\n",
      "\t [[{{node inputs}}]]\n",
      "2023-04-14 05:09:31.339955: I tensorflow/core/common_runtime/executor.cc:1197] [/device:CPU:0] (DEBUG INFO) Executor start aborting (this does not indicate an error and you can ignore this message): INVALID_ARGUMENT: You must feed a value for placeholder tensor 'inputs' with dtype float and shape [?,3,37,192]\n",
      "\t [[{{node inputs}}]]\n",
      "2023-04-14 05:09:31.352387: I tensorflow/core/common_runtime/executor.cc:1197] [/device:CPU:0] (DEBUG INFO) Executor start aborting (this does not indicate an error and you can ignore this message): INVALID_ARGUMENT: You must feed a value for placeholder tensor 'inputs' with dtype float and shape [?,3,37,192]\n",
      "\t [[{{node inputs}}]]\n",
      "2023-04-14 05:09:31.357106: I tensorflow/core/common_runtime/executor.cc:1197] [/device:CPU:0] (DEBUG INFO) Executor start aborting (this does not indicate an error and you can ignore this message): INVALID_ARGUMENT: You must feed a value for placeholder tensor 'inputs' with dtype float and shape [?,3,37,2048]\n",
      "\t [[{{node inputs}}]]\n",
      "2023-04-14 05:09:31.364686: I tensorflow/core/common_runtime/executor.cc:1197] [/device:CPU:0] (DEBUG INFO) Executor start aborting (this does not indicate an error and you can ignore this message): INVALID_ARGUMENT: You must feed a value for placeholder tensor 'inputs' with dtype float and shape [?,3,37,2048]\n",
      "\t [[{{node inputs}}]]\n",
      "2023-04-14 05:09:31.649011: I tensorflow/core/common_runtime/executor.cc:1197] [/device:CPU:0] (DEBUG INFO) Executor start aborting (this does not indicate an error and you can ignore this message): INVALID_ARGUMENT: You must feed a value for placeholder tensor 'inputs' with dtype float and shape [?,3,37,192]\n",
      "\t [[{{node inputs}}]]\n",
      "2023-04-14 05:09:31.661565: I tensorflow/core/common_runtime/executor.cc:1197] [/device:CPU:0] (DEBUG INFO) Executor start aborting (this does not indicate an error and you can ignore this message): INVALID_ARGUMENT: You must feed a value for placeholder tensor 'inputs' with dtype float and shape [?,3,37,192]\n",
      "\t [[{{node inputs}}]]\n",
      "2023-04-14 05:09:31.665961: I tensorflow/core/common_runtime/executor.cc:1197] [/device:CPU:0] (DEBUG INFO) Executor start aborting (this does not indicate an error and you can ignore this message): INVALID_ARGUMENT: You must feed a value for placeholder tensor 'inputs' with dtype float and shape [?,3,37,2048]\n",
      "\t [[{{node inputs}}]]\n",
      "2023-04-14 05:09:31.673509: I tensorflow/core/common_runtime/executor.cc:1197] [/device:CPU:0] (DEBUG INFO) Executor start aborting (this does not indicate an error and you can ignore this message): INVALID_ARGUMENT: You must feed a value for placeholder tensor 'inputs' with dtype float and shape [?,3,37,2048]\n",
      "\t [[{{node inputs}}]]\n",
      "2023-04-14 05:09:31.957468: I tensorflow/core/common_runtime/executor.cc:1197] [/device:CPU:0] (DEBUG INFO) Executor start aborting (this does not indicate an error and you can ignore this message): INVALID_ARGUMENT: You must feed a value for placeholder tensor 'inputs' with dtype float and shape [?,3,37,192]\n",
      "\t [[{{node inputs}}]]\n",
      "2023-04-14 05:09:31.970042: I tensorflow/core/common_runtime/executor.cc:1197] [/device:CPU:0] (DEBUG INFO) Executor start aborting (this does not indicate an error and you can ignore this message): INVALID_ARGUMENT: You must feed a value for placeholder tensor 'inputs' with dtype float and shape [?,3,37,192]\n",
      "\t [[{{node inputs}}]]\n",
      "2023-04-14 05:09:31.974611: I tensorflow/core/common_runtime/executor.cc:1197] [/device:CPU:0] (DEBUG INFO) Executor start aborting (this does not indicate an error and you can ignore this message): INVALID_ARGUMENT: You must feed a value for placeholder tensor 'inputs' with dtype float and shape [?,3,37,2048]\n",
      "\t [[{{node inputs}}]]\n",
      "2023-04-14 05:09:31.982424: I tensorflow/core/common_runtime/executor.cc:1197] [/device:CPU:0] (DEBUG INFO) Executor start aborting (this does not indicate an error and you can ignore this message): INVALID_ARGUMENT: You must feed a value for placeholder tensor 'inputs' with dtype float and shape [?,3,37,2048]\n",
      "\t [[{{node inputs}}]]\n",
      "2023-04-14 05:09:32.269337: I tensorflow/core/common_runtime/executor.cc:1197] [/device:CPU:0] (DEBUG INFO) Executor start aborting (this does not indicate an error and you can ignore this message): INVALID_ARGUMENT: You must feed a value for placeholder tensor 'inputs' with dtype float and shape [?,3,37,192]\n",
      "\t [[{{node inputs}}]]\n",
      "2023-04-14 05:09:32.281460: I tensorflow/core/common_runtime/executor.cc:1197] [/device:CPU:0] (DEBUG INFO) Executor start aborting (this does not indicate an error and you can ignore this message): INVALID_ARGUMENT: You must feed a value for placeholder tensor 'inputs' with dtype float and shape [?,3,37,192]\n",
      "\t [[{{node inputs}}]]\n",
      "2023-04-14 05:09:32.285904: I tensorflow/core/common_runtime/executor.cc:1197] [/device:CPU:0] (DEBUG INFO) Executor start aborting (this does not indicate an error and you can ignore this message): INVALID_ARGUMENT: You must feed a value for placeholder tensor 'inputs' with dtype float and shape [?,3,37,2048]\n",
      "\t [[{{node inputs}}]]\n",
      "2023-04-14 05:09:32.293385: I tensorflow/core/common_runtime/executor.cc:1197] [/device:CPU:0] (DEBUG INFO) Executor start aborting (this does not indicate an error and you can ignore this message): INVALID_ARGUMENT: You must feed a value for placeholder tensor 'inputs' with dtype float and shape [?,3,37,2048]\n",
      "\t [[{{node inputs}}]]\n",
      "2023-04-14 05:09:32.578283: I tensorflow/core/common_runtime/executor.cc:1197] [/device:CPU:0] (DEBUG INFO) Executor start aborting (this does not indicate an error and you can ignore this message): INVALID_ARGUMENT: You must feed a value for placeholder tensor 'inputs' with dtype float and shape [?,3,37,192]\n",
      "\t [[{{node inputs}}]]\n",
      "2023-04-14 05:09:32.590494: I tensorflow/core/common_runtime/executor.cc:1197] [/device:CPU:0] (DEBUG INFO) Executor start aborting (this does not indicate an error and you can ignore this message): INVALID_ARGUMENT: You must feed a value for placeholder tensor 'inputs' with dtype float and shape [?,3,37,192]\n",
      "\t [[{{node inputs}}]]\n",
      "2023-04-14 05:09:32.595172: I tensorflow/core/common_runtime/executor.cc:1197] [/device:CPU:0] (DEBUG INFO) Executor start aborting (this does not indicate an error and you can ignore this message): INVALID_ARGUMENT: You must feed a value for placeholder tensor 'inputs' with dtype float and shape [?,3,37,2048]\n",
      "\t [[{{node inputs}}]]\n",
      "2023-04-14 05:09:32.602670: I tensorflow/core/common_runtime/executor.cc:1197] [/device:CPU:0] (DEBUG INFO) Executor start aborting (this does not indicate an error and you can ignore this message): INVALID_ARGUMENT: You must feed a value for placeholder tensor 'inputs' with dtype float and shape [?,3,37,2048]\n",
      "\t [[{{node inputs}}]]\n",
      "2023-04-14 05:09:37.341700: I tensorflow/core/common_runtime/executor.cc:1197] [/device:CPU:0] (DEBUG INFO) Executor start aborting (this does not indicate an error and you can ignore this message): INVALID_ARGUMENT: You must feed a value for placeholder tensor 'inputs' with dtype float and shape [?,3,37,192]\n",
      "\t [[{{node inputs}}]]\n",
      "2023-04-14 05:09:37.375526: I tensorflow/core/common_runtime/executor.cc:1197] [/device:CPU:0] (DEBUG INFO) Executor start aborting (this does not indicate an error and you can ignore this message): INVALID_ARGUMENT: You must feed a value for placeholder tensor 'inputs' with dtype float and shape [?,3,37,192]\n",
      "\t [[{{node inputs}}]]\n",
      "2023-04-14 05:09:37.395290: I tensorflow/core/common_runtime/executor.cc:1197] [/device:CPU:0] (DEBUG INFO) Executor start aborting (this does not indicate an error and you can ignore this message): INVALID_ARGUMENT: You must feed a value for placeholder tensor 'inputs' with dtype float and shape [?,3,37,2048]\n",
      "\t [[{{node inputs}}]]\n",
      "2023-04-14 05:09:37.412991: I tensorflow/core/common_runtime/executor.cc:1197] [/device:CPU:0] (DEBUG INFO) Executor start aborting (this does not indicate an error and you can ignore this message): INVALID_ARGUMENT: You must feed a value for placeholder tensor 'inputs' with dtype float and shape [?,3,37,2048]\n",
      "\t [[{{node inputs}}]]\n",
      "2023-04-14 05:09:37.517778: I tensorflow/core/common_runtime/executor.cc:1197] [/device:CPU:0] (DEBUG INFO) Executor start aborting (this does not indicate an error and you can ignore this message): INVALID_ARGUMENT: You must feed a value for placeholder tensor 'inputs' with dtype float and shape [?,3,37,192]\n",
      "\t [[{{node inputs}}]]\n",
      "2023-04-14 05:09:37.553261: I tensorflow/core/common_runtime/executor.cc:1197] [/device:CPU:0] (DEBUG INFO) Executor start aborting (this does not indicate an error and you can ignore this message): INVALID_ARGUMENT: You must feed a value for placeholder tensor 'inputs' with dtype float and shape [?,3,37,192]\n",
      "\t [[{{node inputs}}]]\n",
      "2023-04-14 05:09:37.573122: I tensorflow/core/common_runtime/executor.cc:1197] [/device:CPU:0] (DEBUG INFO) Executor start aborting (this does not indicate an error and you can ignore this message): INVALID_ARGUMENT: You must feed a value for placeholder tensor 'inputs' with dtype float and shape [?,3,37,2048]\n",
      "\t [[{{node inputs}}]]\n",
      "2023-04-14 05:09:37.590879: I tensorflow/core/common_runtime/executor.cc:1197] [/device:CPU:0] (DEBUG INFO) Executor start aborting (this does not indicate an error and you can ignore this message): INVALID_ARGUMENT: You must feed a value for placeholder tensor 'inputs' with dtype float and shape [?,3,37,2048]\n",
      "\t [[{{node inputs}}]]\n",
      "2023-04-14 05:09:37.695652: I tensorflow/core/common_runtime/executor.cc:1197] [/device:CPU:0] (DEBUG INFO) Executor start aborting (this does not indicate an error and you can ignore this message): INVALID_ARGUMENT: You must feed a value for placeholder tensor 'inputs' with dtype float and shape [?,3,37,192]\n",
      "\t [[{{node inputs}}]]\n",
      "2023-04-14 05:09:37.728675: I tensorflow/core/common_runtime/executor.cc:1197] [/device:CPU:0] (DEBUG INFO) Executor start aborting (this does not indicate an error and you can ignore this message): INVALID_ARGUMENT: You must feed a value for placeholder tensor 'inputs' with dtype float and shape [?,3,37,192]\n",
      "\t [[{{node inputs}}]]\n",
      "2023-04-14 05:09:37.749013: I tensorflow/core/common_runtime/executor.cc:1197] [/device:CPU:0] (DEBUG INFO) Executor start aborting (this does not indicate an error and you can ignore this message): INVALID_ARGUMENT: You must feed a value for placeholder tensor 'inputs' with dtype float and shape [?,3,37,2048]\n",
      "\t [[{{node inputs}}]]\n",
      "2023-04-14 05:09:37.767548: I tensorflow/core/common_runtime/executor.cc:1197] [/device:CPU:0] (DEBUG INFO) Executor start aborting (this does not indicate an error and you can ignore this message): INVALID_ARGUMENT: You must feed a value for placeholder tensor 'inputs' with dtype float and shape [?,3,37,2048]\n",
      "\t [[{{node inputs}}]]\n",
      "2023-04-14 05:09:37.870061: I tensorflow/core/common_runtime/executor.cc:1197] [/device:CPU:0] (DEBUG INFO) Executor start aborting (this does not indicate an error and you can ignore this message): INVALID_ARGUMENT: You must feed a value for placeholder tensor 'inputs' with dtype float and shape [?,3,37,192]\n",
      "\t [[{{node inputs}}]]\n",
      "2023-04-14 05:09:37.902752: I tensorflow/core/common_runtime/executor.cc:1197] [/device:CPU:0] (DEBUG INFO) Executor start aborting (this does not indicate an error and you can ignore this message): INVALID_ARGUMENT: You must feed a value for placeholder tensor 'inputs' with dtype float and shape [?,3,37,192]\n",
      "\t [[{{node inputs}}]]\n",
      "2023-04-14 05:09:37.921860: I tensorflow/core/common_runtime/executor.cc:1197] [/device:CPU:0] (DEBUG INFO) Executor start aborting (this does not indicate an error and you can ignore this message): INVALID_ARGUMENT: You must feed a value for placeholder tensor 'inputs' with dtype float and shape [?,3,37,2048]\n",
      "\t [[{{node inputs}}]]\n",
      "2023-04-14 05:09:37.939306: I tensorflow/core/common_runtime/executor.cc:1197] [/device:CPU:0] (DEBUG INFO) Executor start aborting (this does not indicate an error and you can ignore this message): INVALID_ARGUMENT: You must feed a value for placeholder tensor 'inputs' with dtype float and shape [?,3,37,2048]\n",
      "\t [[{{node inputs}}]]\n",
      "2023-04-14 05:09:38.046913: I tensorflow/core/common_runtime/executor.cc:1197] [/device:CPU:0] (DEBUG INFO) Executor start aborting (this does not indicate an error and you can ignore this message): INVALID_ARGUMENT: You must feed a value for placeholder tensor 'inputs' with dtype float and shape [?,3,37,192]\n",
      "\t [[{{node inputs}}]]\n",
      "2023-04-14 05:09:38.080574: I tensorflow/core/common_runtime/executor.cc:1197] [/device:CPU:0] (DEBUG INFO) Executor start aborting (this does not indicate an error and you can ignore this message): INVALID_ARGUMENT: You must feed a value for placeholder tensor 'inputs' with dtype float and shape [?,3,37,192]\n",
      "\t [[{{node inputs}}]]\n",
      "2023-04-14 05:09:38.100462: I tensorflow/core/common_runtime/executor.cc:1197] [/device:CPU:0] (DEBUG INFO) Executor start aborting (this does not indicate an error and you can ignore this message): INVALID_ARGUMENT: You must feed a value for placeholder tensor 'inputs' with dtype float and shape [?,3,37,2048]\n",
      "\t [[{{node inputs}}]]\n",
      "2023-04-14 05:09:38.118270: I tensorflow/core/common_runtime/executor.cc:1197] [/device:CPU:0] (DEBUG INFO) Executor start aborting (this does not indicate an error and you can ignore this message): INVALID_ARGUMENT: You must feed a value for placeholder tensor 'inputs' with dtype float and shape [?,3,37,2048]\n",
      "\t [[{{node inputs}}]]\n",
      "2023-04-14 05:09:38.223611: I tensorflow/core/common_runtime/executor.cc:1197] [/device:CPU:0] (DEBUG INFO) Executor start aborting (this does not indicate an error and you can ignore this message): INVALID_ARGUMENT: You must feed a value for placeholder tensor 'inputs' with dtype float and shape [?,3,37,192]\n",
      "\t [[{{node inputs}}]]\n",
      "2023-04-14 05:09:38.257859: I tensorflow/core/common_runtime/executor.cc:1197] [/device:CPU:0] (DEBUG INFO) Executor start aborting (this does not indicate an error and you can ignore this message): INVALID_ARGUMENT: You must feed a value for placeholder tensor 'inputs' with dtype float and shape [?,3,37,192]\n",
      "\t [[{{node inputs}}]]\n",
      "2023-04-14 05:09:38.278072: I tensorflow/core/common_runtime/executor.cc:1197] [/device:CPU:0] (DEBUG INFO) Executor start aborting (this does not indicate an error and you can ignore this message): INVALID_ARGUMENT: You must feed a value for placeholder tensor 'inputs' with dtype float and shape [?,3,37,2048]\n",
      "\t [[{{node inputs}}]]\n",
      "2023-04-14 05:09:38.295820: I tensorflow/core/common_runtime/executor.cc:1197] [/device:CPU:0] (DEBUG INFO) Executor start aborting (this does not indicate an error and you can ignore this message): INVALID_ARGUMENT: You must feed a value for placeholder tensor 'inputs' with dtype float and shape [?,3,37,2048]\n",
      "\t [[{{node inputs}}]]\n",
      "2023-04-14 05:09:38.400651: I tensorflow/core/common_runtime/executor.cc:1197] [/device:CPU:0] (DEBUG INFO) Executor start aborting (this does not indicate an error and you can ignore this message): INVALID_ARGUMENT: You must feed a value for placeholder tensor 'inputs' with dtype float and shape [?,3,37,192]\n",
      "\t [[{{node inputs}}]]\n",
      "2023-04-14 05:09:38.434740: I tensorflow/core/common_runtime/executor.cc:1197] [/device:CPU:0] (DEBUG INFO) Executor start aborting (this does not indicate an error and you can ignore this message): INVALID_ARGUMENT: You must feed a value for placeholder tensor 'inputs' with dtype float and shape [?,3,37,192]\n",
      "\t [[{{node inputs}}]]\n",
      "2023-04-14 05:09:38.454501: I tensorflow/core/common_runtime/executor.cc:1197] [/device:CPU:0] (DEBUG INFO) Executor start aborting (this does not indicate an error and you can ignore this message): INVALID_ARGUMENT: You must feed a value for placeholder tensor 'inputs' with dtype float and shape [?,3,37,2048]\n",
      "\t [[{{node inputs}}]]\n",
      "2023-04-14 05:09:38.474062: I tensorflow/core/common_runtime/executor.cc:1197] [/device:CPU:0] (DEBUG INFO) Executor start aborting (this does not indicate an error and you can ignore this message): INVALID_ARGUMENT: You must feed a value for placeholder tensor 'inputs' with dtype float and shape [?,3,37,2048]\n",
      "\t [[{{node inputs}}]]\n",
      "2023-04-14 05:09:38.578306: I tensorflow/core/common_runtime/executor.cc:1197] [/device:CPU:0] (DEBUG INFO) Executor start aborting (this does not indicate an error and you can ignore this message): INVALID_ARGUMENT: You must feed a value for placeholder tensor 'inputs' with dtype float and shape [?,3,37,192]\n",
      "\t [[{{node inputs}}]]\n",
      "2023-04-14 05:09:38.611333: I tensorflow/core/common_runtime/executor.cc:1197] [/device:CPU:0] (DEBUG INFO) Executor start aborting (this does not indicate an error and you can ignore this message): INVALID_ARGUMENT: You must feed a value for placeholder tensor 'inputs' with dtype float and shape [?,3,37,192]\n",
      "\t [[{{node inputs}}]]\n",
      "2023-04-14 05:09:38.631805: I tensorflow/core/common_runtime/executor.cc:1197] [/device:CPU:0] (DEBUG INFO) Executor start aborting (this does not indicate an error and you can ignore this message): INVALID_ARGUMENT: You must feed a value for placeholder tensor 'inputs' with dtype float and shape [?,3,37,2048]\n",
      "\t [[{{node inputs}}]]\n",
      "2023-04-14 05:09:38.649702: I tensorflow/core/common_runtime/executor.cc:1197] [/device:CPU:0] (DEBUG INFO) Executor start aborting (this does not indicate an error and you can ignore this message): INVALID_ARGUMENT: You must feed a value for placeholder tensor 'inputs' with dtype float and shape [?,3,37,2048]\n",
      "\t [[{{node inputs}}]]\n",
      "WARNING:absl:Found untraced functions such as query_layer_call_fn, query_layer_call_and_return_conditional_losses, key_layer_call_fn, key_layer_call_and_return_conditional_losses, value_layer_call_fn while saving (showing 5 of 96). These functions will not be directly callable after loading.\n"
     ]
    },
    {
     "name": "stdout",
     "output_type": "stream",
     "text": [
      "INFO:tensorflow:Assets written to: /home/ec2-user/isolated-sign-language-recognition/Model_2/wandb/run-20230414_050533-dsbi0duh/files/model-best/assets\n"
     ]
    },
    {
     "name": "stderr",
     "output_type": "stream",
     "text": [
      "INFO:tensorflow:Assets written to: /home/ec2-user/isolated-sign-language-recognition/Model_2/wandb/run-20230414_050533-dsbi0duh/files/model-best/assets\n",
      "\u001b[34m\u001b[1mwandb\u001b[0m: Adding directory to artifact (/home/ec2-user/isolated-sign-language-recognition/Model_2/wandb/run-20230414_050533-dsbi0duh/files/model-best)... Done. 0.5s\n"
     ]
    },
    {
     "name": "stdout",
     "output_type": "stream",
     "text": [
      "1180/1180 [==============================] - 219s 164ms/step - loss: 4.3421 - accuracy: 0.1340 - val_loss: 2.8066 - val_accuracy: 0.3462\n",
      "Epoch 2/100\n",
      "1180/1180 [==============================] - ETA: 0s - loss: 2.3626 - accuracy: 0.4321"
     ]
    },
    {
     "name": "stderr",
     "output_type": "stream",
     "text": [
      "2023-04-14 05:12:45.615562: I tensorflow/core/common_runtime/executor.cc:1197] [/device:CPU:0] (DEBUG INFO) Executor start aborting (this does not indicate an error and you can ignore this message): INVALID_ARGUMENT: You must feed a value for placeholder tensor 'inputs' with dtype float and shape [?,3,37,192]\n",
      "\t [[{{node inputs}}]]\n",
      "2023-04-14 05:12:45.628330: I tensorflow/core/common_runtime/executor.cc:1197] [/device:CPU:0] (DEBUG INFO) Executor start aborting (this does not indicate an error and you can ignore this message): INVALID_ARGUMENT: You must feed a value for placeholder tensor 'inputs' with dtype float and shape [?,3,37,192]\n",
      "\t [[{{node inputs}}]]\n",
      "2023-04-14 05:12:45.632885: I tensorflow/core/common_runtime/executor.cc:1197] [/device:CPU:0] (DEBUG INFO) Executor start aborting (this does not indicate an error and you can ignore this message): INVALID_ARGUMENT: You must feed a value for placeholder tensor 'inputs' with dtype float and shape [?,3,37,2048]\n",
      "\t [[{{node inputs}}]]\n",
      "2023-04-14 05:12:45.640726: I tensorflow/core/common_runtime/executor.cc:1197] [/device:CPU:0] (DEBUG INFO) Executor start aborting (this does not indicate an error and you can ignore this message): INVALID_ARGUMENT: You must feed a value for placeholder tensor 'inputs' with dtype float and shape [?,3,37,2048]\n",
      "\t [[{{node inputs}}]]\n",
      "2023-04-14 05:12:45.930413: I tensorflow/core/common_runtime/executor.cc:1197] [/device:CPU:0] (DEBUG INFO) Executor start aborting (this does not indicate an error and you can ignore this message): INVALID_ARGUMENT: You must feed a value for placeholder tensor 'inputs' with dtype float and shape [?,3,37,192]\n",
      "\t [[{{node inputs}}]]\n",
      "2023-04-14 05:12:45.942926: I tensorflow/core/common_runtime/executor.cc:1197] [/device:CPU:0] (DEBUG INFO) Executor start aborting (this does not indicate an error and you can ignore this message): INVALID_ARGUMENT: You must feed a value for placeholder tensor 'inputs' with dtype float and shape [?,3,37,192]\n",
      "\t [[{{node inputs}}]]\n",
      "2023-04-14 05:12:45.947500: I tensorflow/core/common_runtime/executor.cc:1197] [/device:CPU:0] (DEBUG INFO) Executor start aborting (this does not indicate an error and you can ignore this message): INVALID_ARGUMENT: You must feed a value for placeholder tensor 'inputs' with dtype float and shape [?,3,37,2048]\n",
      "\t [[{{node inputs}}]]\n",
      "2023-04-14 05:12:45.955326: I tensorflow/core/common_runtime/executor.cc:1197] [/device:CPU:0] (DEBUG INFO) Executor start aborting (this does not indicate an error and you can ignore this message): INVALID_ARGUMENT: You must feed a value for placeholder tensor 'inputs' with dtype float and shape [?,3,37,2048]\n",
      "\t [[{{node inputs}}]]\n",
      "2023-04-14 05:12:46.243372: I tensorflow/core/common_runtime/executor.cc:1197] [/device:CPU:0] (DEBUG INFO) Executor start aborting (this does not indicate an error and you can ignore this message): INVALID_ARGUMENT: You must feed a value for placeholder tensor 'inputs' with dtype float and shape [?,3,37,192]\n",
      "\t [[{{node inputs}}]]\n",
      "2023-04-14 05:12:46.256005: I tensorflow/core/common_runtime/executor.cc:1197] [/device:CPU:0] (DEBUG INFO) Executor start aborting (this does not indicate an error and you can ignore this message): INVALID_ARGUMENT: You must feed a value for placeholder tensor 'inputs' with dtype float and shape [?,3,37,192]\n",
      "\t [[{{node inputs}}]]\n",
      "2023-04-14 05:12:46.260540: I tensorflow/core/common_runtime/executor.cc:1197] [/device:CPU:0] (DEBUG INFO) Executor start aborting (this does not indicate an error and you can ignore this message): INVALID_ARGUMENT: You must feed a value for placeholder tensor 'inputs' with dtype float and shape [?,3,37,2048]\n",
      "\t [[{{node inputs}}]]\n",
      "2023-04-14 05:12:46.268329: I tensorflow/core/common_runtime/executor.cc:1197] [/device:CPU:0] (DEBUG INFO) Executor start aborting (this does not indicate an error and you can ignore this message): INVALID_ARGUMENT: You must feed a value for placeholder tensor 'inputs' with dtype float and shape [?,3,37,2048]\n",
      "\t [[{{node inputs}}]]\n",
      "2023-04-14 05:12:47.016187: I tensorflow/core/common_runtime/executor.cc:1197] [/device:CPU:0] (DEBUG INFO) Executor start aborting (this does not indicate an error and you can ignore this message): INVALID_ARGUMENT: You must feed a value for placeholder tensor 'inputs' with dtype float and shape [?,3,37,192]\n",
      "\t [[{{node inputs}}]]\n",
      "2023-04-14 05:12:47.028406: I tensorflow/core/common_runtime/executor.cc:1197] [/device:CPU:0] (DEBUG INFO) Executor start aborting (this does not indicate an error and you can ignore this message): INVALID_ARGUMENT: You must feed a value for placeholder tensor 'inputs' with dtype float and shape [?,3,37,192]\n",
      "\t [[{{node inputs}}]]\n",
      "2023-04-14 05:12:47.033130: I tensorflow/core/common_runtime/executor.cc:1197] [/device:CPU:0] (DEBUG INFO) Executor start aborting (this does not indicate an error and you can ignore this message): INVALID_ARGUMENT: You must feed a value for placeholder tensor 'inputs' with dtype float and shape [?,3,37,2048]\n",
      "\t [[{{node inputs}}]]\n",
      "2023-04-14 05:12:47.040847: I tensorflow/core/common_runtime/executor.cc:1197] [/device:CPU:0] (DEBUG INFO) Executor start aborting (this does not indicate an error and you can ignore this message): INVALID_ARGUMENT: You must feed a value for placeholder tensor 'inputs' with dtype float and shape [?,3,37,2048]\n",
      "\t [[{{node inputs}}]]\n",
      "2023-04-14 05:12:47.329862: I tensorflow/core/common_runtime/executor.cc:1197] [/device:CPU:0] (DEBUG INFO) Executor start aborting (this does not indicate an error and you can ignore this message): INVALID_ARGUMENT: You must feed a value for placeholder tensor 'inputs' with dtype float and shape [?,3,37,192]\n",
      "\t [[{{node inputs}}]]\n",
      "2023-04-14 05:12:47.342340: I tensorflow/core/common_runtime/executor.cc:1197] [/device:CPU:0] (DEBUG INFO) Executor start aborting (this does not indicate an error and you can ignore this message): INVALID_ARGUMENT: You must feed a value for placeholder tensor 'inputs' with dtype float and shape [?,3,37,192]\n",
      "\t [[{{node inputs}}]]\n",
      "2023-04-14 05:12:47.346785: I tensorflow/core/common_runtime/executor.cc:1197] [/device:CPU:0] (DEBUG INFO) Executor start aborting (this does not indicate an error and you can ignore this message): INVALID_ARGUMENT: You must feed a value for placeholder tensor 'inputs' with dtype float and shape [?,3,37,2048]\n",
      "\t [[{{node inputs}}]]\n",
      "2023-04-14 05:12:47.354592: I tensorflow/core/common_runtime/executor.cc:1197] [/device:CPU:0] (DEBUG INFO) Executor start aborting (this does not indicate an error and you can ignore this message): INVALID_ARGUMENT: You must feed a value for placeholder tensor 'inputs' with dtype float and shape [?,3,37,2048]\n",
      "\t [[{{node inputs}}]]\n",
      "2023-04-14 05:12:47.641243: I tensorflow/core/common_runtime/executor.cc:1197] [/device:CPU:0] (DEBUG INFO) Executor start aborting (this does not indicate an error and you can ignore this message): INVALID_ARGUMENT: You must feed a value for placeholder tensor 'inputs' with dtype float and shape [?,3,37,192]\n",
      "\t [[{{node inputs}}]]\n",
      "2023-04-14 05:12:47.653525: I tensorflow/core/common_runtime/executor.cc:1197] [/device:CPU:0] (DEBUG INFO) Executor start aborting (this does not indicate an error and you can ignore this message): INVALID_ARGUMENT: You must feed a value for placeholder tensor 'inputs' with dtype float and shape [?,3,37,192]\n",
      "\t [[{{node inputs}}]]\n",
      "2023-04-14 05:12:47.658185: I tensorflow/core/common_runtime/executor.cc:1197] [/device:CPU:0] (DEBUG INFO) Executor start aborting (this does not indicate an error and you can ignore this message): INVALID_ARGUMENT: You must feed a value for placeholder tensor 'inputs' with dtype float and shape [?,3,37,2048]\n",
      "\t [[{{node inputs}}]]\n",
      "2023-04-14 05:12:47.665747: I tensorflow/core/common_runtime/executor.cc:1197] [/device:CPU:0] (DEBUG INFO) Executor start aborting (this does not indicate an error and you can ignore this message): INVALID_ARGUMENT: You must feed a value for placeholder tensor 'inputs' with dtype float and shape [?,3,37,2048]\n",
      "\t [[{{node inputs}}]]\n",
      "2023-04-14 05:12:47.951575: I tensorflow/core/common_runtime/executor.cc:1197] [/device:CPU:0] (DEBUG INFO) Executor start aborting (this does not indicate an error and you can ignore this message): INVALID_ARGUMENT: You must feed a value for placeholder tensor 'inputs' with dtype float and shape [?,3,37,192]\n",
      "\t [[{{node inputs}}]]\n",
      "2023-04-14 05:12:47.964273: I tensorflow/core/common_runtime/executor.cc:1197] [/device:CPU:0] (DEBUG INFO) Executor start aborting (this does not indicate an error and you can ignore this message): INVALID_ARGUMENT: You must feed a value for placeholder tensor 'inputs' with dtype float and shape [?,3,37,192]\n",
      "\t [[{{node inputs}}]]\n",
      "2023-04-14 05:12:47.969058: I tensorflow/core/common_runtime/executor.cc:1197] [/device:CPU:0] (DEBUG INFO) Executor start aborting (this does not indicate an error and you can ignore this message): INVALID_ARGUMENT: You must feed a value for placeholder tensor 'inputs' with dtype float and shape [?,3,37,2048]\n",
      "\t [[{{node inputs}}]]\n",
      "2023-04-14 05:12:47.976728: I tensorflow/core/common_runtime/executor.cc:1197] [/device:CPU:0] (DEBUG INFO) Executor start aborting (this does not indicate an error and you can ignore this message): INVALID_ARGUMENT: You must feed a value for placeholder tensor 'inputs' with dtype float and shape [?,3,37,2048]\n",
      "\t [[{{node inputs}}]]\n",
      "2023-04-14 05:12:48.262539: I tensorflow/core/common_runtime/executor.cc:1197] [/device:CPU:0] (DEBUG INFO) Executor start aborting (this does not indicate an error and you can ignore this message): INVALID_ARGUMENT: You must feed a value for placeholder tensor 'inputs' with dtype float and shape [?,3,37,192]\n",
      "\t [[{{node inputs}}]]\n",
      "2023-04-14 05:12:48.275019: I tensorflow/core/common_runtime/executor.cc:1197] [/device:CPU:0] (DEBUG INFO) Executor start aborting (this does not indicate an error and you can ignore this message): INVALID_ARGUMENT: You must feed a value for placeholder tensor 'inputs' with dtype float and shape [?,3,37,192]\n",
      "\t [[{{node inputs}}]]\n",
      "2023-04-14 05:12:48.279560: I tensorflow/core/common_runtime/executor.cc:1197] [/device:CPU:0] (DEBUG INFO) Executor start aborting (this does not indicate an error and you can ignore this message): INVALID_ARGUMENT: You must feed a value for placeholder tensor 'inputs' with dtype float and shape [?,3,37,2048]\n",
      "\t [[{{node inputs}}]]\n",
      "2023-04-14 05:12:48.287283: I tensorflow/core/common_runtime/executor.cc:1197] [/device:CPU:0] (DEBUG INFO) Executor start aborting (this does not indicate an error and you can ignore this message): INVALID_ARGUMENT: You must feed a value for placeholder tensor 'inputs' with dtype float and shape [?,3,37,2048]\n",
      "\t [[{{node inputs}}]]\n",
      "2023-04-14 05:12:52.249221: I tensorflow/core/common_runtime/executor.cc:1197] [/device:CPU:0] (DEBUG INFO) Executor start aborting (this does not indicate an error and you can ignore this message): INVALID_ARGUMENT: You must feed a value for placeholder tensor 'inputs' with dtype float and shape [?,3,37,192]\n",
      "\t [[{{node inputs}}]]\n",
      "2023-04-14 05:12:52.282708: I tensorflow/core/common_runtime/executor.cc:1197] [/device:CPU:0] (DEBUG INFO) Executor start aborting (this does not indicate an error and you can ignore this message): INVALID_ARGUMENT: You must feed a value for placeholder tensor 'inputs' with dtype float and shape [?,3,37,192]\n",
      "\t [[{{node inputs}}]]\n",
      "2023-04-14 05:12:52.301934: I tensorflow/core/common_runtime/executor.cc:1197] [/device:CPU:0] (DEBUG INFO) Executor start aborting (this does not indicate an error and you can ignore this message): INVALID_ARGUMENT: You must feed a value for placeholder tensor 'inputs' with dtype float and shape [?,3,37,2048]\n",
      "\t [[{{node inputs}}]]\n",
      "2023-04-14 05:12:52.320237: I tensorflow/core/common_runtime/executor.cc:1197] [/device:CPU:0] (DEBUG INFO) Executor start aborting (this does not indicate an error and you can ignore this message): INVALID_ARGUMENT: You must feed a value for placeholder tensor 'inputs' with dtype float and shape [?,3,37,2048]\n",
      "\t [[{{node inputs}}]]\n",
      "2023-04-14 05:12:52.422924: I tensorflow/core/common_runtime/executor.cc:1197] [/device:CPU:0] (DEBUG INFO) Executor start aborting (this does not indicate an error and you can ignore this message): INVALID_ARGUMENT: You must feed a value for placeholder tensor 'inputs' with dtype float and shape [?,3,37,192]\n",
      "\t [[{{node inputs}}]]\n",
      "2023-04-14 05:12:52.456143: I tensorflow/core/common_runtime/executor.cc:1197] [/device:CPU:0] (DEBUG INFO) Executor start aborting (this does not indicate an error and you can ignore this message): INVALID_ARGUMENT: You must feed a value for placeholder tensor 'inputs' with dtype float and shape [?,3,37,192]\n",
      "\t [[{{node inputs}}]]\n",
      "2023-04-14 05:12:52.475766: I tensorflow/core/common_runtime/executor.cc:1197] [/device:CPU:0] (DEBUG INFO) Executor start aborting (this does not indicate an error and you can ignore this message): INVALID_ARGUMENT: You must feed a value for placeholder tensor 'inputs' with dtype float and shape [?,3,37,2048]\n",
      "\t [[{{node inputs}}]]\n",
      "2023-04-14 05:12:52.493124: I tensorflow/core/common_runtime/executor.cc:1197] [/device:CPU:0] (DEBUG INFO) Executor start aborting (this does not indicate an error and you can ignore this message): INVALID_ARGUMENT: You must feed a value for placeholder tensor 'inputs' with dtype float and shape [?,3,37,2048]\n",
      "\t [[{{node inputs}}]]\n",
      "2023-04-14 05:12:52.596408: I tensorflow/core/common_runtime/executor.cc:1197] [/device:CPU:0] (DEBUG INFO) Executor start aborting (this does not indicate an error and you can ignore this message): INVALID_ARGUMENT: You must feed a value for placeholder tensor 'inputs' with dtype float and shape [?,3,37,192]\n",
      "\t [[{{node inputs}}]]\n",
      "2023-04-14 05:12:52.628970: I tensorflow/core/common_runtime/executor.cc:1197] [/device:CPU:0] (DEBUG INFO) Executor start aborting (this does not indicate an error and you can ignore this message): INVALID_ARGUMENT: You must feed a value for placeholder tensor 'inputs' with dtype float and shape [?,3,37,192]\n",
      "\t [[{{node inputs}}]]\n",
      "2023-04-14 05:12:52.648177: I tensorflow/core/common_runtime/executor.cc:1197] [/device:CPU:0] (DEBUG INFO) Executor start aborting (this does not indicate an error and you can ignore this message): INVALID_ARGUMENT: You must feed a value for placeholder tensor 'inputs' with dtype float and shape [?,3,37,2048]\n",
      "\t [[{{node inputs}}]]\n",
      "2023-04-14 05:12:52.667486: I tensorflow/core/common_runtime/executor.cc:1197] [/device:CPU:0] (DEBUG INFO) Executor start aborting (this does not indicate an error and you can ignore this message): INVALID_ARGUMENT: You must feed a value for placeholder tensor 'inputs' with dtype float and shape [?,3,37,2048]\n",
      "\t [[{{node inputs}}]]\n",
      "2023-04-14 05:12:52.770736: I tensorflow/core/common_runtime/executor.cc:1197] [/device:CPU:0] (DEBUG INFO) Executor start aborting (this does not indicate an error and you can ignore this message): INVALID_ARGUMENT: You must feed a value for placeholder tensor 'inputs' with dtype float and shape [?,3,37,192]\n",
      "\t [[{{node inputs}}]]\n",
      "2023-04-14 05:12:52.804250: I tensorflow/core/common_runtime/executor.cc:1197] [/device:CPU:0] (DEBUG INFO) Executor start aborting (this does not indicate an error and you can ignore this message): INVALID_ARGUMENT: You must feed a value for placeholder tensor 'inputs' with dtype float and shape [?,3,37,192]\n",
      "\t [[{{node inputs}}]]\n",
      "2023-04-14 05:12:52.823526: I tensorflow/core/common_runtime/executor.cc:1197] [/device:CPU:0] (DEBUG INFO) Executor start aborting (this does not indicate an error and you can ignore this message): INVALID_ARGUMENT: You must feed a value for placeholder tensor 'inputs' with dtype float and shape [?,3,37,2048]\n",
      "\t [[{{node inputs}}]]\n",
      "2023-04-14 05:12:52.840963: I tensorflow/core/common_runtime/executor.cc:1197] [/device:CPU:0] (DEBUG INFO) Executor start aborting (this does not indicate an error and you can ignore this message): INVALID_ARGUMENT: You must feed a value for placeholder tensor 'inputs' with dtype float and shape [?,3,37,2048]\n",
      "\t [[{{node inputs}}]]\n",
      "2023-04-14 05:12:52.945540: I tensorflow/core/common_runtime/executor.cc:1197] [/device:CPU:0] (DEBUG INFO) Executor start aborting (this does not indicate an error and you can ignore this message): INVALID_ARGUMENT: You must feed a value for placeholder tensor 'inputs' with dtype float and shape [?,3,37,192]\n",
      "\t [[{{node inputs}}]]\n",
      "2023-04-14 05:12:52.978739: I tensorflow/core/common_runtime/executor.cc:1197] [/device:CPU:0] (DEBUG INFO) Executor start aborting (this does not indicate an error and you can ignore this message): INVALID_ARGUMENT: You must feed a value for placeholder tensor 'inputs' with dtype float and shape [?,3,37,192]\n",
      "\t [[{{node inputs}}]]\n",
      "2023-04-14 05:12:53.002143: I tensorflow/core/common_runtime/executor.cc:1197] [/device:CPU:0] (DEBUG INFO) Executor start aborting (this does not indicate an error and you can ignore this message): INVALID_ARGUMENT: You must feed a value for placeholder tensor 'inputs' with dtype float and shape [?,3,37,2048]\n",
      "\t [[{{node inputs}}]]\n",
      "2023-04-14 05:12:53.019669: I tensorflow/core/common_runtime/executor.cc:1197] [/device:CPU:0] (DEBUG INFO) Executor start aborting (this does not indicate an error and you can ignore this message): INVALID_ARGUMENT: You must feed a value for placeholder tensor 'inputs' with dtype float and shape [?,3,37,2048]\n",
      "\t [[{{node inputs}}]]\n",
      "2023-04-14 05:12:53.122919: I tensorflow/core/common_runtime/executor.cc:1197] [/device:CPU:0] (DEBUG INFO) Executor start aborting (this does not indicate an error and you can ignore this message): INVALID_ARGUMENT: You must feed a value for placeholder tensor 'inputs' with dtype float and shape [?,3,37,192]\n",
      "\t [[{{node inputs}}]]\n",
      "2023-04-14 05:12:53.156782: I tensorflow/core/common_runtime/executor.cc:1197] [/device:CPU:0] (DEBUG INFO) Executor start aborting (this does not indicate an error and you can ignore this message): INVALID_ARGUMENT: You must feed a value for placeholder tensor 'inputs' with dtype float and shape [?,3,37,192]\n",
      "\t [[{{node inputs}}]]\n",
      "2023-04-14 05:12:53.176448: I tensorflow/core/common_runtime/executor.cc:1197] [/device:CPU:0] (DEBUG INFO) Executor start aborting (this does not indicate an error and you can ignore this message): INVALID_ARGUMENT: You must feed a value for placeholder tensor 'inputs' with dtype float and shape [?,3,37,2048]\n",
      "\t [[{{node inputs}}]]\n",
      "2023-04-14 05:12:53.193886: I tensorflow/core/common_runtime/executor.cc:1197] [/device:CPU:0] (DEBUG INFO) Executor start aborting (this does not indicate an error and you can ignore this message): INVALID_ARGUMENT: You must feed a value for placeholder tensor 'inputs' with dtype float and shape [?,3,37,2048]\n",
      "\t [[{{node inputs}}]]\n",
      "2023-04-14 05:12:53.297332: I tensorflow/core/common_runtime/executor.cc:1197] [/device:CPU:0] (DEBUG INFO) Executor start aborting (this does not indicate an error and you can ignore this message): INVALID_ARGUMENT: You must feed a value for placeholder tensor 'inputs' with dtype float and shape [?,3,37,192]\n",
      "\t [[{{node inputs}}]]\n",
      "2023-04-14 05:12:53.329937: I tensorflow/core/common_runtime/executor.cc:1197] [/device:CPU:0] (DEBUG INFO) Executor start aborting (this does not indicate an error and you can ignore this message): INVALID_ARGUMENT: You must feed a value for placeholder tensor 'inputs' with dtype float and shape [?,3,37,192]\n",
      "\t [[{{node inputs}}]]\n",
      "2023-04-14 05:12:53.349241: I tensorflow/core/common_runtime/executor.cc:1197] [/device:CPU:0] (DEBUG INFO) Executor start aborting (this does not indicate an error and you can ignore this message): INVALID_ARGUMENT: You must feed a value for placeholder tensor 'inputs' with dtype float and shape [?,3,37,2048]\n",
      "\t [[{{node inputs}}]]\n",
      "2023-04-14 05:12:53.367938: I tensorflow/core/common_runtime/executor.cc:1197] [/device:CPU:0] (DEBUG INFO) Executor start aborting (this does not indicate an error and you can ignore this message): INVALID_ARGUMENT: You must feed a value for placeholder tensor 'inputs' with dtype float and shape [?,3,37,2048]\n",
      "\t [[{{node inputs}}]]\n",
      "2023-04-14 05:12:53.471491: I tensorflow/core/common_runtime/executor.cc:1197] [/device:CPU:0] (DEBUG INFO) Executor start aborting (this does not indicate an error and you can ignore this message): INVALID_ARGUMENT: You must feed a value for placeholder tensor 'inputs' with dtype float and shape [?,3,37,192]\n",
      "\t [[{{node inputs}}]]\n",
      "2023-04-14 05:12:53.503983: I tensorflow/core/common_runtime/executor.cc:1197] [/device:CPU:0] (DEBUG INFO) Executor start aborting (this does not indicate an error and you can ignore this message): INVALID_ARGUMENT: You must feed a value for placeholder tensor 'inputs' with dtype float and shape [?,3,37,192]\n",
      "\t [[{{node inputs}}]]\n",
      "2023-04-14 05:12:53.523391: I tensorflow/core/common_runtime/executor.cc:1197] [/device:CPU:0] (DEBUG INFO) Executor start aborting (this does not indicate an error and you can ignore this message): INVALID_ARGUMENT: You must feed a value for placeholder tensor 'inputs' with dtype float and shape [?,3,37,2048]\n",
      "\t [[{{node inputs}}]]\n",
      "2023-04-14 05:12:53.540662: I tensorflow/core/common_runtime/executor.cc:1197] [/device:CPU:0] (DEBUG INFO) Executor start aborting (this does not indicate an error and you can ignore this message): INVALID_ARGUMENT: You must feed a value for placeholder tensor 'inputs' with dtype float and shape [?,3,37,2048]\n",
      "\t [[{{node inputs}}]]\n",
      "WARNING:absl:Found untraced functions such as query_layer_call_fn, query_layer_call_and_return_conditional_losses, key_layer_call_fn, key_layer_call_and_return_conditional_losses, value_layer_call_fn while saving (showing 5 of 96). These functions will not be directly callable after loading.\n"
     ]
    },
    {
     "name": "stdout",
     "output_type": "stream",
     "text": [
      "INFO:tensorflow:Assets written to: /home/ec2-user/isolated-sign-language-recognition/Model_2/wandb/run-20230414_050533-dsbi0duh/files/model-best/assets\n"
     ]
    },
    {
     "name": "stderr",
     "output_type": "stream",
     "text": [
      "INFO:tensorflow:Assets written to: /home/ec2-user/isolated-sign-language-recognition/Model_2/wandb/run-20230414_050533-dsbi0duh/files/model-best/assets\n",
      "\u001b[34m\u001b[1mwandb\u001b[0m: Adding directory to artifact (/home/ec2-user/isolated-sign-language-recognition/Model_2/wandb/run-20230414_050533-dsbi0duh/files/model-best)... Done. 0.5s\n"
     ]
    },
    {
     "name": "stdout",
     "output_type": "stream",
     "text": [
      "1180/1180 [==============================] - 195s 164ms/step - loss: 2.3626 - accuracy: 0.4321 - val_loss: 2.0593 - val_accuracy: 0.5084\n",
      "Epoch 3/100\n",
      "1180/1180 [==============================] - ETA: 0s - loss: 1.7594 - accuracy: 0.5621"
     ]
    },
    {
     "name": "stderr",
     "output_type": "stream",
     "text": [
      "2023-04-14 05:16:01.635136: I tensorflow/core/common_runtime/executor.cc:1197] [/device:CPU:0] (DEBUG INFO) Executor start aborting (this does not indicate an error and you can ignore this message): INVALID_ARGUMENT: You must feed a value for placeholder tensor 'inputs' with dtype float and shape [?,3,37,192]\n",
      "\t [[{{node inputs}}]]\n",
      "2023-04-14 05:16:01.647422: I tensorflow/core/common_runtime/executor.cc:1197] [/device:CPU:0] (DEBUG INFO) Executor start aborting (this does not indicate an error and you can ignore this message): INVALID_ARGUMENT: You must feed a value for placeholder tensor 'inputs' with dtype float and shape [?,3,37,192]\n",
      "\t [[{{node inputs}}]]\n",
      "2023-04-14 05:16:01.652154: I tensorflow/core/common_runtime/executor.cc:1197] [/device:CPU:0] (DEBUG INFO) Executor start aborting (this does not indicate an error and you can ignore this message): INVALID_ARGUMENT: You must feed a value for placeholder tensor 'inputs' with dtype float and shape [?,3,37,2048]\n",
      "\t [[{{node inputs}}]]\n",
      "2023-04-14 05:16:01.659870: I tensorflow/core/common_runtime/executor.cc:1197] [/device:CPU:0] (DEBUG INFO) Executor start aborting (this does not indicate an error and you can ignore this message): INVALID_ARGUMENT: You must feed a value for placeholder tensor 'inputs' with dtype float and shape [?,3,37,2048]\n",
      "\t [[{{node inputs}}]]\n",
      "2023-04-14 05:16:01.950210: I tensorflow/core/common_runtime/executor.cc:1197] [/device:CPU:0] (DEBUG INFO) Executor start aborting (this does not indicate an error and you can ignore this message): INVALID_ARGUMENT: You must feed a value for placeholder tensor 'inputs' with dtype float and shape [?,3,37,192]\n",
      "\t [[{{node inputs}}]]\n",
      "2023-04-14 05:16:01.962691: I tensorflow/core/common_runtime/executor.cc:1197] [/device:CPU:0] (DEBUG INFO) Executor start aborting (this does not indicate an error and you can ignore this message): INVALID_ARGUMENT: You must feed a value for placeholder tensor 'inputs' with dtype float and shape [?,3,37,192]\n",
      "\t [[{{node inputs}}]]\n",
      "2023-04-14 05:16:01.967294: I tensorflow/core/common_runtime/executor.cc:1197] [/device:CPU:0] (DEBUG INFO) Executor start aborting (this does not indicate an error and you can ignore this message): INVALID_ARGUMENT: You must feed a value for placeholder tensor 'inputs' with dtype float and shape [?,3,37,2048]\n",
      "\t [[{{node inputs}}]]\n",
      "2023-04-14 05:16:01.975070: I tensorflow/core/common_runtime/executor.cc:1197] [/device:CPU:0] (DEBUG INFO) Executor start aborting (this does not indicate an error and you can ignore this message): INVALID_ARGUMENT: You must feed a value for placeholder tensor 'inputs' with dtype float and shape [?,3,37,2048]\n",
      "\t [[{{node inputs}}]]\n",
      "2023-04-14 05:16:02.264530: I tensorflow/core/common_runtime/executor.cc:1197] [/device:CPU:0] (DEBUG INFO) Executor start aborting (this does not indicate an error and you can ignore this message): INVALID_ARGUMENT: You must feed a value for placeholder tensor 'inputs' with dtype float and shape [?,3,37,192]\n",
      "\t [[{{node inputs}}]]\n",
      "2023-04-14 05:16:02.277135: I tensorflow/core/common_runtime/executor.cc:1197] [/device:CPU:0] (DEBUG INFO) Executor start aborting (this does not indicate an error and you can ignore this message): INVALID_ARGUMENT: You must feed a value for placeholder tensor 'inputs' with dtype float and shape [?,3,37,192]\n",
      "\t [[{{node inputs}}]]\n",
      "2023-04-14 05:16:02.281604: I tensorflow/core/common_runtime/executor.cc:1197] [/device:CPU:0] (DEBUG INFO) Executor start aborting (this does not indicate an error and you can ignore this message): INVALID_ARGUMENT: You must feed a value for placeholder tensor 'inputs' with dtype float and shape [?,3,37,2048]\n",
      "\t [[{{node inputs}}]]\n",
      "2023-04-14 05:16:02.289237: I tensorflow/core/common_runtime/executor.cc:1197] [/device:CPU:0] (DEBUG INFO) Executor start aborting (this does not indicate an error and you can ignore this message): INVALID_ARGUMENT: You must feed a value for placeholder tensor 'inputs' with dtype float and shape [?,3,37,2048]\n",
      "\t [[{{node inputs}}]]\n",
      "2023-04-14 05:16:02.577194: I tensorflow/core/common_runtime/executor.cc:1197] [/device:CPU:0] (DEBUG INFO) Executor start aborting (this does not indicate an error and you can ignore this message): INVALID_ARGUMENT: You must feed a value for placeholder tensor 'inputs' with dtype float and shape [?,3,37,192]\n",
      "\t [[{{node inputs}}]]\n",
      "2023-04-14 05:16:02.589883: I tensorflow/core/common_runtime/executor.cc:1197] [/device:CPU:0] (DEBUG INFO) Executor start aborting (this does not indicate an error and you can ignore this message): INVALID_ARGUMENT: You must feed a value for placeholder tensor 'inputs' with dtype float and shape [?,3,37,192]\n",
      "\t [[{{node inputs}}]]\n",
      "2023-04-14 05:16:02.594596: I tensorflow/core/common_runtime/executor.cc:1197] [/device:CPU:0] (DEBUG INFO) Executor start aborting (this does not indicate an error and you can ignore this message): INVALID_ARGUMENT: You must feed a value for placeholder tensor 'inputs' with dtype float and shape [?,3,37,2048]\n",
      "\t [[{{node inputs}}]]\n",
      "2023-04-14 05:16:02.602415: I tensorflow/core/common_runtime/executor.cc:1197] [/device:CPU:0] (DEBUG INFO) Executor start aborting (this does not indicate an error and you can ignore this message): INVALID_ARGUMENT: You must feed a value for placeholder tensor 'inputs' with dtype float and shape [?,3,37,2048]\n",
      "\t [[{{node inputs}}]]\n",
      "2023-04-14 05:16:02.890888: I tensorflow/core/common_runtime/executor.cc:1197] [/device:CPU:0] (DEBUG INFO) Executor start aborting (this does not indicate an error and you can ignore this message): INVALID_ARGUMENT: You must feed a value for placeholder tensor 'inputs' with dtype float and shape [?,3,37,192]\n",
      "\t [[{{node inputs}}]]\n",
      "2023-04-14 05:16:02.903151: I tensorflow/core/common_runtime/executor.cc:1197] [/device:CPU:0] (DEBUG INFO) Executor start aborting (this does not indicate an error and you can ignore this message): INVALID_ARGUMENT: You must feed a value for placeholder tensor 'inputs' with dtype float and shape [?,3,37,192]\n",
      "\t [[{{node inputs}}]]\n",
      "2023-04-14 05:16:02.907707: I tensorflow/core/common_runtime/executor.cc:1197] [/device:CPU:0] (DEBUG INFO) Executor start aborting (this does not indicate an error and you can ignore this message): INVALID_ARGUMENT: You must feed a value for placeholder tensor 'inputs' with dtype float and shape [?,3,37,2048]\n",
      "\t [[{{node inputs}}]]\n",
      "2023-04-14 05:16:02.915353: I tensorflow/core/common_runtime/executor.cc:1197] [/device:CPU:0] (DEBUG INFO) Executor start aborting (this does not indicate an error and you can ignore this message): INVALID_ARGUMENT: You must feed a value for placeholder tensor 'inputs' with dtype float and shape [?,3,37,2048]\n",
      "\t [[{{node inputs}}]]\n",
      "2023-04-14 05:16:03.203755: I tensorflow/core/common_runtime/executor.cc:1197] [/device:CPU:0] (DEBUG INFO) Executor start aborting (this does not indicate an error and you can ignore this message): INVALID_ARGUMENT: You must feed a value for placeholder tensor 'inputs' with dtype float and shape [?,3,37,192]\n",
      "\t [[{{node inputs}}]]\n",
      "2023-04-14 05:16:03.216225: I tensorflow/core/common_runtime/executor.cc:1197] [/device:CPU:0] (DEBUG INFO) Executor start aborting (this does not indicate an error and you can ignore this message): INVALID_ARGUMENT: You must feed a value for placeholder tensor 'inputs' with dtype float and shape [?,3,37,192]\n",
      "\t [[{{node inputs}}]]\n",
      "2023-04-14 05:16:03.221058: I tensorflow/core/common_runtime/executor.cc:1197] [/device:CPU:0] (DEBUG INFO) Executor start aborting (this does not indicate an error and you can ignore this message): INVALID_ARGUMENT: You must feed a value for placeholder tensor 'inputs' with dtype float and shape [?,3,37,2048]\n",
      "\t [[{{node inputs}}]]\n",
      "2023-04-14 05:16:03.228585: I tensorflow/core/common_runtime/executor.cc:1197] [/device:CPU:0] (DEBUG INFO) Executor start aborting (this does not indicate an error and you can ignore this message): INVALID_ARGUMENT: You must feed a value for placeholder tensor 'inputs' with dtype float and shape [?,3,37,2048]\n",
      "\t [[{{node inputs}}]]\n",
      "2023-04-14 05:16:03.517014: I tensorflow/core/common_runtime/executor.cc:1197] [/device:CPU:0] (DEBUG INFO) Executor start aborting (this does not indicate an error and you can ignore this message): INVALID_ARGUMENT: You must feed a value for placeholder tensor 'inputs' with dtype float and shape [?,3,37,192]\n",
      "\t [[{{node inputs}}]]\n",
      "2023-04-14 05:16:03.529321: I tensorflow/core/common_runtime/executor.cc:1197] [/device:CPU:0] (DEBUG INFO) Executor start aborting (this does not indicate an error and you can ignore this message): INVALID_ARGUMENT: You must feed a value for placeholder tensor 'inputs' with dtype float and shape [?,3,37,192]\n",
      "\t [[{{node inputs}}]]\n",
      "2023-04-14 05:16:03.533980: I tensorflow/core/common_runtime/executor.cc:1197] [/device:CPU:0] (DEBUG INFO) Executor start aborting (this does not indicate an error and you can ignore this message): INVALID_ARGUMENT: You must feed a value for placeholder tensor 'inputs' with dtype float and shape [?,3,37,2048]\n",
      "\t [[{{node inputs}}]]\n",
      "2023-04-14 05:16:03.541811: I tensorflow/core/common_runtime/executor.cc:1197] [/device:CPU:0] (DEBUG INFO) Executor start aborting (this does not indicate an error and you can ignore this message): INVALID_ARGUMENT: You must feed a value for placeholder tensor 'inputs' with dtype float and shape [?,3,37,2048]\n",
      "\t [[{{node inputs}}]]\n",
      "2023-04-14 05:16:04.377527: I tensorflow/core/common_runtime/executor.cc:1197] [/device:CPU:0] (DEBUG INFO) Executor start aborting (this does not indicate an error and you can ignore this message): INVALID_ARGUMENT: You must feed a value for placeholder tensor 'inputs' with dtype float and shape [?,3,37,192]\n",
      "\t [[{{node inputs}}]]\n",
      "2023-04-14 05:16:04.390059: I tensorflow/core/common_runtime/executor.cc:1197] [/device:CPU:0] (DEBUG INFO) Executor start aborting (this does not indicate an error and you can ignore this message): INVALID_ARGUMENT: You must feed a value for placeholder tensor 'inputs' with dtype float and shape [?,3,37,192]\n",
      "\t [[{{node inputs}}]]\n",
      "2023-04-14 05:16:04.394667: I tensorflow/core/common_runtime/executor.cc:1197] [/device:CPU:0] (DEBUG INFO) Executor start aborting (this does not indicate an error and you can ignore this message): INVALID_ARGUMENT: You must feed a value for placeholder tensor 'inputs' with dtype float and shape [?,3,37,2048]\n",
      "\t [[{{node inputs}}]]\n",
      "2023-04-14 05:16:04.402336: I tensorflow/core/common_runtime/executor.cc:1197] [/device:CPU:0] (DEBUG INFO) Executor start aborting (this does not indicate an error and you can ignore this message): INVALID_ARGUMENT: You must feed a value for placeholder tensor 'inputs' with dtype float and shape [?,3,37,2048]\n",
      "\t [[{{node inputs}}]]\n",
      "2023-04-14 05:16:08.427957: I tensorflow/core/common_runtime/executor.cc:1197] [/device:CPU:0] (DEBUG INFO) Executor start aborting (this does not indicate an error and you can ignore this message): INVALID_ARGUMENT: You must feed a value for placeholder tensor 'inputs' with dtype float and shape [?,3,37,192]\n",
      "\t [[{{node inputs}}]]\n",
      "2023-04-14 05:16:08.461411: I tensorflow/core/common_runtime/executor.cc:1197] [/device:CPU:0] (DEBUG INFO) Executor start aborting (this does not indicate an error and you can ignore this message): INVALID_ARGUMENT: You must feed a value for placeholder tensor 'inputs' with dtype float and shape [?,3,37,192]\n",
      "\t [[{{node inputs}}]]\n",
      "2023-04-14 05:16:08.480773: I tensorflow/core/common_runtime/executor.cc:1197] [/device:CPU:0] (DEBUG INFO) Executor start aborting (this does not indicate an error and you can ignore this message): INVALID_ARGUMENT: You must feed a value for placeholder tensor 'inputs' with dtype float and shape [?,3,37,2048]\n",
      "\t [[{{node inputs}}]]\n",
      "2023-04-14 05:16:08.499421: I tensorflow/core/common_runtime/executor.cc:1197] [/device:CPU:0] (DEBUG INFO) Executor start aborting (this does not indicate an error and you can ignore this message): INVALID_ARGUMENT: You must feed a value for placeholder tensor 'inputs' with dtype float and shape [?,3,37,2048]\n",
      "\t [[{{node inputs}}]]\n",
      "2023-04-14 05:16:08.603192: I tensorflow/core/common_runtime/executor.cc:1197] [/device:CPU:0] (DEBUG INFO) Executor start aborting (this does not indicate an error and you can ignore this message): INVALID_ARGUMENT: You must feed a value for placeholder tensor 'inputs' with dtype float and shape [?,3,37,192]\n",
      "\t [[{{node inputs}}]]\n",
      "2023-04-14 05:16:08.637252: I tensorflow/core/common_runtime/executor.cc:1197] [/device:CPU:0] (DEBUG INFO) Executor start aborting (this does not indicate an error and you can ignore this message): INVALID_ARGUMENT: You must feed a value for placeholder tensor 'inputs' with dtype float and shape [?,3,37,192]\n",
      "\t [[{{node inputs}}]]\n",
      "2023-04-14 05:16:08.656828: I tensorflow/core/common_runtime/executor.cc:1197] [/device:CPU:0] (DEBUG INFO) Executor start aborting (this does not indicate an error and you can ignore this message): INVALID_ARGUMENT: You must feed a value for placeholder tensor 'inputs' with dtype float and shape [?,3,37,2048]\n",
      "\t [[{{node inputs}}]]\n",
      "2023-04-14 05:16:08.674225: I tensorflow/core/common_runtime/executor.cc:1197] [/device:CPU:0] (DEBUG INFO) Executor start aborting (this does not indicate an error and you can ignore this message): INVALID_ARGUMENT: You must feed a value for placeholder tensor 'inputs' with dtype float and shape [?,3,37,2048]\n",
      "\t [[{{node inputs}}]]\n",
      "2023-04-14 05:16:08.778578: I tensorflow/core/common_runtime/executor.cc:1197] [/device:CPU:0] (DEBUG INFO) Executor start aborting (this does not indicate an error and you can ignore this message): INVALID_ARGUMENT: You must feed a value for placeholder tensor 'inputs' with dtype float and shape [?,3,37,192]\n",
      "\t [[{{node inputs}}]]\n",
      "2023-04-14 05:16:08.811387: I tensorflow/core/common_runtime/executor.cc:1197] [/device:CPU:0] (DEBUG INFO) Executor start aborting (this does not indicate an error and you can ignore this message): INVALID_ARGUMENT: You must feed a value for placeholder tensor 'inputs' with dtype float and shape [?,3,37,192]\n",
      "\t [[{{node inputs}}]]\n",
      "2023-04-14 05:16:08.830864: I tensorflow/core/common_runtime/executor.cc:1197] [/device:CPU:0] (DEBUG INFO) Executor start aborting (this does not indicate an error and you can ignore this message): INVALID_ARGUMENT: You must feed a value for placeholder tensor 'inputs' with dtype float and shape [?,3,37,2048]\n",
      "\t [[{{node inputs}}]]\n",
      "2023-04-14 05:16:08.849651: I tensorflow/core/common_runtime/executor.cc:1197] [/device:CPU:0] (DEBUG INFO) Executor start aborting (this does not indicate an error and you can ignore this message): INVALID_ARGUMENT: You must feed a value for placeholder tensor 'inputs' with dtype float and shape [?,3,37,2048]\n",
      "\t [[{{node inputs}}]]\n",
      "2023-04-14 05:16:08.954060: I tensorflow/core/common_runtime/executor.cc:1197] [/device:CPU:0] (DEBUG INFO) Executor start aborting (this does not indicate an error and you can ignore this message): INVALID_ARGUMENT: You must feed a value for placeholder tensor 'inputs' with dtype float and shape [?,3,37,192]\n",
      "\t [[{{node inputs}}]]\n",
      "2023-04-14 05:16:08.988282: I tensorflow/core/common_runtime/executor.cc:1197] [/device:CPU:0] (DEBUG INFO) Executor start aborting (this does not indicate an error and you can ignore this message): INVALID_ARGUMENT: You must feed a value for placeholder tensor 'inputs' with dtype float and shape [?,3,37,192]\n",
      "\t [[{{node inputs}}]]\n",
      "2023-04-14 05:16:09.007899: I tensorflow/core/common_runtime/executor.cc:1197] [/device:CPU:0] (DEBUG INFO) Executor start aborting (this does not indicate an error and you can ignore this message): INVALID_ARGUMENT: You must feed a value for placeholder tensor 'inputs' with dtype float and shape [?,3,37,2048]\n",
      "\t [[{{node inputs}}]]\n",
      "2023-04-14 05:16:09.025616: I tensorflow/core/common_runtime/executor.cc:1197] [/device:CPU:0] (DEBUG INFO) Executor start aborting (this does not indicate an error and you can ignore this message): INVALID_ARGUMENT: You must feed a value for placeholder tensor 'inputs' with dtype float and shape [?,3,37,2048]\n",
      "\t [[{{node inputs}}]]\n",
      "2023-04-14 05:16:09.130587: I tensorflow/core/common_runtime/executor.cc:1197] [/device:CPU:0] (DEBUG INFO) Executor start aborting (this does not indicate an error and you can ignore this message): INVALID_ARGUMENT: You must feed a value for placeholder tensor 'inputs' with dtype float and shape [?,3,37,192]\n",
      "\t [[{{node inputs}}]]\n",
      "2023-04-14 05:16:09.164568: I tensorflow/core/common_runtime/executor.cc:1197] [/device:CPU:0] (DEBUG INFO) Executor start aborting (this does not indicate an error and you can ignore this message): INVALID_ARGUMENT: You must feed a value for placeholder tensor 'inputs' with dtype float and shape [?,3,37,192]\n",
      "\t [[{{node inputs}}]]\n",
      "2023-04-14 05:16:09.185069: I tensorflow/core/common_runtime/executor.cc:1197] [/device:CPU:0] (DEBUG INFO) Executor start aborting (this does not indicate an error and you can ignore this message): INVALID_ARGUMENT: You must feed a value for placeholder tensor 'inputs' with dtype float and shape [?,3,37,2048]\n",
      "\t [[{{node inputs}}]]\n",
      "2023-04-14 05:16:09.202902: I tensorflow/core/common_runtime/executor.cc:1197] [/device:CPU:0] (DEBUG INFO) Executor start aborting (this does not indicate an error and you can ignore this message): INVALID_ARGUMENT: You must feed a value for placeholder tensor 'inputs' with dtype float and shape [?,3,37,2048]\n",
      "\t [[{{node inputs}}]]\n",
      "2023-04-14 05:16:09.306159: I tensorflow/core/common_runtime/executor.cc:1197] [/device:CPU:0] (DEBUG INFO) Executor start aborting (this does not indicate an error and you can ignore this message): INVALID_ARGUMENT: You must feed a value for placeholder tensor 'inputs' with dtype float and shape [?,3,37,192]\n",
      "\t [[{{node inputs}}]]\n",
      "2023-04-14 05:16:09.340013: I tensorflow/core/common_runtime/executor.cc:1197] [/device:CPU:0] (DEBUG INFO) Executor start aborting (this does not indicate an error and you can ignore this message): INVALID_ARGUMENT: You must feed a value for placeholder tensor 'inputs' with dtype float and shape [?,3,37,192]\n",
      "\t [[{{node inputs}}]]\n",
      "2023-04-14 05:16:09.360377: I tensorflow/core/common_runtime/executor.cc:1197] [/device:CPU:0] (DEBUG INFO) Executor start aborting (this does not indicate an error and you can ignore this message): INVALID_ARGUMENT: You must feed a value for placeholder tensor 'inputs' with dtype float and shape [?,3,37,2048]\n",
      "\t [[{{node inputs}}]]\n",
      "2023-04-14 05:16:09.377909: I tensorflow/core/common_runtime/executor.cc:1197] [/device:CPU:0] (DEBUG INFO) Executor start aborting (this does not indicate an error and you can ignore this message): INVALID_ARGUMENT: You must feed a value for placeholder tensor 'inputs' with dtype float and shape [?,3,37,2048]\n",
      "\t [[{{node inputs}}]]\n",
      "2023-04-14 05:16:09.482457: I tensorflow/core/common_runtime/executor.cc:1197] [/device:CPU:0] (DEBUG INFO) Executor start aborting (this does not indicate an error and you can ignore this message): INVALID_ARGUMENT: You must feed a value for placeholder tensor 'inputs' with dtype float and shape [?,3,37,192]\n",
      "\t [[{{node inputs}}]]\n",
      "2023-04-14 05:16:09.515198: I tensorflow/core/common_runtime/executor.cc:1197] [/device:CPU:0] (DEBUG INFO) Executor start aborting (this does not indicate an error and you can ignore this message): INVALID_ARGUMENT: You must feed a value for placeholder tensor 'inputs' with dtype float and shape [?,3,37,192]\n",
      "\t [[{{node inputs}}]]\n",
      "2023-04-14 05:16:09.534447: I tensorflow/core/common_runtime/executor.cc:1197] [/device:CPU:0] (DEBUG INFO) Executor start aborting (this does not indicate an error and you can ignore this message): INVALID_ARGUMENT: You must feed a value for placeholder tensor 'inputs' with dtype float and shape [?,3,37,2048]\n",
      "\t [[{{node inputs}}]]\n",
      "2023-04-14 05:16:09.553154: I tensorflow/core/common_runtime/executor.cc:1197] [/device:CPU:0] (DEBUG INFO) Executor start aborting (this does not indicate an error and you can ignore this message): INVALID_ARGUMENT: You must feed a value for placeholder tensor 'inputs' with dtype float and shape [?,3,37,2048]\n",
      "\t [[{{node inputs}}]]\n",
      "2023-04-14 05:16:09.658221: I tensorflow/core/common_runtime/executor.cc:1197] [/device:CPU:0] (DEBUG INFO) Executor start aborting (this does not indicate an error and you can ignore this message): INVALID_ARGUMENT: You must feed a value for placeholder tensor 'inputs' with dtype float and shape [?,3,37,192]\n",
      "\t [[{{node inputs}}]]\n",
      "2023-04-14 05:16:09.691078: I tensorflow/core/common_runtime/executor.cc:1197] [/device:CPU:0] (DEBUG INFO) Executor start aborting (this does not indicate an error and you can ignore this message): INVALID_ARGUMENT: You must feed a value for placeholder tensor 'inputs' with dtype float and shape [?,3,37,192]\n",
      "\t [[{{node inputs}}]]\n",
      "2023-04-14 05:16:09.710436: I tensorflow/core/common_runtime/executor.cc:1197] [/device:CPU:0] (DEBUG INFO) Executor start aborting (this does not indicate an error and you can ignore this message): INVALID_ARGUMENT: You must feed a value for placeholder tensor 'inputs' with dtype float and shape [?,3,37,2048]\n",
      "\t [[{{node inputs}}]]\n",
      "2023-04-14 05:16:09.728026: I tensorflow/core/common_runtime/executor.cc:1197] [/device:CPU:0] (DEBUG INFO) Executor start aborting (this does not indicate an error and you can ignore this message): INVALID_ARGUMENT: You must feed a value for placeholder tensor 'inputs' with dtype float and shape [?,3,37,2048]\n",
      "\t [[{{node inputs}}]]\n",
      "WARNING:absl:Found untraced functions such as query_layer_call_fn, query_layer_call_and_return_conditional_losses, key_layer_call_fn, key_layer_call_and_return_conditional_losses, value_layer_call_fn while saving (showing 5 of 96). These functions will not be directly callable after loading.\n"
     ]
    },
    {
     "name": "stdout",
     "output_type": "stream",
     "text": [
      "INFO:tensorflow:Assets written to: /home/ec2-user/isolated-sign-language-recognition/Model_2/wandb/run-20230414_050533-dsbi0duh/files/model-best/assets\n"
     ]
    },
    {
     "name": "stderr",
     "output_type": "stream",
     "text": [
      "INFO:tensorflow:Assets written to: /home/ec2-user/isolated-sign-language-recognition/Model_2/wandb/run-20230414_050533-dsbi0duh/files/model-best/assets\n",
      "\u001b[34m\u001b[1mwandb\u001b[0m: Adding directory to artifact (/home/ec2-user/isolated-sign-language-recognition/Model_2/wandb/run-20230414_050533-dsbi0duh/files/model-best)... Done. 0.5s\n"
     ]
    },
    {
     "name": "stdout",
     "output_type": "stream",
     "text": [
      "1180/1180 [==============================] - 196s 165ms/step - loss: 1.7594 - accuracy: 0.5621 - val_loss: 1.7901 - val_accuracy: 0.5635\n",
      "Epoch 4/100\n",
      " 875/1180 [=====================>........] - ETA: 41s - loss: 1.4416 - accuracy: 0.6332"
     ]
    }
   ],
   "source": [
    "# Train the model\n",
    "history=model.fit(\n",
    "    train_dataset,\n",
    "    epochs=epochs,\n",
    "    validation_data=test_dataset,verbose=1,\n",
    "    callbacks=[WandbCallback()]\n",
    ")\n",
    "\n",
    "\n",
    "# history = model.fit(train_dataset, epochs=epochs, validation_data=test_dataset, verbose=1)\n"
   ]
  },
  {
   "cell_type": "code",
   "execution_count": null,
   "id": "6613a487-d7c0-4861-89b6-20421eba7525",
   "metadata": {
    "id": "6613a487-d7c0-4861-89b6-20421eba7525",
    "outputId": "49888bc1-2d83-4bb4-ff9f-edd903d3434e",
    "tags": []
   },
   "outputs": [
    {
     "name": "stdout",
     "output_type": "stream",
     "text": [
      "2.12.0\n"
     ]
    }
   ],
   "source": [
    "print(tf.__version__)\n"
   ]
  },
  {
   "cell_type": "code",
   "execution_count": null,
   "id": "54702708-0da3-4248-8444-a720ead2f722",
   "metadata": {
    "id": "54702708-0da3-4248-8444-a720ead2f722"
   },
   "outputs": [],
   "source": []
  }
 ],
 "metadata": {
  "accelerator": "GPU",
  "colab": {
   "machine_shape": "hm",
   "provenance": []
  },
  "gpuClass": "premium",
  "kernelspec": {
   "display_name": "Python 3 (ipykernel)",
   "language": "python",
   "name": "python3"
  },
  "language_info": {
   "codemirror_mode": {
    "name": "ipython",
    "version": 3
   },
   "file_extension": ".py",
   "mimetype": "text/x-python",
   "name": "python",
   "nbconvert_exporter": "python",
   "pygments_lexer": "ipython3",
   "version": "3.10.10"
  }
 },
 "nbformat": 4,
 "nbformat_minor": 5
}
