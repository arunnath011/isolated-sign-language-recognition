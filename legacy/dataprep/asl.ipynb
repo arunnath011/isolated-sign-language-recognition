{
 "cells": [
  {
   "cell_type": "code",
   "execution_count": 1,
   "id": "2e388a5b",
   "metadata": {},
   "outputs": [
    {
     "data": {
      "application/vnd.jupyter.widget-view+json": {
       "model_id": "135b0d1b097943cba711c2aa00d10d40",
       "version_major": 2,
       "version_minor": 0
      },
      "text/plain": [
       "VBox()"
      ]
     },
     "metadata": {},
     "output_type": "display_data"
    },
    {
     "name": "stdout",
     "output_type": "stream",
     "text": [
      "Starting Spark application\n"
     ]
    },
    {
     "data": {
      "text/html": [
       "<table>\n",
       "<tr><th>ID</th><th>YARN Application ID</th><th>Kind</th><th>State</th><th>Spark UI</th><th>Driver log</th><th>User</th><th>Current session?</th></tr><tr><td>1</td><td>application_1679618890476_0002</td><td>pyspark</td><td>idle</td><td><a target=\"_blank\" href=\"http://ip-172-31-31-138.us-west-2.compute.internal:20888/proxy/application_1679618890476_0002/\" class=\"emr-proxy-link\" emr-resource=\"j-3K1YEQXTCQ31G\n",
       "\" application-id=\"application_1679618890476_0002\">Link</a></td><td><a target=\"_blank\" href=\"http://ip-172-31-26-21.us-west-2.compute.internal:8042/node/containerlogs/container_1679618890476_0002_01_000001/livy\" >Link</a></td><td>None</td><td>✔</td></tr></table>"
      ],
      "text/plain": [
       "<IPython.core.display.HTML object>"
      ]
     },
     "metadata": {},
     "output_type": "display_data"
    },
    {
     "data": {
      "application/vnd.jupyter.widget-view+json": {
       "model_id": "",
       "version_major": 2,
       "version_minor": 0
      },
      "text/plain": [
       "FloatProgress(value=0.0, bar_style='info', description='Progress:', layout=Layout(height='25px', width='50%'),…"
      ]
     },
     "metadata": {},
     "output_type": "display_data"
    },
    {
     "name": "stdout",
     "output_type": "stream",
     "text": [
      "SparkSession available as 'spark'.\n"
     ]
    },
    {
     "data": {
      "application/vnd.jupyter.widget-view+json": {
       "model_id": "",
       "version_major": 2,
       "version_minor": 0
      },
      "text/plain": [
       "FloatProgress(value=0.0, bar_style='info', description='Progress:', layout=Layout(height='25px', width='50%'),…"
      ]
     },
     "metadata": {},
     "output_type": "display_data"
    }
   ],
   "source": [
    "from pyspark.sql import SparkSession\n",
    "# Initialze Spark Session\n",
    "spark = SparkSession.builder.getOrCreate()"
   ]
  },
  {
   "cell_type": "code",
   "execution_count": 2,
   "id": "ff63de2c",
   "metadata": {},
   "outputs": [
    {
     "data": {
      "application/vnd.jupyter.widget-view+json": {
       "model_id": "829e47a195b4423b9e7b9ea871ac95e9",
       "version_major": 2,
       "version_minor": 0
      },
      "text/plain": [
       "VBox()"
      ]
     },
     "metadata": {},
     "output_type": "display_data"
    },
    {
     "data": {
      "application/vnd.jupyter.widget-view+json": {
       "model_id": "",
       "version_major": 2,
       "version_minor": 0
      },
      "text/plain": [
       "FloatProgress(value=0.0, bar_style='info', description='Progress:', layout=Layout(height='25px', width='50%'),…"
      ]
     },
     "metadata": {},
     "output_type": "display_data"
    }
   ],
   "source": [
    "import pyspark.sql.functions as F\n",
    "from re import sub\n",
    "from pyspark.ml.feature import MinMaxScaler"
   ]
  },
  {
   "cell_type": "code",
   "execution_count": 3,
   "id": "04e3d765",
   "metadata": {},
   "outputs": [
    {
     "data": {
      "application/vnd.jupyter.widget-view+json": {
       "model_id": "3c8f1abd85364b8ab977e8852e8136a5",
       "version_major": 2,
       "version_minor": 0
      },
      "text/plain": [
       "VBox()"
      ]
     },
     "metadata": {},
     "output_type": "display_data"
    },
    {
     "data": {
      "application/vnd.jupyter.widget-view+json": {
       "model_id": "",
       "version_major": 2,
       "version_minor": 0
      },
      "text/plain": [
       "FloatProgress(value=0.0, bar_style='info', description='Progress:', layout=Layout(height='25px', width='50%'),…"
      ]
     },
     "metadata": {},
     "output_type": "display_data"
    },
    {
     "name": "stdout",
     "output_type": "stream",
     "text": [
      "+---------------------------------------------+--------------+-----------+-----+\n",
      "|path                                         |participant_id|sequence_id|sign |\n",
      "+---------------------------------------------+--------------+-----------+-----+\n",
      "|train_landmark_files/26734/1000035562.parquet|26734         |1000035562 |blow |\n",
      "|train_landmark_files/28656/1000106739.parquet|28656         |1000106739 |wait |\n",
      "|train_landmark_files/16069/100015657.parquet |16069         |100015657  |cloud|\n",
      "+---------------------------------------------+--------------+-----------+-----+\n",
      "only showing top 3 rows"
     ]
    }
   ],
   "source": [
    "# Read in metadata table.\n",
    "index = spark \\\n",
    "        .read \\\n",
    "        .option(\"header\", True) \\\n",
    "        .csv(\"s3://w251-asl-data/raw-data/train.csv\")\n",
    "\n",
    "index.show(3, truncate=False)"
   ]
  },
  {
   "cell_type": "code",
   "execution_count": null,
   "id": "6be546b3",
   "metadata": {
    "scrolled": true
   },
   "outputs": [
    {
     "data": {
      "application/vnd.jupyter.widget-view+json": {
       "model_id": "d633389baaec4e76a94a42f0c1135ec6",
       "version_major": 2,
       "version_minor": 0
      },
      "text/plain": [
       "VBox()"
      ]
     },
     "metadata": {},
     "output_type": "display_data"
    },
    {
     "data": {
      "application/vnd.jupyter.widget-view+json": {
       "model_id": "b4aafd5e9a804d9dbe5cec715b4ad92f",
       "version_major": 2,
       "version_minor": 0
      },
      "text/plain": [
       "FloatProgress(value=0.0, bar_style='info', description='Progress:', layout=Layout(height='25px', width='50%'),…"
      ]
     },
     "metadata": {},
     "output_type": "display_data"
    }
   ],
   "source": [
    "from pyspark.sql.types import DoubleType\n",
    "\n",
    "min_x = -1.33437180519104\n",
    "max_x = 2.9205052852630615\n",
    "min_y = -2.301203727722168\n",
    "max_y = 3.572496175765991\n",
    "\n",
    "def scale(val, min_, max_):\n",
    "    return (val - min_) / (max_ - min_)\n",
    "\n",
    "scale_x_udf = F.udf(lambda z: scale(z, min_x, max_x), DoubleType())\n",
    "scale_y_udf = F.udf(lambda z: scale(z, min_y, max_y), DoubleType())\n",
    "\n",
    "# Read in raw data, manipulate to include filename as join key, join to index table, drop any rows missing data. \n",
    "data = spark.read.parquet(\"s3://w251-asl-data/raw-data/train_landmark_files/*/*\") \\\n",
    "        .na.drop() \\\n",
    "        .withColumn(\"scaled_x\", scale_x_udf(F.col(\"x\"))) \\\n",
    "        .drop(\"x\") \\\n",
    "        .withColumn(\"scaled_y\", scale_x_udf(F.col(\"y\"))) \\\n",
    "        .drop(\"y\") \\\n",
    "        .withColumn(\"path\", F.input_file_name()) \\\n",
    "        .withColumn(\"path\", F.substring(\"path\", 29, 1000)) \\\n",
    "        .join(index, [\"path\"], \"left\") \\\n",
    "        .drop(F.col(\"z\")) \\\n",
    "        .withColumn(\"landmark\", F.concat(F.col(\"type\"), F.lit(\"-\"), F.col(\"landmark_index\"))) \\\n",
    "        .drop(\"path\", \"row_id\", \"type\", \"landmark_index\") \\\n",
    "        .groupBy([\"participant_id\", \"sequence_id\", \"frame\"]) \\\n",
    "        .pivot(\"landmark\").sum(\"scaled_x\", \"scaled_y\") \\\n",
    "        .fillna(0) \\\n",
    "        .cache()\n",
    "        \n",
    "data.show(3, truncate=False)"
   ]
  },
  {
   "cell_type": "code",
   "execution_count": null,
   "id": "da31ff5c",
   "metadata": {},
   "outputs": [],
   "source": [
    "data.dtypes"
   ]
  },
  {
   "cell_type": "code",
   "execution_count": null,
   "id": "c43c904e",
   "metadata": {},
   "outputs": [],
   "source": [
    "data.describe().show()"
   ]
  },
  {
   "cell_type": "code",
   "execution_count": null,
   "id": "5049e366",
   "metadata": {
    "scrolled": true
   },
   "outputs": [],
   "source": [
    "# Get max frame length\n",
    "data.select(F.max(F.col(\"frame\"))).show()"
   ]
  }
 ],
 "metadata": {
  "kernelspec": {
   "display_name": "PySpark",
   "language": "python",
   "name": "pysparkkernel"
  },
  "language_info": {
   "codemirror_mode": {
    "name": "python",
    "version": 3
   },
   "file_extension": ".py",
   "mimetype": "text/x-python",
   "name": "pyspark",
   "pygments_lexer": "python3"
  }
 },
 "nbformat": 4,
 "nbformat_minor": 5
}
