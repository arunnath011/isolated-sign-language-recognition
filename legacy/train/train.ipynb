{
 "cells": [
  {
   "cell_type": "code",
   "execution_count": 99,
   "id": "b48d3ed3-1583-45de-a748-f06f78712306",
   "metadata": {
    "tags": []
   },
   "outputs": [],
   "source": [
    "import tensorflow as tf\n",
    "import pandas as pd\n",
    "import numpy as np\n",
    "import json\n",
    "import glob\n",
    "from sklearn.model_selection import train_test_split"
   ]
  },
  {
   "cell_type": "code",
   "execution_count": 4,
   "id": "0a8741b3-72bf-4cea-96ea-b12ffd6c4181",
   "metadata": {
    "tags": []
   },
   "outputs": [],
   "source": [
    "# Base path to folder containing data samples.\n",
    "BASE_PATH = '/Users/romendiratta/repos/isolated-sign-language-recognition/sample-data'"
   ]
  },
  {
   "cell_type": "code",
   "execution_count": 93,
   "id": "d51020c0-dfe2-4fd3-8ef8-d8508fc630b7",
   "metadata": {
    "tags": []
   },
   "outputs": [],
   "source": [
    "# Read in file that maps each sequence with ground truth label.\n",
    "sample_index_mapping = pd.read_csv('index.csv').drop(columns='path')\n",
    "\n",
    "# Read in file that maps each sign to an integer.\n",
    "with open('sign_index_map.json') as f: \n",
    "    sign_index_mapping = json.load(f)"
   ]
  },
  {
   "cell_type": "code",
   "execution_count": 98,
   "id": "d24fedc2",
   "metadata": {},
   "outputs": [
    {
     "data": {
      "text/plain": [
       "[('TV', 0), ('after', 1), ('airplane', 2), ('all', 3), ('alligator', 4)]"
      ]
     },
     "execution_count": 98,
     "metadata": {},
     "output_type": "execute_result"
    }
   ],
   "source": [
    "list(sign_index_mapping.items())[:5]"
   ]
  },
  {
   "cell_type": "code",
   "execution_count": 6,
   "id": "24dfed85-517b-417e-9cc7-38320562e5cf",
   "metadata": {
    "tags": []
   },
   "outputs": [
    {
     "data": {
      "text/html": [
       "<div>\n",
       "<style scoped>\n",
       "    .dataframe tbody tr th:only-of-type {\n",
       "        vertical-align: middle;\n",
       "    }\n",
       "\n",
       "    .dataframe tbody tr th {\n",
       "        vertical-align: top;\n",
       "    }\n",
       "\n",
       "    .dataframe thead th {\n",
       "        text-align: right;\n",
       "    }\n",
       "</style>\n",
       "<table border=\"1\" class=\"dataframe\">\n",
       "  <thead>\n",
       "    <tr style=\"text-align: right;\">\n",
       "      <th></th>\n",
       "      <th>participant_id</th>\n",
       "      <th>sequence_id</th>\n",
       "      <th>sign</th>\n",
       "    </tr>\n",
       "  </thead>\n",
       "  <tbody>\n",
       "    <tr>\n",
       "      <th>0</th>\n",
       "      <td>26734</td>\n",
       "      <td>1000035562</td>\n",
       "      <td>blow</td>\n",
       "    </tr>\n",
       "    <tr>\n",
       "      <th>1</th>\n",
       "      <td>28656</td>\n",
       "      <td>1000106739</td>\n",
       "      <td>wait</td>\n",
       "    </tr>\n",
       "    <tr>\n",
       "      <th>2</th>\n",
       "      <td>16069</td>\n",
       "      <td>100015657</td>\n",
       "      <td>cloud</td>\n",
       "    </tr>\n",
       "    <tr>\n",
       "      <th>3</th>\n",
       "      <td>25571</td>\n",
       "      <td>1000210073</td>\n",
       "      <td>bird</td>\n",
       "    </tr>\n",
       "    <tr>\n",
       "      <th>4</th>\n",
       "      <td>62590</td>\n",
       "      <td>1000240708</td>\n",
       "      <td>owie</td>\n",
       "    </tr>\n",
       "  </tbody>\n",
       "</table>\n",
       "</div>"
      ],
      "text/plain": [
       "   participant_id  sequence_id   sign\n",
       "0           26734   1000035562   blow\n",
       "1           28656   1000106739   wait\n",
       "2           16069    100015657  cloud\n",
       "3           25571   1000210073   bird\n",
       "4           62590   1000240708   owie"
      ]
     },
     "execution_count": 6,
     "metadata": {},
     "output_type": "execute_result"
    }
   ],
   "source": [
    "index.head()"
   ]
  },
  {
   "cell_type": "code",
   "execution_count": 8,
   "id": "46390e72-1564-4005-a11a-84c2b4454986",
   "metadata": {
    "tags": []
   },
   "outputs": [],
   "source": [
    "# Split index into train and test set. Use stratify to ensure equal sampling across classes.\n",
    "X_train, X_test, y_train, y_test = train_test_split(index[['participant_id','sequence_id']], index['sign'], \n",
    "                                                    test_size=0.2, stratify=index['sign'])\n",
    "\n",
    "# Combine data and label into sigle dataframe.\n",
    "train = pd.concat([X_train, y_train], axis=1).reset_index(drop=True)\n",
    "test = pd.concat([X_test, y_test], axis=1).reset_index(drop=True)"
   ]
  },
  {
   "cell_type": "code",
   "execution_count": 102,
   "id": "ba159d02-f04d-4cc9-b038-8458746e56d3",
   "metadata": {
    "tags": []
   },
   "outputs": [],
   "source": [
    "# Total number of frames that will be provided to the model. (Transformer Block Size)\n",
    "MAX_FRAMES_LENGTH = 3\n",
    "\n",
    "def get_train_sample(sample_index_mapping, sign_mapping):\n",
    "    # Iterate over every mapping containg samples.\n",
    "    for index in sample_index_mapping.index:\n",
    "        # Get the metadata associated with the sample.\n",
    "        metadata = sample_index_mapping.loc[index]\n",
    "        # Get all files containing sample data.\n",
    "        files = glob.glob(f\"{BASE_PATH}/participant_id={metadata['participant_id']}/sequence_id={metadata['sequence_id']}/*.csv\")\n",
    "        \n",
    "        # Create single DataFrame containing all frames from sample.\n",
    "        original_frames = pd.concat((pd.read_csv(f) for f in files), ignore_index=True) \\\n",
    "        .sort_values('frame') \\\n",
    "        .drop(columns='frame') \\\n",
    "        .reset_index(drop=True) \n",
    "        \n",
    "        # Pad if less frames than input size.\n",
    "        if len(original_frames) < MAX_FRAMES_LENGTH:\n",
    "            input_frames = pd.DataFrame(0., index=np.arange(MAX_FRAMES_LENGTH), columns=original_frames.columns)\n",
    "            ids = np.arange(len(original_frames))\n",
    "            input_frames.loc[ids] = original_frames.values\n",
    "        # Slice if more frames than input size.\n",
    "        elif len(original_frames) > MAX_FRAMES_LENGTH:\n",
    "            input_frames = original_frame.iloc[:MAX_FRAME_LEN]\n",
    "        else:\n",
    "            input_frames = original_frames\n",
    "        \n",
    "        # Return array of frames and assoicated sign. \n",
    "        yield(input_frames.values.astype(np.float32), sign_index_mapping[metadata['sign']])\n",
    "                "
   ]
  },
  {
   "cell_type": "code",
   "execution_count": 103,
   "id": "f8c4a897",
   "metadata": {},
   "outputs": [
    {
     "name": "stdout",
     "output_type": "stream",
     "text": [
      "(array([[0.41268227, 0.42548835, 0.41106242, ..., 0.        , 0.        ,\n",
      "        0.        ],\n",
      "       [0.        , 0.        , 0.        , ..., 0.        , 0.        ,\n",
      "        0.        ],\n",
      "       [0.        , 0.        , 0.        , ..., 0.        , 0.        ,\n",
      "        0.        ]], dtype=float32), 32)\n",
      "(array([[0.39656773, 0.40152785, 0.39809203, ..., 0.        , 0.        ,\n",
      "        0.        ],\n",
      "       [0.39905816, 0.40365937, 0.40102798, ..., 0.        , 0.        ,\n",
      "        0.        ],\n",
      "       [0.        , 0.        , 0.        , ..., 0.        , 0.        ,\n",
      "        0.        ]], dtype=float32), 159)\n"
     ]
    }
   ],
   "source": [
    "# Ensure that generator works on small sample of data. \n",
    "\n",
    "test_sample_index_mapping = sample_index_mapping[(sample_index_mapping['participant_id']==16069) & \\\n",
    "                                                 ((sample_index_mapping['sequence_id']==1004211348) | \\\n",
    "                                                 (sample_index_mapping['sequence_id']==1005492440))]\n",
    "\n",
    "for i in get_train_sample(test_sample_index_mapping, sign_index_mapping):\n",
    "    print(i)"
   ]
  },
  {
   "cell_type": "code",
   "execution_count": 107,
   "id": "5aa93017-e08b-487c-a150-db63757a3f08",
   "metadata": {},
   "outputs": [],
   "source": [
    "# Create TensorFlow Dataset for model input. \n",
    "train_dataset = tf.data.Dataset.from_generator(\n",
    "    generator=lambda: get_train_sample(test_sample_index_mapping, sign_index_mapping),\n",
    "    output_signature=(\n",
    "        tf.TensorSpec(shape=(MAX_FRAMES_LENGTH, 1086), dtype=tf.float32),\n",
    "        tf.TensorSpec(shape=(), dtype=tf.uint8)\n",
    "    )\n",
    ")"
   ]
  },
  {
   "cell_type": "code",
   "execution_count": 108,
   "id": "b40a7abc",
   "metadata": {
    "scrolled": false
   },
   "outputs": [
    {
     "name": "stdout",
     "output_type": "stream",
     "text": [
      "tf.Tensor(\n",
      "[[[0.41268227 0.42548835 0.41106242 ... 0.         0.         0.        ]\n",
      "  [0.         0.         0.         ... 0.         0.         0.        ]\n",
      "  [0.         0.         0.         ... 0.         0.         0.        ]]\n",
      "\n",
      " [[0.39656773 0.40152785 0.39809203 ... 0.         0.         0.        ]\n",
      "  [0.39905816 0.40365937 0.40102798 ... 0.         0.         0.        ]\n",
      "  [0.         0.         0.         ... 0.         0.         0.        ]]], shape=(2, 3, 1086), dtype=float32)\n",
      "tf.Tensor([ 32 159], shape=(2,), dtype=uint8)\n"
     ]
    }
   ],
   "source": [
    "for data, label in train_dataset.batch(2).take(1):\n",
    "    print(data)\n",
    "    print(label)"
   ]
  }
 ],
 "metadata": {
  "kernelspec": {
   "display_name": "Python 3 (ipykernel)",
   "language": "python",
   "name": "python3"
  },
  "language_info": {
   "codemirror_mode": {
    "name": "ipython",
    "version": 3
   },
   "file_extension": ".py",
   "mimetype": "text/x-python",
   "name": "python",
   "nbconvert_exporter": "python",
   "pygments_lexer": "ipython3",
   "version": "3.8.16"
  }
 },
 "nbformat": 4,
 "nbformat_minor": 5
}
