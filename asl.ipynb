{
 "cells": [
  {
   "cell_type": "code",
   "execution_count": null,
   "id": "2e388a5b",
   "metadata": {},
   "outputs": [],
   "source": [
    "from pyspark.sql import SparkSession\n",
    "# Initialze Spark Session\n",
    "spark = SparkSession.builder.getOrCreate()"
   ]
  },
  {
   "cell_type": "code",
   "execution_count": null,
   "id": "ff63de2c",
   "metadata": {},
   "outputs": [],
   "source": [
    "import pyspark.sql.functions as F\n",
    "from re import sub"
   ]
  },
  {
   "cell_type": "code",
   "execution_count": null,
   "id": "04e3d765",
   "metadata": {},
   "outputs": [],
   "source": [
    "# Read in metadata table.\n",
    "index = spark \\\n",
    "        .read \\\n",
    "        .option(\"header\", True) \\\n",
    "        .csv(\"s3://w251-asl-data/raw-data/train.csv\")\n",
    "\n",
    "index.show(3, truncate=False)"
   ]
  },
  {
   "cell_type": "code",
   "execution_count": null,
   "id": "6be546b3",
   "metadata": {
    "scrolled": true
   },
   "outputs": [],
   "source": [
    "# Read in raw data, manipulate to include filename as join key, join to index table, drop any rows missing data. \n",
    "data = spark.read.parquet(\"s3://w251-asl-data/raw-data/train_landmark_files/*/*\") \\\n",
    "        .withColumn(\"path\", F.input_file_name()) \\\n",
    "        .withColumn(\"path\", F.substring(\"path\", 29, 1000)) \\\n",
    "        .join(index, [\"path\"], \"left\") \\\n",
    "        .na.drop() \\\n",
    "        .drop(F.col(\"z\")) \\\n",
    "        .cache()\n",
    "        \n",
    "data.show(3, truncate=False)"
   ]
  },
  {
   "cell_type": "code",
   "execution_count": null,
   "id": "5049e366",
   "metadata": {},
   "outputs": [],
   "source": [
    "# Get max frame length\n",
    "data.select(F.max(F.col(\"frame\"))).show()"
   ]
  },
  {
   "cell_type": "code",
   "execution_count": null,
   "id": "12f6e035",
   "metadata": {},
   "outputs": [],
   "source": [
    "data.select(\"path\").distinct().show()"
   ]
  },
  {
   "cell_type": "code",
   "execution_count": null,
   "id": "b0b212ec",
   "metadata": {},
   "outputs": [],
   "source": [
    "sample = spark.read.parquet(\"s3://w251-asl-data/raw-data/train_landmark_files/4718/2725590426.parquet\", \n",
    "                           \"s3://w251-asl-data/raw-data/train_landmark_files/16069/100015657.parquet\",) \\\n",
    "        .withColumn(\"path\", F.input_file_name()) \\\n",
    "        .withColumn(\"path\", F.substring(\"path\", 29, 1000)) \\\n",
    "        .join(index, [\"path\"], \"left\") \\\n",
    "        .na.drop() \\\n",
    "        .drop(F.col(\"z\")) \\\n",
    "        .cache()\n",
    "\n",
    "# Concat type and landmark index\n",
    "test = sample.withColumn(\"landmark\", F.concat(F.col(\"type\"), F.lit(\"-\"), F.col(\"landmark_index\"))) \\\n",
    "            .drop(\"path\", \"row_id\", \"type\", \"landmark_index\") \\\n",
    "            .groupBy([\"participant_id\", \"sequence_id\", \"frame\"]) \\\n",
    "            .pivot(\"landmark\").sum(\"x\", \"y\") \\ \n",
    "            "
   ]
  },
  {
   "cell_type": "code",
   "execution_count": null,
   "id": "564a405e",
   "metadata": {},
   "outputs": [],
   "source": [
    "for name in test.columns:\n",
    "    test = test.withColumnRenamed(name, name.replace(\"_sum\", \"-\"))"
   ]
  },
  {
   "cell_type": "code",
   "execution_count": null,
   "id": "cf1ed790",
   "metadata": {},
   "outputs": [],
   "source": [
    "test.show()"
   ]
  },
  {
   "cell_type": "code",
   "execution_count": null,
   "id": "7c1cb5c8",
   "metadata": {},
   "outputs": [],
   "source": [
    "len(test.columns)"
   ]
  }
 ],
 "metadata": {
  "kernelspec": {
   "display_name": "PySpark",
   "language": "python",
   "name": "pysparkkernel"
  },
  "language_info": {
   "codemirror_mode": {
    "name": "python",
    "version": 3
   },
   "file_extension": ".py",
   "mimetype": "text/x-python",
   "name": "pyspark",
   "pygments_lexer": "python3"
  }
 },
 "nbformat": 4,
 "nbformat_minor": 5
}
