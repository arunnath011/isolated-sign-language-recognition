{
 "cells": [
  {
   "cell_type": "code",
   "execution_count": 1,
   "id": "b66d6124",
   "metadata": {
    "tags": []
   },
   "outputs": [
    {
     "name": "stderr",
     "output_type": "stream",
     "text": [
      "2023-04-03 03:22:14.185090: I tensorflow/core/platform/cpu_feature_guard.cc:182] This TensorFlow binary is optimized to use available CPU instructions in performance-critical operations.\n",
      "To enable the following instructions: AVX2 FMA, in other operations, rebuild TensorFlow with the appropriate compiler flags.\n",
      "2023-04-03 03:22:14.804788: W tensorflow/compiler/tf2tensorrt/utils/py_utils.cc:38] TF-TRT Warning: Could not find TensorRT\n",
      "/opt/tensorflow/lib/python3.10/site-packages/tensorflow_addons/utils/ensure_tf_install.py:53: UserWarning: Tensorflow Addons supports using Python ops for all Tensorflow versions above or equal to 2.9.0 and strictly below 2.12.0 (nightly versions are not supported). \n",
      " The versions of TensorFlow you are currently using is 2.12.0 and is not supported. \n",
      "Some things might work, some things might not.\n",
      "If you were to encounter a bug, do not file an issue.\n",
      "If you want to make sure you're using a tested and supported configuration, either change the TensorFlow version or the TensorFlow Addons's version. \n",
      "You can find the compatibility matrix in TensorFlow Addon's readme:\n",
      "https://github.com/tensorflow/addons\n",
      "  warnings.warn(\n"
     ]
    }
   ],
   "source": [
    "import numpy as np\n",
    "import pandas as pd\n",
    "import tensorflow as tf\n",
    "import tensorflow_addons as tfa\n",
    "import matplotlib.pyplot as plt\n",
    "import matplotlib as mpl\n",
    "import seaborn as sn\n",
    "\n",
    "from tqdm.notebook import tqdm\n",
    "from sklearn.model_selection import train_test_split, GroupShuffleSplit\n",
    "from utils.Utils import print_shape_dtype, pd_read_s3_parquet, upload_file \n",
    "\n",
    "\n",
    "import glob\n",
    "import sys\n",
    "import os\n",
    "import math\n",
    "import gc\n",
    "import sys\n",
    "import sklearn\n",
    "import scipy\n",
    "import boto3\n",
    "import io"
   ]
  },
  {
   "cell_type": "code",
   "execution_count": 2,
   "id": "e7def507",
   "metadata": {
    "tags": []
   },
   "outputs": [],
   "source": [
    "# MatplotLib Global Settings\n",
    "mpl.rcParams.update(mpl.rcParamsDefault)\n",
    "mpl.rcParams['xtick.labelsize'] = 16\n",
    "mpl.rcParams['ytick.labelsize'] = 16\n",
    "mpl.rcParams['axes.labelsize'] = 18\n",
    "mpl.rcParams['axes.titlesize'] = 24"
   ]
  },
  {
   "cell_type": "code",
   "execution_count": 3,
   "id": "88621249",
   "metadata": {
    "tags": []
   },
   "outputs": [],
   "source": [
    "# If True, processing data from scratch\n",
    "# If False, loads preprocessed data\n",
    "PREPROCESS_DATA = False\n",
    "TRAIN_MODEL = True\n",
    "# False: use 10% of participants as validation set\n",
    "# True: use all data for training -> gives better LB result\n",
    "USE_VAL = True\n",
    "\n",
    "N_ROWS = 543\n",
    "N_DIMS = 2\n",
    "DIM_NAMES = ['x', 'y']\n",
    "SEED = 42\n",
    "NUM_CLASaSES = 250\n",
    "\n",
    "# Number of frames \n",
    "INPUT_SIZE = 32\n",
    "\n",
    "BATCH_ALL_SIGNS_N = 4\n",
    "BATCH_SIZE = 256 # Batch size during validation.\n",
    "N_EPOCHS = 100\n",
    "N_WARMUP_EPOCHS = 0\n",
    "WD_RATIO = 0.05\n",
    "MASK_VAL = 4237\n",
    "LEARNING_RATE = 1e-3\n",
    "WEIGHT_DECAY = 1e-5 "
   ]
  },
  {
   "cell_type": "code",
   "execution_count": 4,
   "id": "5767cff9-ddbb-4040-8498-c0568aebf6a8",
   "metadata": {
    "tags": []
   },
   "outputs": [],
   "source": [
    "AWS_S3_BUCKET = \"w251-asl-data\"\n",
    "s3_client = boto3.client(\n",
    "    \"s3\"\n",
    ")"
   ]
  },
  {
   "cell_type": "code",
   "execution_count": 5,
   "id": "5241e375-75f5-47b0-8e57-c75fe316d9ca",
   "metadata": {
    "tags": []
   },
   "outputs": [],
   "source": [
    "TRAIN_CSV_FILE = \"raw-data/train.csv\"\n",
    "train_file = s3_client.get_object(Bucket=AWS_S3_BUCKET, Key=TRAIN_CSV_FILE)\n",
    "train = pd.read_csv(train_file.get(\"Body\"))\n",
    "\n",
    "train['file_path'] = train['path'].apply(lambda path: f'{AWS_S3_BUCKET}/raw-data/{path}')"
   ]
  },
  {
   "cell_type": "code",
   "execution_count": 6,
   "id": "cb4bfa7b-f69d-4ad6-a04f-b6305f0d9600",
   "metadata": {
    "tags": []
   },
   "outputs": [],
   "source": [
    "version = \"v1\"\n",
    "\n",
    "X = s3_client.get_object(Bucket=AWS_S3_BUCKET, Key=f'processed-data/{version}/X.npy')\n",
    "X = np.load(io.BytesIO(X['Body'].read()))\n",
    "\n",
    "y = s3_client.get_object(Bucket=AWS_S3_BUCKET, Key=f'processed-data/{version}/y.npy')\n",
    "y = np.load(io.BytesIO(y['Body'].read()))\n",
    "\n",
    "NON_EMPTY_FRAME_IDXS = s3_client.get_object(Bucket=AWS_S3_BUCKET, Key=f'processed-data/{version}/NON_EMPTY_FRAME_IDXS.npy')\n",
    "NON_EMPTY_FRAME_IDXS = np.load(io.BytesIO(NON_EMPTY_FRAME_IDXS['Body'].read()))"
   ]
  },
  {
   "cell_type": "code",
   "execution_count": null,
   "id": "850674c6",
   "metadata": {
    "tags": []
   },
   "outputs": [
    {
     "data": {
      "application/vnd.jupyter.widget-view+json": {
       "model_id": "937a849a8c454eb2baac82d4cc0a7ca7",
       "version_major": 2,
       "version_minor": 0
      },
      "text/plain": [
       "  0%|          | 0/10000 [00:00<?, ?it/s]"
      ]
     },
     "metadata": {},
     "output_type": "display_data"
    }
   ],
   "source": [
    "N = int(10e3)\n",
    "N_UNIQUE_FRAMES = np.zeros(N, dtype=np.uint16)\n",
    "N_MISSING_FRAMES = np.zeros(N, dtype=np.uint16)\n",
    "MAX_FRAME = np.zeros(N, dtype=np.uint16)\n",
    "\n",
    "PERCENTILES = [0.01, 0.05, 0.25, 0.50, 0.75, 0.95, 0.99, 0.999]\n",
    "\n",
    "for idx, file_path in enumerate(tqdm(train['file_path'].sample(N, random_state=SEED))):\n",
    "    df = pd_read_s3_parquet(file_path[14:], AWS_S3_BUCKET, s3_client)\n",
    "    N_UNIQUE_FRAMES[idx] = df['frame'].nunique()\n",
    "    N_MISSING_FRAMES[idx] = (df['frame'].max() - df['frame'].min()) - df['frame'].nunique() + 1\n",
    "    MAX_FRAME[idx] = df['frame'].max()"
   ]
  },
  {
   "cell_type": "markdown",
   "id": "56e0a65b",
   "metadata": {},
   "source": [
    "### Video Statistics"
   ]
  },
  {
   "cell_type": "code",
   "execution_count": null,
   "id": "64f1e9eb",
   "metadata": {},
   "outputs": [],
   "source": [
    "# Number of unique frames in each video\n",
    "display(pd.Series(N_UNIQUE_FRAMES).describe(percentiles=PERCENTILES).to_frame('N_UNIQUE_FRAMES'))\n",
    "\n",
    "plt.figure(figsize=(15,8))\n",
    "plt.title('Number of Unique Frames', size=24)\n",
    "pd.Series(N_UNIQUE_FRAMES).plot(kind='hist', bins=128)\n",
    "plt.grid()\n",
    "xlim = math.ceil(plt.xlim()[1])\n",
    "plt.xlim(0, xlim)\n",
    "plt.xticks(np.arange(0, xlim+25, 25))\n",
    "plt.show()"
   ]
  },
  {
   "cell_type": "code",
   "execution_count": null,
   "id": "8463612a",
   "metadata": {},
   "outputs": [],
   "source": [
    "# Number of missing frames, consecutive frames with missing intermediate frame, i.e. 1,2,4,5 -> 3 is missing\n",
    "display(pd.Series(N_MISSING_FRAMES).describe(percentiles=PERCENTILES).to_frame('N_MISSING_FRAMES'))\n",
    "\n",
    "plt.figure(figsize=(15,8))\n",
    "plt.title('Number of Missing Frames', size=24)\n",
    "pd.Series(N_MISSING_FRAMES).plot(kind='hist', bins=128)\n",
    "plt.grid()\n",
    "plt.xlim(0, math.ceil(plt.xlim()[1]))\n",
    "plt.show()"
   ]
  },
  {
   "cell_type": "code",
   "execution_count": null,
   "id": "00653cdb",
   "metadata": {},
   "outputs": [],
   "source": [
    "# Maximum frame number\n",
    "display(pd.Series(MAX_FRAME).describe(percentiles=PERCENTILES).to_frame('MAX_FRAME'))\n",
    "\n",
    "plt.figure(figsize=(15,8))\n",
    "plt.title('Maximum Frames Index', size=24)\n",
    "pd.Series(MAX_FRAME).plot(kind='hist', bins=128)\n",
    "plt.grid()\n",
    "plt.xlim(0, math.ceil(plt.xlim()[1]))\n",
    "plt.show()"
   ]
  },
  {
   "cell_type": "code",
   "execution_count": null,
   "id": "457e892a",
   "metadata": {},
   "outputs": [],
   "source": [
    "# Vast majority of samples fits has less than 32 non empty frames\n",
    "N_EMPTY_FRAMES = (NON_EMPTY_FRAME_IDXS != -1).sum(axis=1) \n",
    "N_EMPTY_FRAMES_WATERFALL = []\n",
    "for n in range(INPUT_SIZE):\n",
    "    N_EMPTY_FRAMES_WATERFALL.append(sum(N_EMPTY_FRAMES >= n))\n",
    "\n",
    "plt.figure(figsize=(15,8))\n",
    "plt.title('Waterfall Plot For Number Of Non Empty Frames')\n",
    "pd.Series(N_EMPTY_FRAMES_WATERFALL).plot(kind='bar')\n",
    "plt.grid(axis='y')\n",
    "plt.xticks(np.arange(INPUT_SIZE), np.arange(1, INPUT_SIZE+1))\n",
    "plt.yticks(np.arange(0, 100e3+10e3, 10e3))\n",
    "plt.show()"
   ]
  },
  {
   "cell_type": "code",
   "execution_count": null,
   "id": "9c671d0e",
   "metadata": {},
   "outputs": [],
   "source": [
    "USE_TYPES = ['left_hand', 'pose', 'right_hand']\n",
    "START_IDX = 468\n",
    "LIPS_IDXS0 = np.array([\n",
    "        61, 185, 40, 39, 37, 0, 267, 269, 270, 409,\n",
    "        291, 146, 91, 181, 84, 17, 314, 405, 321, 375,\n",
    "        78, 191, 80, 81, 82, 13, 312, 311, 310, 415,\n",
    "        95, 88, 178, 87, 14, 317, 402, 318, 324, 308,\n",
    "    ])\n",
    "# Landmark indices in original data\n",
    "LEFT_HAND_IDXS0 = np.arange(468,489)\n",
    "RIGHT_HAND_IDXS0 = np.arange(522,543)\n",
    "POSE_IDXS0 = np.arange(502, 512)\n",
    "LANDMARK_IDXS0 = np.concatenate((LIPS_IDXS0, LEFT_HAND_IDXS0, RIGHT_HAND_IDXS0, POSE_IDXS0))\n",
    "HAND_IDXS0 = np.concatenate((LEFT_HAND_IDXS0, RIGHT_HAND_IDXS0), axis=0)\n",
    "N_COLS = LANDMARK_IDXS0.size\n",
    "# Landmark indices in processed data\n",
    "LIPS_IDXS = np.argwhere(np.isin(LANDMARK_IDXS0, LIPS_IDXS0)).squeeze()\n",
    "LEFT_HAND_IDXS = np.argwhere(np.isin(LANDMARK_IDXS0, LEFT_HAND_IDXS0)).squeeze()\n",
    "RIGHT_HAND_IDXS = np.argwhere(np.isin(LANDMARK_IDXS0, RIGHT_HAND_IDXS0)).squeeze()\n",
    "HAND_IDXS = np.argwhere(np.isin(LANDMARK_IDXS0, HAND_IDXS0)).squeeze()\n",
    "POSE_IDXS = np.argwhere(np.isin(LANDMARK_IDXS0, POSE_IDXS0)).squeeze()\n",
    "\n",
    "print(f'# HAND_IDXS: {len(HAND_IDXS)}, N_COLS: {N_COLS}')"
   ]
  },
  {
   "cell_type": "code",
   "execution_count": null,
   "id": "5596954c",
   "metadata": {
    "tags": []
   },
   "outputs": [],
   "source": [
    "# LIPS\n",
    "LIPS_MEAN_X = np.zeros([LIPS_IDXS.size], dtype=np.float32)\n",
    "LIPS_MEAN_Y = np.zeros([LIPS_IDXS.size], dtype=np.float32)\n",
    "LIPS_STD_X = np.zeros([LIPS_IDXS.size], dtype=np.float32)\n",
    "LIPS_STD_Y = np.zeros([LIPS_IDXS.size], dtype=np.float32)\n",
    "\n",
    "fig, axes = plt.subplots(3, 1, figsize=(15, N_DIMS*6))\n",
    "   \n",
    "for col, ll in enumerate(tqdm( np.transpose(X[:,:,LIPS_IDXS], [2,3,0,1]).reshape([LIPS_IDXS.size, N_DIMS, -1]) )):\n",
    "    for dim, l in enumerate(ll):\n",
    "        v = l[np.nonzero(l)]\n",
    "        if dim == 0: # X\n",
    "            LIPS_MEAN_X[col] = v.mean()\n",
    "            LIPS_STD_X[col] = v.std()\n",
    "        if dim == 1: # Y\n",
    "            LIPS_MEAN_Y[col] = v.mean()\n",
    "            LIPS_STD_Y[col] = v.std()\n",
    "        \n",
    "        axes[dim].boxplot(v, notch=False, showfliers=False, positions=[col], whis=[5,95])\n",
    "        \n",
    "for ax, dim_name in zip(axes, DIM_NAMES):\n",
    "    ax.set_title(f'Lips {dim_name.upper()} Dimension', size=24)\n",
    "    ax.tick_params(axis='x', labelsize=8)\n",
    "    ax.grid(axis='y')\n",
    "\n",
    "plt.subplots_adjust(hspace=0.50)\n",
    "plt.show()\n",
    "\n",
    "LIPS_MEAN = np.array([LIPS_MEAN_X, LIPS_MEAN_Y]).T\n",
    "LIPS_STD = np.array([LIPS_STD_X, LIPS_STD_Y]).T"
   ]
  },
  {
   "cell_type": "code",
   "execution_count": null,
   "id": "779b7a04-4771-4827-bda0-edb8d3d4b841",
   "metadata": {},
   "outputs": [],
   "source": [
    "# LEFT HAND\n",
    "LEFT_HANDS_MEAN_X = np.zeros([LEFT_HAND_IDXS.size], dtype=np.float32)\n",
    "LEFT_HANDS_MEAN_Y = np.zeros([LEFT_HAND_IDXS.size], dtype=np.float32)\n",
    "LEFT_HANDS_STD_X = np.zeros([LEFT_HAND_IDXS.size], dtype=np.float32)\n",
    "LEFT_HANDS_STD_Y = np.zeros([LEFT_HAND_IDXS.size], dtype=np.float32)\n",
    "# RIGHT HAND\n",
    "RIGHT_HANDS_MEAN_X = np.zeros([RIGHT_HAND_IDXS.size], dtype=np.float32)\n",
    "RIGHT_HANDS_MEAN_Y = np.zeros([RIGHT_HAND_IDXS.size], dtype=np.float32)\n",
    "RIGHT_HANDS_STD_X = np.zeros([RIGHT_HAND_IDXS.size], dtype=np.float32)\n",
    "RIGHT_HANDS_STD_Y = np.zeros([RIGHT_HAND_IDXS.size], dtype=np.float32)\n",
    "\n",
    "fig, axes = plt.subplots(3, 1, figsize=(15, N_DIMS*6))\n",
    "   \n",
    "for col, ll in enumerate(tqdm( np.transpose(X[:,:,HAND_IDXS], [2,3,0,1]).reshape([HAND_IDXS.size, N_DIMS, -1]) )):\n",
    "    for dim, l in enumerate(ll):\n",
    "        v = l[np.nonzero(l)]\n",
    "        if dim == 0: # X\n",
    "            if col < RIGHT_HAND_IDXS.size: # LEFT HAND\n",
    "                LEFT_HANDS_MEAN_X[col] = v.mean()\n",
    "                LEFT_HANDS_STD_X[col] = v.std()\n",
    "            else:\n",
    "                RIGHT_HANDS_MEAN_X[col - LEFT_HAND_IDXS.size] = v.mean()\n",
    "                RIGHT_HANDS_STD_X[col - LEFT_HAND_IDXS.size] = v.std()\n",
    "        if dim == 1: # Y\n",
    "            if col < RIGHT_HAND_IDXS.size: # LEFT HAND\n",
    "                LEFT_HANDS_MEAN_Y[col] = v.mean()\n",
    "                LEFT_HANDS_STD_Y[col] = v.std()\n",
    "            else: # RIGHT HAND\n",
    "                RIGHT_HANDS_MEAN_Y[col - LEFT_HAND_IDXS.size] = v.mean()\n",
    "                RIGHT_HANDS_STD_Y[col - LEFT_HAND_IDXS.size] = v.std()\n",
    "        \n",
    "        axes[dim].boxplot(v, notch=False, showfliers=False, positions=[col], whis=[5,95])\n",
    "        \n",
    "for ax, dim_name in zip(axes, DIM_NAMES):\n",
    "    ax.set_title(f'Hands {dim_name.upper()} Dimension', size=24)\n",
    "    ax.tick_params(axis='x', labelsize=8)\n",
    "    ax.grid(axis='y')\n",
    "\n",
    "plt.subplots_adjust(hspace=0.50)\n",
    "plt.show()\n",
    "\n",
    "LEFT_HANDS_MEAN = np.array([LEFT_HANDS_MEAN_X, LEFT_HANDS_MEAN_Y]).T\n",
    "LEFT_HANDS_STD = np.array([LEFT_HANDS_STD_X, LEFT_HANDS_STD_Y]).T\n",
    "RIGHT_HANDS_MEAN = np.array([RIGHT_HANDS_MEAN_X, RIGHT_HANDS_MEAN_Y]).T\n",
    "RIGHT_HANDS_STD = np.array([RIGHT_HANDS_STD_X, RIGHT_HANDS_STD_Y]).T"
   ]
  },
  {
   "cell_type": "code",
   "execution_count": null,
   "id": "f3ddfd42-5d51-4c3e-b7ac-25812be17489",
   "metadata": {},
   "outputs": [],
   "source": [
    "# POSE\n",
    "POSE_MEAN_X = np.zeros([POSE_IDXS.size], dtype=np.float32)\n",
    "POSE_MEAN_Y = np.zeros([POSE_IDXS.size], dtype=np.float32)\n",
    "POSE_STD_X = np.zeros([POSE_IDXS.size], dtype=np.float32)\n",
    "POSE_STD_Y = np.zeros([POSE_IDXS.size], dtype=np.float32)\n",
    "\n",
    "fig, axes = plt.subplots(3, 1, figsize=(15, N_DIMS*6))\n",
    "   \n",
    "for col, ll in enumerate(tqdm( np.transpose(X[:,:,POSE_IDXS], [2,3,0,1]).reshape([POSE_IDXS.size, N_DIMS, -1]) )):\n",
    "    for dim, l in enumerate(ll):\n",
    "        v = l[np.nonzero(l)]\n",
    "        if dim == 0: # X\n",
    "            POSE_MEAN_X[col] = v.mean()\n",
    "            POSE_STD_X[col] = v.std()\n",
    "        if dim == 1: # Y\n",
    "            POSE_MEAN_Y[col] = v.mean()\n",
    "            POSE_STD_Y[col] = v.std()\n",
    "        \n",
    "        axes[dim].boxplot(v, notch=False, showfliers=False, positions=[col], whis=[5,95])\n",
    "        \n",
    "for ax, dim_name in zip(axes, DIM_NAMES):\n",
    "    ax.set_title(f'Pose {dim_name.upper()} Dimension', size=24)\n",
    "    ax.tick_params(axis='x', labelsize=8)\n",
    "    ax.grid(axis='y')\n",
    "\n",
    "plt.subplots_adjust(hspace=0.50)\n",
    "plt.show()\n",
    "\n",
    "POSE_MEAN = np.array([POSE_MEAN_X, POSE_MEAN_Y]).T\n",
    "POSE_STD = np.array([POSE_STD_X, POSE_STD_Y]).T"
   ]
  }
 ],
 "metadata": {
  "kernelspec": {
   "display_name": "Python 3 (ipykernel)",
   "language": "python",
   "name": "python3"
  },
  "language_info": {
   "codemirror_mode": {
    "name": "ipython",
    "version": 3
   },
   "file_extension": ".py",
   "mimetype": "text/x-python",
   "name": "python",
   "nbconvert_exporter": "python",
   "pygments_lexer": "ipython3",
   "version": "3.10.10"
  }
 },
 "nbformat": 4,
 "nbformat_minor": 5
}
