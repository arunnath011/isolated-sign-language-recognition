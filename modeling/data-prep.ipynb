{
 "cells": [
  {
   "cell_type": "markdown",
   "id": "5da5bc16-c974-469d-900a-3466788a1f87",
   "metadata": {},
   "source": [
    "### Notes for Modification\n",
    "\n",
    "- Wake - Hands overlapping with face.\n",
    "- Goose - Multiple variations of signs to represent the same thing.\n",
    "- Nap - Hands overlapping with face/ Eyes close\n",
    "- Give - Hands are closed.\n",
    "- After - Hands overlapping\n",
    "- Mouth - Hand closed, hand over mouth.\n",
    "\n",
    "Commons Things:\n",
    "- Closed hands\n",
    "- Hands over face\n",
    "- Overlapping landmarks\n",
    "\n",
    "Solutions:\n",
    "- Include eye landmarks.\n",
    "- Backfill missing data with previous landmark data.\n",
    "- Preserve relative distances between landmarks."
   ]
  },
  {
   "cell_type": "code",
   "execution_count": 1,
   "id": "99a3ae15-2917-4b25-8720-7a06c9b2529b",
   "metadata": {
    "tags": []
   },
   "outputs": [
    {
     "name": "stderr",
     "output_type": "stream",
     "text": [
      "2023-04-06 03:51:09.982562: I tensorflow/core/platform/cpu_feature_guard.cc:182] This TensorFlow binary is optimized to use available CPU instructions in performance-critical operations.\n",
      "To enable the following instructions: AVX2 FMA, in other operations, rebuild TensorFlow with the appropriate compiler flags.\n",
      "2023-04-06 03:51:10.614398: W tensorflow/compiler/tf2tensorrt/utils/py_utils.cc:38] TF-TRT Warning: Could not find TensorRT\n",
      "/opt/tensorflow/lib/python3.10/site-packages/tensorflow_addons/utils/ensure_tf_install.py:53: UserWarning: Tensorflow Addons supports using Python ops for all Tensorflow versions above or equal to 2.9.0 and strictly below 2.12.0 (nightly versions are not supported). \n",
      " The versions of TensorFlow you are currently using is 2.12.0 and is not supported. \n",
      "Some things might work, some things might not.\n",
      "If you were to encounter a bug, do not file an issue.\n",
      "If you want to make sure you're using a tested and supported configuration, either change the TensorFlow version or the TensorFlow Addons's version. \n",
      "You can find the compatibility matrix in TensorFlow Addon's readme:\n",
      "https://github.com/tensorflow/addons\n",
      "  warnings.warn(\n"
     ]
    }
   ],
   "source": [
    "import numpy as np\n",
    "import pandas as pd\n",
    "import tensorflow as tf\n",
    "import tensorflow_addons as tfa\n",
    "import matplotlib.pyplot as plt\n",
    "import matplotlib as mpl\n",
    "import seaborn as sn\n",
    "\n",
    "from tqdm.notebook import tqdm\n",
    "from sklearn.model_selection import train_test_split, GroupShuffleSplit \n",
    "\n",
    "from layers.PreprocessLayer import PreprocessLayer\n",
    "from utils.Utils import print_shape_dtype, pd_read_s3_parquet, upload_file \n",
    "\n",
    "import glob\n",
    "import sys\n",
    "import os\n",
    "import math\n",
    "import gc\n",
    "import sys\n",
    "import sklearn\n",
    "import scipy\n",
    "import boto3\n",
    "import io\n",
    "import wandb\n",
    "import json"
   ]
  },
  {
   "cell_type": "code",
   "execution_count": 2,
   "id": "775d7831-7725-4929-8ec3-635d3fe06ca1",
   "metadata": {
    "tags": []
   },
   "outputs": [],
   "source": [
    "tf.get_logger().setLevel('INFO')"
   ]
  },
  {
   "cell_type": "code",
   "execution_count": 3,
   "id": "1f1ed6d7-4baf-4f6e-9727-59e277149865",
   "metadata": {
    "tags": []
   },
   "outputs": [],
   "source": [
    "with open(\"./config.json\") as fp:\n",
    "    config = json.load(fp)"
   ]
  },
  {
   "cell_type": "code",
   "execution_count": 4,
   "id": "ac357599-d129-4fb9-bb2d-0f1bf5c8c966",
   "metadata": {
    "tags": []
   },
   "outputs": [],
   "source": [
    "s3_client = boto3.client(\n",
    "    \"s3\"\n",
    ")"
   ]
  },
  {
   "cell_type": "code",
   "execution_count": 5,
   "id": "65527ced-f65e-4159-abc7-cca17f2bce6c",
   "metadata": {
    "tags": []
   },
   "outputs": [],
   "source": [
    "AWS_S3_BUCKET = \"w251-asl-data\"\n",
    "TRAIN_CSV_FILE = \"raw-data/train.csv\""
   ]
  },
  {
   "cell_type": "code",
   "execution_count": 6,
   "id": "08d092a1-8ca7-4cce-9989-fb904cd60c16",
   "metadata": {
    "tags": []
   },
   "outputs": [],
   "source": [
    "train_file = s3_client.get_object(Bucket=AWS_S3_BUCKET, Key=TRAIN_CSV_FILE)"
   ]
  },
  {
   "cell_type": "code",
   "execution_count": 7,
   "id": "ef0f9e50-16f8-4391-b3b5-acbac321d24b",
   "metadata": {
    "tags": []
   },
   "outputs": [
    {
     "name": "stdout",
     "output_type": "stream",
     "text": [
      "N_SAMPLES: 94477\n"
     ]
    }
   ],
   "source": [
    "train = pd.read_csv(train_file.get(\"Body\"))\n",
    "\n",
    "N_SAMPLES = len(train)\n",
    "print(f'N_SAMPLES: {N_SAMPLES}')"
   ]
  },
  {
   "cell_type": "code",
   "execution_count": 8,
   "id": "66223025-c989-49dd-b662-a487c27d9bf5",
   "metadata": {
    "tags": []
   },
   "outputs": [],
   "source": [
    "# Get complete file path to file\n",
    "def get_file_path(path):\n",
    "    return f'{AWS_S3_BUCKET}/raw-data/{path}'\n",
    "\n",
    "train['file_path'] = train['path'].apply(get_file_path)"
   ]
  },
  {
   "cell_type": "code",
   "execution_count": 9,
   "id": "9e70a14b-8be1-496c-a1ad-88aeb640d814",
   "metadata": {
    "tags": []
   },
   "outputs": [],
   "source": [
    "# Add ordinally Encoded Sign (assign number to each sign name)\n",
    "train['sign_ord'] = train['sign'].astype('category').cat.codes\n",
    "\n",
    "# Dictionaries to translate sign <-> ordinal encoded sign\n",
    "SIGN2ORD = train[['sign', 'sign_ord']].set_index('sign').squeeze().to_dict()\n",
    "ORD2SIGN = train[['sign_ord', 'sign']].set_index('sign_ord').squeeze().to_dict()"
   ]
  },
  {
   "cell_type": "code",
   "execution_count": 10,
   "id": "48531589-2a82-43d6-8e54-4adcff751c41",
   "metadata": {
    "tags": []
   },
   "outputs": [
    {
     "data": {
      "text/html": [
       "<div>\n",
       "<style scoped>\n",
       "    .dataframe tbody tr th:only-of-type {\n",
       "        vertical-align: middle;\n",
       "    }\n",
       "\n",
       "    .dataframe tbody tr th {\n",
       "        vertical-align: top;\n",
       "    }\n",
       "\n",
       "    .dataframe thead th {\n",
       "        text-align: right;\n",
       "    }\n",
       "</style>\n",
       "<table border=\"1\" class=\"dataframe\">\n",
       "  <thead>\n",
       "    <tr style=\"text-align: right;\">\n",
       "      <th></th>\n",
       "      <th>path</th>\n",
       "      <th>participant_id</th>\n",
       "      <th>sequence_id</th>\n",
       "      <th>sign</th>\n",
       "      <th>file_path</th>\n",
       "      <th>sign_ord</th>\n",
       "    </tr>\n",
       "  </thead>\n",
       "  <tbody>\n",
       "    <tr>\n",
       "      <th>0</th>\n",
       "      <td>train_landmark_files/26734/1000035562.parquet</td>\n",
       "      <td>26734</td>\n",
       "      <td>1000035562</td>\n",
       "      <td>blow</td>\n",
       "      <td>w251-asl-data/raw-data/train_landmark_files/26...</td>\n",
       "      <td>25</td>\n",
       "    </tr>\n",
       "    <tr>\n",
       "      <th>1</th>\n",
       "      <td>train_landmark_files/28656/1000106739.parquet</td>\n",
       "      <td>28656</td>\n",
       "      <td>1000106739</td>\n",
       "      <td>wait</td>\n",
       "      <td>w251-asl-data/raw-data/train_landmark_files/28...</td>\n",
       "      <td>232</td>\n",
       "    </tr>\n",
       "    <tr>\n",
       "      <th>2</th>\n",
       "      <td>train_landmark_files/16069/100015657.parquet</td>\n",
       "      <td>16069</td>\n",
       "      <td>100015657</td>\n",
       "      <td>cloud</td>\n",
       "      <td>w251-asl-data/raw-data/train_landmark_files/16...</td>\n",
       "      <td>48</td>\n",
       "    </tr>\n",
       "    <tr>\n",
       "      <th>3</th>\n",
       "      <td>train_landmark_files/25571/1000210073.parquet</td>\n",
       "      <td>25571</td>\n",
       "      <td>1000210073</td>\n",
       "      <td>bird</td>\n",
       "      <td>w251-asl-data/raw-data/train_landmark_files/25...</td>\n",
       "      <td>23</td>\n",
       "    </tr>\n",
       "    <tr>\n",
       "      <th>4</th>\n",
       "      <td>train_landmark_files/62590/1000240708.parquet</td>\n",
       "      <td>62590</td>\n",
       "      <td>1000240708</td>\n",
       "      <td>owie</td>\n",
       "      <td>w251-asl-data/raw-data/train_landmark_files/62...</td>\n",
       "      <td>164</td>\n",
       "    </tr>\n",
       "    <tr>\n",
       "      <th>5</th>\n",
       "      <td>train_landmark_files/26734/1000241583.parquet</td>\n",
       "      <td>26734</td>\n",
       "      <td>1000241583</td>\n",
       "      <td>duck</td>\n",
       "      <td>w251-asl-data/raw-data/train_landmark_files/26...</td>\n",
       "      <td>67</td>\n",
       "    </tr>\n",
       "    <tr>\n",
       "      <th>6</th>\n",
       "      <td>train_landmark_files/26734/1000255522.parquet</td>\n",
       "      <td>26734</td>\n",
       "      <td>1000255522</td>\n",
       "      <td>minemy</td>\n",
       "      <td>w251-asl-data/raw-data/train_landmark_files/26...</td>\n",
       "      <td>143</td>\n",
       "    </tr>\n",
       "    <tr>\n",
       "      <th>7</th>\n",
       "      <td>train_landmark_files/32319/1000278229.parquet</td>\n",
       "      <td>32319</td>\n",
       "      <td>1000278229</td>\n",
       "      <td>lips</td>\n",
       "      <td>w251-asl-data/raw-data/train_landmark_files/32...</td>\n",
       "      <td>134</td>\n",
       "    </tr>\n",
       "    <tr>\n",
       "      <th>8</th>\n",
       "      <td>train_landmark_files/37055/100035691.parquet</td>\n",
       "      <td>37055</td>\n",
       "      <td>100035691</td>\n",
       "      <td>flower</td>\n",
       "      <td>w251-asl-data/raw-data/train_landmark_files/37...</td>\n",
       "      <td>86</td>\n",
       "    </tr>\n",
       "    <tr>\n",
       "      <th>9</th>\n",
       "      <td>train_landmark_files/29302/100039661.parquet</td>\n",
       "      <td>29302</td>\n",
       "      <td>100039661</td>\n",
       "      <td>time</td>\n",
       "      <td>w251-asl-data/raw-data/train_landmark_files/29...</td>\n",
       "      <td>220</td>\n",
       "    </tr>\n",
       "    <tr>\n",
       "      <th>10</th>\n",
       "      <td>train_landmark_files/49445/1000397667.parquet</td>\n",
       "      <td>49445</td>\n",
       "      <td>1000397667</td>\n",
       "      <td>vacuum</td>\n",
       "      <td>w251-asl-data/raw-data/train_landmark_files/49...</td>\n",
       "      <td>231</td>\n",
       "    </tr>\n",
       "    <tr>\n",
       "      <th>11</th>\n",
       "      <td>train_landmark_files/36257/1000536928.parquet</td>\n",
       "      <td>36257</td>\n",
       "      <td>1000536928</td>\n",
       "      <td>apple</td>\n",
       "      <td>w251-asl-data/raw-data/train_landmark_files/36...</td>\n",
       "      <td>8</td>\n",
       "    </tr>\n",
       "    <tr>\n",
       "      <th>12</th>\n",
       "      <td>train_landmark_files/22343/1000638205.parquet</td>\n",
       "      <td>22343</td>\n",
       "      <td>1000638205</td>\n",
       "      <td>puzzle</td>\n",
       "      <td>w251-asl-data/raw-data/train_landmark_files/22...</td>\n",
       "      <td>180</td>\n",
       "    </tr>\n",
       "    <tr>\n",
       "      <th>13</th>\n",
       "      <td>train_landmark_files/26734/1000661926.parquet</td>\n",
       "      <td>26734</td>\n",
       "      <td>1000661926</td>\n",
       "      <td>mitten</td>\n",
       "      <td>w251-asl-data/raw-data/train_landmark_files/26...</td>\n",
       "      <td>144</td>\n",
       "    </tr>\n",
       "    <tr>\n",
       "      <th>14</th>\n",
       "      <td>train_landmark_files/27610/1000697904.parquet</td>\n",
       "      <td>27610</td>\n",
       "      <td>1000697904</td>\n",
       "      <td>there</td>\n",
       "      <td>w251-asl-data/raw-data/train_landmark_files/27...</td>\n",
       "      <td>216</td>\n",
       "    </tr>\n",
       "    <tr>\n",
       "      <th>15</th>\n",
       "      <td>train_landmark_files/28656/1000862366.parquet</td>\n",
       "      <td>28656</td>\n",
       "      <td>1000862366</td>\n",
       "      <td>dry</td>\n",
       "      <td>w251-asl-data/raw-data/train_landmark_files/28...</td>\n",
       "      <td>65</td>\n",
       "    </tr>\n",
       "    <tr>\n",
       "      <th>16</th>\n",
       "      <td>train_landmark_files/61333/1000909322.parquet</td>\n",
       "      <td>61333</td>\n",
       "      <td>1000909322</td>\n",
       "      <td>shirt</td>\n",
       "      <td>w251-asl-data/raw-data/train_landmark_files/61...</td>\n",
       "      <td>195</td>\n",
       "    </tr>\n",
       "    <tr>\n",
       "      <th>17</th>\n",
       "      <td>train_landmark_files/27610/1000956928.parquet</td>\n",
       "      <td>27610</td>\n",
       "      <td>1000956928</td>\n",
       "      <td>owl</td>\n",
       "      <td>w251-asl-data/raw-data/train_landmark_files/27...</td>\n",
       "      <td>165</td>\n",
       "    </tr>\n",
       "    <tr>\n",
       "      <th>18</th>\n",
       "      <td>train_landmark_files/26734/1001145816.parquet</td>\n",
       "      <td>26734</td>\n",
       "      <td>1001145816</td>\n",
       "      <td>yellow</td>\n",
       "      <td>w251-asl-data/raw-data/train_landmark_files/26...</td>\n",
       "      <td>243</td>\n",
       "    </tr>\n",
       "    <tr>\n",
       "      <th>19</th>\n",
       "      <td>train_landmark_files/28656/1001158776.parquet</td>\n",
       "      <td>28656</td>\n",
       "      <td>1001158776</td>\n",
       "      <td>time</td>\n",
       "      <td>w251-asl-data/raw-data/train_landmark_files/28...</td>\n",
       "      <td>220</td>\n",
       "    </tr>\n",
       "    <tr>\n",
       "      <th>20</th>\n",
       "      <td>train_landmark_files/22343/1001223069.parquet</td>\n",
       "      <td>22343</td>\n",
       "      <td>1001223069</td>\n",
       "      <td>not</td>\n",
       "      <td>w251-asl-data/raw-data/train_landmark_files/22...</td>\n",
       "      <td>156</td>\n",
       "    </tr>\n",
       "    <tr>\n",
       "      <th>21</th>\n",
       "      <td>train_landmark_files/32319/1001258102.parquet</td>\n",
       "      <td>32319</td>\n",
       "      <td>1001258102</td>\n",
       "      <td>zipper</td>\n",
       "      <td>w251-asl-data/raw-data/train_landmark_files/32...</td>\n",
       "      <td>249</td>\n",
       "    </tr>\n",
       "    <tr>\n",
       "      <th>22</th>\n",
       "      <td>train_landmark_files/26734/1001284511.parquet</td>\n",
       "      <td>26734</td>\n",
       "      <td>1001284511</td>\n",
       "      <td>clean</td>\n",
       "      <td>w251-asl-data/raw-data/train_landmark_files/26...</td>\n",
       "      <td>45</td>\n",
       "    </tr>\n",
       "    <tr>\n",
       "      <th>23</th>\n",
       "      <td>train_landmark_files/53618/1001363076.parquet</td>\n",
       "      <td>53618</td>\n",
       "      <td>1001363076</td>\n",
       "      <td>closet</td>\n",
       "      <td>w251-asl-data/raw-data/train_landmark_files/53...</td>\n",
       "      <td>47</td>\n",
       "    </tr>\n",
       "    <tr>\n",
       "      <th>24</th>\n",
       "      <td>train_landmark_files/34503/100137027.parquet</td>\n",
       "      <td>34503</td>\n",
       "      <td>100137027</td>\n",
       "      <td>quiet</td>\n",
       "      <td>w251-asl-data/raw-data/train_landmark_files/34...</td>\n",
       "      <td>181</td>\n",
       "    </tr>\n",
       "    <tr>\n",
       "      <th>25</th>\n",
       "      <td>train_landmark_files/18796/1001373962.parquet</td>\n",
       "      <td>18796</td>\n",
       "      <td>1001373962</td>\n",
       "      <td>have</td>\n",
       "      <td>w251-asl-data/raw-data/train_landmark_files/18...</td>\n",
       "      <td>108</td>\n",
       "    </tr>\n",
       "    <tr>\n",
       "      <th>26</th>\n",
       "      <td>train_landmark_files/53618/1001379621.parquet</td>\n",
       "      <td>53618</td>\n",
       "      <td>1001379621</td>\n",
       "      <td>brother</td>\n",
       "      <td>w251-asl-data/raw-data/train_landmark_files/53...</td>\n",
       "      <td>30</td>\n",
       "    </tr>\n",
       "    <tr>\n",
       "      <th>27</th>\n",
       "      <td>train_landmark_files/4718/1001385785.parquet</td>\n",
       "      <td>4718</td>\n",
       "      <td>1001385785</td>\n",
       "      <td>clown</td>\n",
       "      <td>w251-asl-data/raw-data/train_landmark_files/47...</td>\n",
       "      <td>49</td>\n",
       "    </tr>\n",
       "    <tr>\n",
       "      <th>28</th>\n",
       "      <td>train_landmark_files/55372/1001471195.parquet</td>\n",
       "      <td>55372</td>\n",
       "      <td>1001471195</td>\n",
       "      <td>cheek</td>\n",
       "      <td>w251-asl-data/raw-data/train_landmark_files/55...</td>\n",
       "      <td>41</td>\n",
       "    </tr>\n",
       "    <tr>\n",
       "      <th>29</th>\n",
       "      <td>train_landmark_files/53618/1001490690.parquet</td>\n",
       "      <td>53618</td>\n",
       "      <td>1001490690</td>\n",
       "      <td>cute</td>\n",
       "      <td>w251-asl-data/raw-data/train_landmark_files/53...</td>\n",
       "      <td>54</td>\n",
       "    </tr>\n",
       "  </tbody>\n",
       "</table>\n",
       "</div>"
      ],
      "text/plain": [
       "                                             path  participant_id  \\\n",
       "0   train_landmark_files/26734/1000035562.parquet           26734   \n",
       "1   train_landmark_files/28656/1000106739.parquet           28656   \n",
       "2    train_landmark_files/16069/100015657.parquet           16069   \n",
       "3   train_landmark_files/25571/1000210073.parquet           25571   \n",
       "4   train_landmark_files/62590/1000240708.parquet           62590   \n",
       "5   train_landmark_files/26734/1000241583.parquet           26734   \n",
       "6   train_landmark_files/26734/1000255522.parquet           26734   \n",
       "7   train_landmark_files/32319/1000278229.parquet           32319   \n",
       "8    train_landmark_files/37055/100035691.parquet           37055   \n",
       "9    train_landmark_files/29302/100039661.parquet           29302   \n",
       "10  train_landmark_files/49445/1000397667.parquet           49445   \n",
       "11  train_landmark_files/36257/1000536928.parquet           36257   \n",
       "12  train_landmark_files/22343/1000638205.parquet           22343   \n",
       "13  train_landmark_files/26734/1000661926.parquet           26734   \n",
       "14  train_landmark_files/27610/1000697904.parquet           27610   \n",
       "15  train_landmark_files/28656/1000862366.parquet           28656   \n",
       "16  train_landmark_files/61333/1000909322.parquet           61333   \n",
       "17  train_landmark_files/27610/1000956928.parquet           27610   \n",
       "18  train_landmark_files/26734/1001145816.parquet           26734   \n",
       "19  train_landmark_files/28656/1001158776.parquet           28656   \n",
       "20  train_landmark_files/22343/1001223069.parquet           22343   \n",
       "21  train_landmark_files/32319/1001258102.parquet           32319   \n",
       "22  train_landmark_files/26734/1001284511.parquet           26734   \n",
       "23  train_landmark_files/53618/1001363076.parquet           53618   \n",
       "24   train_landmark_files/34503/100137027.parquet           34503   \n",
       "25  train_landmark_files/18796/1001373962.parquet           18796   \n",
       "26  train_landmark_files/53618/1001379621.parquet           53618   \n",
       "27   train_landmark_files/4718/1001385785.parquet            4718   \n",
       "28  train_landmark_files/55372/1001471195.parquet           55372   \n",
       "29  train_landmark_files/53618/1001490690.parquet           53618   \n",
       "\n",
       "    sequence_id     sign                                          file_path  \\\n",
       "0    1000035562     blow  w251-asl-data/raw-data/train_landmark_files/26...   \n",
       "1    1000106739     wait  w251-asl-data/raw-data/train_landmark_files/28...   \n",
       "2     100015657    cloud  w251-asl-data/raw-data/train_landmark_files/16...   \n",
       "3    1000210073     bird  w251-asl-data/raw-data/train_landmark_files/25...   \n",
       "4    1000240708     owie  w251-asl-data/raw-data/train_landmark_files/62...   \n",
       "5    1000241583     duck  w251-asl-data/raw-data/train_landmark_files/26...   \n",
       "6    1000255522   minemy  w251-asl-data/raw-data/train_landmark_files/26...   \n",
       "7    1000278229     lips  w251-asl-data/raw-data/train_landmark_files/32...   \n",
       "8     100035691   flower  w251-asl-data/raw-data/train_landmark_files/37...   \n",
       "9     100039661     time  w251-asl-data/raw-data/train_landmark_files/29...   \n",
       "10   1000397667   vacuum  w251-asl-data/raw-data/train_landmark_files/49...   \n",
       "11   1000536928    apple  w251-asl-data/raw-data/train_landmark_files/36...   \n",
       "12   1000638205   puzzle  w251-asl-data/raw-data/train_landmark_files/22...   \n",
       "13   1000661926   mitten  w251-asl-data/raw-data/train_landmark_files/26...   \n",
       "14   1000697904    there  w251-asl-data/raw-data/train_landmark_files/27...   \n",
       "15   1000862366      dry  w251-asl-data/raw-data/train_landmark_files/28...   \n",
       "16   1000909322    shirt  w251-asl-data/raw-data/train_landmark_files/61...   \n",
       "17   1000956928      owl  w251-asl-data/raw-data/train_landmark_files/27...   \n",
       "18   1001145816   yellow  w251-asl-data/raw-data/train_landmark_files/26...   \n",
       "19   1001158776     time  w251-asl-data/raw-data/train_landmark_files/28...   \n",
       "20   1001223069      not  w251-asl-data/raw-data/train_landmark_files/22...   \n",
       "21   1001258102   zipper  w251-asl-data/raw-data/train_landmark_files/32...   \n",
       "22   1001284511    clean  w251-asl-data/raw-data/train_landmark_files/26...   \n",
       "23   1001363076   closet  w251-asl-data/raw-data/train_landmark_files/53...   \n",
       "24    100137027    quiet  w251-asl-data/raw-data/train_landmark_files/34...   \n",
       "25   1001373962     have  w251-asl-data/raw-data/train_landmark_files/18...   \n",
       "26   1001379621  brother  w251-asl-data/raw-data/train_landmark_files/53...   \n",
       "27   1001385785    clown  w251-asl-data/raw-data/train_landmark_files/47...   \n",
       "28   1001471195    cheek  w251-asl-data/raw-data/train_landmark_files/55...   \n",
       "29   1001490690     cute  w251-asl-data/raw-data/train_landmark_files/53...   \n",
       "\n",
       "    sign_ord  \n",
       "0         25  \n",
       "1        232  \n",
       "2         48  \n",
       "3         23  \n",
       "4        164  \n",
       "5         67  \n",
       "6        143  \n",
       "7        134  \n",
       "8         86  \n",
       "9        220  \n",
       "10       231  \n",
       "11         8  \n",
       "12       180  \n",
       "13       144  \n",
       "14       216  \n",
       "15        65  \n",
       "16       195  \n",
       "17       165  \n",
       "18       243  \n",
       "19       220  \n",
       "20       156  \n",
       "21       249  \n",
       "22        45  \n",
       "23        47  \n",
       "24       181  \n",
       "25       108  \n",
       "26        30  \n",
       "27        49  \n",
       "28        41  \n",
       "29        54  "
      ]
     },
     "metadata": {},
     "output_type": "display_data"
    },
    {
     "name": "stdout",
     "output_type": "stream",
     "text": [
      "<class 'pandas.core.frame.DataFrame'>\n",
      "RangeIndex: 94477 entries, 0 to 94476\n",
      "Data columns (total 6 columns):\n",
      " #   Column          Non-Null Count  Dtype \n",
      "---  ------          --------------  ----- \n",
      " 0   path            94477 non-null  object\n",
      " 1   participant_id  94477 non-null  int64 \n",
      " 2   sequence_id     94477 non-null  int64 \n",
      " 3   sign            94477 non-null  object\n",
      " 4   file_path       94477 non-null  object\n",
      " 5   sign_ord        94477 non-null  int16 \n",
      "dtypes: int16(1), int64(2), object(3)\n",
      "memory usage: 3.8+ MB\n"
     ]
    },
    {
     "data": {
      "text/plain": [
       "None"
      ]
     },
     "metadata": {},
     "output_type": "display_data"
    }
   ],
   "source": [
    "display(train.head(30))\n",
    "display(train.info())"
   ]
  },
  {
   "cell_type": "code",
   "execution_count": 11,
   "id": "b319f3f4-dac7-43aa-8972-ba5bbbf7b475",
   "metadata": {
    "tags": []
   },
   "outputs": [],
   "source": [
    "# Source: https://www.kaggle.com/competitions/asl-signs/overview/evaluation\n",
    "ROWS_PER_FRAME = 543  # number of landmarks per frame\n",
    "#w251-asl-data/raw-data/train_landmark_files/28656/3311214787.parquet\n",
    "\n",
    "def load_relevant_data_subset(pq_path):\n",
    "    data_columns = ['x', 'y']\n",
    "    data = pd_read_s3_parquet(pq_path[14:], AWS_S3_BUCKET, columns=data_columns)\n",
    "    n_frames = int(len(data) / ROWS_PER_FRAME)\n",
    "    data = data.values.reshape(n_frames, ROWS_PER_FRAME, len(data_columns))\n",
    "    return data.astype(np.float32)"
   ]
  },
  {
   "cell_type": "code",
   "execution_count": null,
   "id": "b35150b8-20d6-48b4-a6d3-6cab6f1357a6",
   "metadata": {
    "tags": []
   },
   "outputs": [],
   "source": [
    "\"\"\"\n",
    "    face: 0:468\n",
    "    left_hand: 468:489\n",
    "    pose: 489:522\n",
    "    right_hand: 522:544\n",
    "        \n",
    "\"\"\"\n",
    "\n",
    "USE_TYPES = ['left_hand', 'pose', 'right_hand']\n",
    "START_IDX = 468\n",
    "LIPS_IDXS0 = np.array([\n",
    "        61, 185, 40, 39, 37, 0, 267, 269, 270, 409,\n",
    "        291, 146, 91, 181, 84, 17, 314, 405, 321, 375,\n",
    "        78, 191, 80, 81, 82, 13, 312, 311, 310, 415,\n",
    "        95, 88, 178, 87, 14, 317, 402, 318, 324, 308,\n",
    "    ])\n",
    "# Landmark indices in original data\n",
    "LEFT_HAND_IDXS0 = np.arange(468,489)\n",
    "RIGHT_HAND_IDXS0 = np.arange(522,543)\n",
    "POSE_IDXS0 = np.arange(502, 512)\n",
    "LANDMARK_IDXS0 = np.concatenate((LIPS_IDXS0, LEFT_HAND_IDXS0, RIGHT_HAND_IDXS0, POSE_IDXS0))\n",
    "HAND_IDXS0 = np.concatenate((LEFT_HAND_IDXS0, RIGHT_HAND_IDXS0), axis=0)\n",
    "N_COLS = LANDMARK_IDXS0.size\n",
    "# Landmark indices in processed data\n",
    "LIPS_IDXS = np.argwhere(np.isin(LANDMARK_IDXS0, LIPS_IDXS0)).squeeze()\n",
    "LEFT_HAND_IDXS = np.argwhere(np.isin(LANDMARK_IDXS0, LEFT_HAND_IDXS0)).squeeze()\n",
    "RIGHT_HAND_IDXS = np.argwhere(np.isin(LANDMARK_IDXS0, RIGHT_HAND_IDXS0)).squeeze()\n",
    "HAND_IDXS = np.argwhere(np.isin(LANDMARK_IDXS0, HAND_IDXS0)).squeeze()\n",
    "POSE_IDXS = np.argwhere(np.isin(LANDMARK_IDXS0, POSE_IDXS0)).squeeze()\n",
    "\n",
    "print(f'# HAND_IDXS: {len(HAND_IDXS)}, N_COLS: {N_COLS}')"
   ]
  },
  {
   "cell_type": "code",
   "execution_count": null,
   "id": "dd859631-8867-48f8-8e79-73b9d907ae7b",
   "metadata": {
    "tags": []
   },
   "outputs": [],
   "source": [
    "LIPS_START = 0\n",
    "LEFT_HAND_START = LIPS_IDXS.size\n",
    "RIGHT_HAND_START = LEFT_HAND_START + LEFT_HAND_IDXS.size\n",
    "POSE_START = RIGHT_HAND_START + RIGHT_HAND_IDXS.size\n",
    "\n",
    "print(f'LIPS_START: {LIPS_START}, LEFT_HAND_START: {LEFT_HAND_START}, RIGHT_HAND_START: {RIGHT_HAND_START}, POSE_START: {POSE_START}')"
   ]
  },
  {
   "cell_type": "code",
   "execution_count": null,
   "id": "5c319d84-7646-4a42-b4ce-8e2e1c9d3f5c",
   "metadata": {
    "tags": []
   },
   "outputs": [],
   "source": [
    "preprocess_layer = PreprocessLayer(config[\"N_ROWS\"], config[\"N_DIMS\"], HAND_IDXS0, LANDMARK_IDXS0, config[\"INPUT_SIZE\"])"
   ]
  },
  {
   "cell_type": "code",
   "execution_count": null,
   "id": "aae5f2ac-9674-4aac-9fb3-bc623a4ce9df",
   "metadata": {
    "tags": []
   },
   "outputs": [],
   "source": [
    "\"\"\"\n",
    "    face: 0:468\n",
    "    left_hand: 468:489\n",
    "    pose: 489:522\n",
    "    right_hand: 522:544\n",
    "        \n",
    "\"\"\"\n",
    "def get_data(file_path):\n",
    "    # Load Raw Data\n",
    "    data = load_relevant_data_subset(file_path)\n",
    "    # Process Data Using Tensorflow\n",
    "    data = preprocess_layer(data)\n",
    "    \n",
    "    return data"
   ]
  },
  {
   "cell_type": "code",
   "execution_count": null,
   "id": "6ee2a897-3852-4f3b-9823-88be2b3977ed",
   "metadata": {
    "tags": []
   },
   "outputs": [],
   "source": [
    "version = config[\"DATA_VERSION\"]\n",
    "\n",
    "# Get the full dataset\n",
    "def get_x_y():\n",
    "    # Create arrays to save data\n",
    "    X = np.zeros([N_SAMPLES, INPUT_SIZE, N_COLS, N_DIMS], dtype=np.float32)\n",
    "    y = np.zeros([N_SAMPLES], dtype=np.int32)\n",
    "    NON_EMPTY_FRAME_IDXS = np.full([N_SAMPLES, INPUT_SIZE], -1, dtype=np.float32)\n",
    "\n",
    "    for row_idx, (file_path, sign_ord) in enumerate(tqdm(train[['file_path', 'sign_ord']].values)):\n",
    "        if row_idx % 5000 == 0:\n",
    "            print(f'Generated {row_idx}/{N_SAMPLES}')\n",
    "\n",
    "        data, non_empty_frame_idxs = get_data(file_path)\n",
    "        X[row_idx] = data\n",
    "        y[row_idx] = sign_ord\n",
    "        NON_EMPTY_FRAME_IDXS[row_idx] = non_empty_frame_idxs\n",
    "        if np.isnan(data).sum() > 0:\n",
    "            print(row_idx)\n",
    "            return data\n",
    "    \n",
    "    # Save X/y\n",
    "    np.save('X.npy', X)\n",
    "    np.save('y.npy', y)\n",
    "    np.save('NON_EMPTY_FRAME_IDXS.npy', NON_EMPTY_FRAME_IDXS)\n",
    "    \n",
    "    # Put to S3\n",
    "    upload_file(\"./X.npy\", AWS_S3_BUCKET, f'processed-data/v{version}/X.npy')\n",
    "    upload_file(\"./y.npy\", AWS_S3_BUCKET, f'processed-data/v{version}/y.npy')\n",
    "    upload_file(\"./NON_EMPTY_FRAME_IDXS.npy\", AWS_S3_BUCKET, f'processed-data/v{version}/NON_EMPTY_FRAME_IDXS.npy')\n",
    "    \n",
    "    return X, y, NON_EMPTY_FRAME_IDXS"
   ]
  },
  {
   "cell_type": "code",
   "execution_count": null,
   "id": "ceb4a87a-890c-4985-9840-d45ca9e91569",
   "metadata": {
    "tags": []
   },
   "outputs": [],
   "source": [
    "if PREPROCESS_DATA:\n",
    "    X, y, NON_EMPTY_FRAME_IDXS = get_x_y()\n",
    "else:\n",
    "    X = s3_client.get_object(Bucket=AWS_S3_BUCKET, Key=f'processed-data/v{version}/X.npy')\n",
    "    X = np.load(io.BytesIO(X['Body'].read()))\n",
    "    \n",
    "    y = s3_client.get_object(Bucket=AWS_S3_BUCKET, Key=f'processed-data/v{version}/y.npy')\n",
    "    y = np.load(io.BytesIO(y['Body'].read()))\n",
    "    \n",
    "    NON_EMPTY_FRAME_IDXS = s3_client.get_object(Bucket=AWS_S3_BUCKET, Key=f'processed-data/v{version}/NON_EMPTY_FRAME_IDXS.npy')\n",
    "    NON_EMPTY_FRAME_IDXS = np.load(io.BytesIO(NON_EMPTY_FRAME_IDXS['Body'].read()))\n",
    "    \n",
    "print_shape_dtype([X, y, NON_EMPTY_FRAME_IDXS], ['X', 'y', 'NON_EMPTY_FRAME_IDXS'])\n",
    "print(f'# NaN Values X: {np.isnan(X).sum()}')"
   ]
  },
  {
   "cell_type": "code",
   "execution_count": null,
   "id": "492118d3-97a3-4a2d-a2a3-1d2eb8485cf2",
   "metadata": {
    "tags": []
   },
   "outputs": [],
   "source": [
    "display(pd.Series(y).value_counts().to_frame('Class Count').iloc[[0,1,2,3,4, -5,-4,-3,-2,-1]])"
   ]
  },
  {
   "cell_type": "code",
   "execution_count": null,
   "id": "3864425d-7123-42bb-b1f1-5a082e86e6dc",
   "metadata": {
    "tags": []
   },
   "outputs": [],
   "source": [
    "X = s3_client.get_object(Bucket=AWS_S3_BUCKET, Key=f'processed-data/v{version}/X.npy')\n",
    "X = np.load(io.BytesIO(X['Body'].read()))\n",
    "\n",
    "y = s3_client.get_object(Bucket=AWS_S3_BUCKET, Key=f'processed-data/v{version}/y.npy')\n",
    "y = np.load(io.BytesIO(y['Body'].read()))\n",
    "\n",
    "NON_EMPTY_FRAME_IDXS = s3_client.get_object(Bucket=AWS_S3_BUCKET, Key=f'processed-data/v{version}/NON_EMPTY_FRAME_IDXS.npy')\n",
    "NON_EMPTY_FRAME_IDXS = np.load(io.BytesIO(NON_EMPTY_FRAME_IDXS['Body'].read()))"
   ]
  },
  {
   "cell_type": "code",
   "execution_count": null,
   "id": "401e894d-d064-4644-a8e2-6f5098ec3333",
   "metadata": {
    "tags": []
   },
   "outputs": [],
   "source": [
    "pp = PreprocessLayerMod(config[\"N_ROWS\"], config[\"N_DIMS\"], HAND_IDXS0, LANDMARK_IDXS0, config[\"INPUT_SIZE\"])"
   ]
  },
  {
   "cell_type": "code",
   "execution_count": 12,
   "id": "c3faa0b8-ff23-4272-88d2-1edfbad930ac",
   "metadata": {
    "tags": []
   },
   "outputs": [
    {
     "name": "stderr",
     "output_type": "stream",
     "text": [
      "2023-04-06 03:51:35.565028: I tensorflow/compiler/xla/stream_executor/cuda/cuda_gpu_executor.cc:996] successful NUMA node read from SysFS had negative value (-1), but there must be at least one NUMA node, so returning NUMA node zero. See more at https://github.com/torvalds/linux/blob/v6.0/Documentation/ABI/testing/sysfs-bus-pci#L344-L355\n",
      "2023-04-06 03:51:35.586619: I tensorflow/compiler/xla/stream_executor/cuda/cuda_gpu_executor.cc:996] successful NUMA node read from SysFS had negative value (-1), but there must be at least one NUMA node, so returning NUMA node zero. See more at https://github.com/torvalds/linux/blob/v6.0/Documentation/ABI/testing/sysfs-bus-pci#L344-L355\n",
      "2023-04-06 03:51:35.588643: I tensorflow/compiler/xla/stream_executor/cuda/cuda_gpu_executor.cc:996] successful NUMA node read from SysFS had negative value (-1), but there must be at least one NUMA node, so returning NUMA node zero. See more at https://github.com/torvalds/linux/blob/v6.0/Documentation/ABI/testing/sysfs-bus-pci#L344-L355\n",
      "2023-04-06 03:51:35.591044: I tensorflow/compiler/xla/stream_executor/cuda/cuda_gpu_executor.cc:996] successful NUMA node read from SysFS had negative value (-1), but there must be at least one NUMA node, so returning NUMA node zero. See more at https://github.com/torvalds/linux/blob/v6.0/Documentation/ABI/testing/sysfs-bus-pci#L344-L355\n",
      "2023-04-06 03:51:35.592973: I tensorflow/compiler/xla/stream_executor/cuda/cuda_gpu_executor.cc:996] successful NUMA node read from SysFS had negative value (-1), but there must be at least one NUMA node, so returning NUMA node zero. See more at https://github.com/torvalds/linux/blob/v6.0/Documentation/ABI/testing/sysfs-bus-pci#L344-L355\n",
      "2023-04-06 03:51:35.594784: I tensorflow/compiler/xla/stream_executor/cuda/cuda_gpu_executor.cc:996] successful NUMA node read from SysFS had negative value (-1), but there must be at least one NUMA node, so returning NUMA node zero. See more at https://github.com/torvalds/linux/blob/v6.0/Documentation/ABI/testing/sysfs-bus-pci#L344-L355\n",
      "2023-04-06 03:51:36.122829: I tensorflow/compiler/xla/stream_executor/cuda/cuda_gpu_executor.cc:996] successful NUMA node read from SysFS had negative value (-1), but there must be at least one NUMA node, so returning NUMA node zero. See more at https://github.com/torvalds/linux/blob/v6.0/Documentation/ABI/testing/sysfs-bus-pci#L344-L355\n",
      "2023-04-06 03:51:36.123797: I tensorflow/compiler/xla/stream_executor/cuda/cuda_gpu_executor.cc:996] successful NUMA node read from SysFS had negative value (-1), but there must be at least one NUMA node, so returning NUMA node zero. See more at https://github.com/torvalds/linux/blob/v6.0/Documentation/ABI/testing/sysfs-bus-pci#L344-L355\n",
      "2023-04-06 03:51:36.124530: I tensorflow/compiler/xla/stream_executor/cuda/cuda_gpu_executor.cc:996] successful NUMA node read from SysFS had negative value (-1), but there must be at least one NUMA node, so returning NUMA node zero. See more at https://github.com/torvalds/linux/blob/v6.0/Documentation/ABI/testing/sysfs-bus-pci#L344-L355\n",
      "2023-04-06 03:51:36.125240: I tensorflow/core/common_runtime/gpu/gpu_device.cc:1635] Created device /job:localhost/replica:0/task:0/device:GPU:0 with 20561 MB memory:  -> device: 0, name: NVIDIA A10G, pci bus id: 0000:00:1e.0, compute capability: 8.6\n"
     ]
    },
    {
     "ename": "NameError",
     "evalue": "name 'HAND_IDXS0' is not defined",
     "output_type": "error",
     "traceback": [
      "\u001b[0;31m---------------------------------------------------------------------------\u001b[0m",
      "\u001b[0;31mNameError\u001b[0m                                 Traceback (most recent call last)",
      "Cell \u001b[0;32mIn[12], line 4\u001b[0m\n\u001b[1;32m      2\u001b[0m data0 \u001b[38;5;241m=\u001b[39m load_relevant_data_subset(\u001b[38;5;124m\"\u001b[39m\u001b[38;5;124mw251-asl-data/raw-data/train_landmark_files/28656/1000106739.parquet\u001b[39m\u001b[38;5;124m\"\u001b[39m)\n\u001b[1;32m      3\u001b[0m N_FRAMES0 \u001b[38;5;241m=\u001b[39m tf\u001b[38;5;241m.\u001b[39mshape(data0)[\u001b[38;5;241m0\u001b[39m] \u001b[38;5;66;03m# 11\u001b[39;00m\n\u001b[0;32m----> 4\u001b[0m gather \u001b[38;5;241m=\u001b[39m tf\u001b[38;5;241m.\u001b[39mgather(data0, \u001b[43mHAND_IDXS0\u001b[49m, axis\u001b[38;5;241m=\u001b[39m\u001b[38;5;241m1\u001b[39m) \u001b[38;5;66;03m# Returns all frames with hand landmark data\u001b[39;00m\n\u001b[1;32m      5\u001b[0m frames_hands_nansum \u001b[38;5;241m=\u001b[39m tf\u001b[38;5;241m.\u001b[39mexperimental\u001b[38;5;241m.\u001b[39mnumpy\u001b[38;5;241m.\u001b[39mnanmean(gather, axis\u001b[38;5;241m=\u001b[39m[\u001b[38;5;241m1\u001b[39m,\u001b[38;5;241m2\u001b[39m]) \u001b[38;5;66;03m# Get mean across X,Y sum them together\u001b[39;00m\n\u001b[1;32m      6\u001b[0m non_empty_frames_idxs \u001b[38;5;241m=\u001b[39m tf\u001b[38;5;241m.\u001b[39mwhere(frames_hands_nansum \u001b[38;5;241m>\u001b[39m \u001b[38;5;241m0\u001b[39m) \n",
      "\u001b[0;31mNameError\u001b[0m: name 'HAND_IDXS0' is not defined"
     ]
    }
   ],
   "source": [
    "# Execution when there are less frames than specificed input size. \n",
    "data0 = load_relevant_data_subset(\"w251-asl-data/raw-data/train_landmark_files/28656/1000106739.parquet\")\n",
    "N_FRAMES0 = tf.shape(data0)[0] # 11\n",
    "gather = tf.gather(data0, HAND_IDXS0, axis=1) # Returns all frames with hand landmark data\n",
    "frames_hands_nansum = tf.experimental.numpy.nanmean(gather, axis=[1,2]) # Get mean across X,Y sum them together\n",
    "non_empty_frames_idxs = tf.where(frames_hands_nansum > 0) \n",
    "non_empty_frames_idxs = tf.squeeze(non_empty_frames_idxs, axis=1) # Get indicies where there are no NAN\n",
    "data = tf.gather(data0, non_empty_frames_idxs, axis=0) # Put frames that have non-empty indicies into single tensor\n",
    "non_empty_frames_idxs = tf.cast(non_empty_frames_idxs, tf.float32) # Cast\n",
    "N_FRAMES = tf.shape(data)[0] # Number of frames in the video with non-empty hands\n",
    "data = tf.gather(data, LANDMARK_IDXS0, axis=1) # Filters out landmarks that have not been selected\n",
    "# Pads to the right of non_empty_frames_idxs with -1's\n",
    "non_empty_frames_idxs = tf.pad(non_empty_frames_idxs, [[0, config[\"INPUT_SIZE\"]-N_FRAMES]], constant_values=-1)\n",
    "data = tf.pad(data, [[0, config[\"INPUT_SIZE\"]-N_FRAMES], [0,0], [0,0]], constant_values=0) # Fill all the -1's with zero values.\n",
    "data = tf.where(tf.math.is_nan(data), 0.0, data) # Fill all NANs with 0."
   ]
  },
  {
   "cell_type": "code",
   "execution_count": null,
   "id": "dc287499-ce32-473f-8aa5-dd3e14ef00df",
   "metadata": {
    "tags": []
   },
   "outputs": [],
   "source": [
    "### Modified testing\n",
    "\n",
    "data = tf.gather(data0, LANDMARK_IDXS0, axis=1)"
   ]
  },
  {
   "cell_type": "code",
   "execution_count": null,
   "id": "030b17a3-14fa-4d49-a541-cc5d217613a4",
   "metadata": {
    "tags": []
   },
   "outputs": [],
   "source": [
    "data.shape"
   ]
  },
  {
   "cell_type": "code",
   "execution_count": null,
   "id": "679e6aa2-c729-467d-9edd-9a1e2a14f68c",
   "metadata": {
    "tags": []
   },
   "outputs": [],
   "source": [
    "class PreprocessLayerMod(tf.keras.layers.Layer):\n",
    "    def __init__(self, N_ROWS, N_DIMS, HAND_IDXS0, LANDMARK_IDXS0, INPUT_SIZE):\n",
    "        super(PreprocessLayerMod, self).__init__()\n",
    "        self.N_ROWS = N_ROWS\n",
    "        self.N_DIMS = N_DIMS\n",
    "        self.HAND_IDXS0 = HAND_IDXS0\n",
    "        self.LANDMARK_IDXS0 = LANDMARK_IDXS0\n",
    "        self.INPUT_SIZE = INPUT_SIZE\n",
    "        self.N_COLS = LANDMARK_IDXS0.size\n",
    "        \n",
    "    def pad_edge(self, t, repeats, side):\n",
    "        if side == 'LEFT':\n",
    "            return tf.concat((tf.repeat(t[:1], repeats=repeats, axis=0), t), axis=0)\n",
    "        elif side == 'RIGHT':\n",
    "            return tf.concat((t, tf.repeat(t[-1:], repeats=repeats, axis=0)), axis=0)\n",
    "    \n",
    "    @tf.function(\n",
    "        input_signature=(tf.TensorSpec(shape=[None, 543, 2], dtype=tf.float32),),\n",
    "    )\n",
    "    def call(self, data0):\n",
    "        # Number of Frames in Video\n",
    "        N_FRAMES0 = tf.shape(data0)[0]\n",
    "        \n",
    "        # Filter Out Frames With Empty Hand Data\n",
    "        frames_hands_nansum = tf.experimental.numpy.nanmean(tf.gather(data0, self.HAND_IDXS0, axis=1), axis=[1,2])\n",
    "        non_empty_frames_idxs = tf.where(frames_hands_nansum > 0)\n",
    "        non_empty_frames_idxs = tf.squeeze(non_empty_frames_idxs, axis=1)\n",
    "        data = tf.gather(data0, non_empty_frames_idxs, axis=0)\n",
    "        \n",
    "        # Cast Indices in float32 to be compatible with Tensorflow Lite\n",
    "        non_empty_frames_idxs = tf.cast(non_empty_frames_idxs, tf.float32) \n",
    "\n",
    "        # Number of Frames in Filtered Video\n",
    "        N_FRAMES = tf.shape(data)[0]\n",
    "        \n",
    "        # Gather Relevant Landmark Columns\n",
    "        data = tf.gather(data, self.LANDMARK_IDXS0, axis=1)\n",
    "        \n",
    "        # Video fits in self.INPUT_SIZE\n",
    "        if N_FRAMES < self.INPUT_SIZE:\n",
    "            # Pad With -1 to indicate padding\n",
    "            non_empty_frames_idxs = tf.pad(non_empty_frames_idxs, [[0, self.INPUT_SIZE-N_FRAMES]], constant_values=-1)\n",
    "            # Pad Data With Zeros\n",
    "            data = tf.pad(data, [[0, self.INPUT_SIZE-N_FRAMES], [0,0], [0,0]], constant_values=0)\n",
    "            # Fill NaN Values With 0\n",
    "            data = tf.where(tf.math.is_nan(data), 0.0, data)\n",
    "            return data, non_empty_frames_idxs\n",
    "        # Video needs to be downsampled to INPUT_SIZE\n",
    "        else:\n",
    "            # Repeat\n",
    "            if N_FRAMES < self.INPUT_SIZE**2:\n",
    "                repeats = tf.math.floordiv(self.INPUT_SIZE * self.INPUT_SIZE, N_FRAMES0)\n",
    "                data = tf.repeat(data, repeats=repeats, axis=0)\n",
    "                non_empty_frames_idxs = tf.repeat(non_empty_frames_idxs, repeats=repeats, axis=0)\n",
    "\n",
    "            # Pad To Multiple Of Input Size\n",
    "            pool_size = tf.math.floordiv(len(data), self.INPUT_SIZE)\n",
    "            if tf.math.mod(len(data), self.INPUT_SIZE) > 0:\n",
    "                pool_size += 1\n",
    "\n",
    "            if pool_size == 1:\n",
    "                pad_size = (pool_size * self.INPUT_SIZE) - len(data)\n",
    "            else:\n",
    "                pad_size = (pool_size * self.INPUT_SIZE) % len(data)\n",
    "\n",
    "            # Pad Start/End with Start/End value\n",
    "            pad_left = tf.math.floordiv(pad_size, 2) + tf.math.floordiv(self.INPUT_SIZE, 2)\n",
    "            pad_right = tf.math.floordiv(pad_size, 2) + tf.math.floordiv(self.INPUT_SIZE, 2)\n",
    "            if tf.math.mod(pad_size, 2) > 0:\n",
    "                pad_right += 1\n",
    "\n",
    "            # Pad By Concatenating Left/Right Edge Values\n",
    "            data = self.pad_edge(data, pad_left, 'LEFT')\n",
    "            data = self.pad_edge(data, pad_right, 'RIGHT')\n",
    "\n",
    "            # Pad Non Empty Frame Indices\n",
    "            non_empty_frames_idxs = self.pad_edge(non_empty_frames_idxs, pad_left, 'LEFT')\n",
    "            non_empty_frames_idxs = self.pad_edge(non_empty_frames_idxs, pad_right, 'RIGHT')\n",
    "\n",
    "            # Reshape to Mean Pool\n",
    "            data = tf.reshape(data, [self.INPUT_SIZE, -1, self.N_COLS, self.N_DIMS])\n",
    "            non_empty_frames_idxs = tf.reshape(non_empty_frames_idxs, [self.INPUT_SIZE, -1])\n",
    "\n",
    "            # Mean Pool\n",
    "            data = tf.experimental.numpy.nanmean(data, axis=1)\n",
    "            non_empty_frames_idxs = tf.experimental.numpy.nanmean(non_empty_frames_idxs, axis=1)\n",
    "\n",
    "            # Fill NaN Values With 0\n",
    "            data = tf.where(tf.math.is_nan(data), 0.0, data)\n",
    "            \n",
    "            return data, non_empty_frames_idxs"
   ]
  },
  {
   "cell_type": "code",
   "execution_count": 22,
   "id": "72fcb222-ae5e-4b62-9cb6-91536f625230",
   "metadata": {
    "tags": []
   },
   "outputs": [],
   "source": [
    "LIPS_IDXS0 = [0, 11, 12, 13, 14, 15, 17, 37, 38, 39, 40, 41, 42, 61, 62, 72, 73, \n",
    "        74, 76, 77, 78, 80, 81, 82, 84, 86, 87, 88, 89, 90, 91, 95, 96, 146, \n",
    "        178, 179, 180, 181, 183, 184, 185, 191, 267, 268, 269, 270, 271, 272, \n",
    "        291, 292, 302, 303, 304, 306, 307, 308, 310, 311, 312, 314, 316, 317, \n",
    "        318, 319, 320, 321, 324, 325, 375, 402, 403, 404, 405, 407, 408, 409, 415]\n",
    "\n",
    "EYES_IDXS0 = [  6,   7,  22,  23,  24,  25,  26,  30,  31,  33,  56, 110, 112,\n",
    "       113, 122, 128, 130, 133, 144, 145, 153, 154, 155, 157, 158, 159,\n",
    "       160, 161, 163, 168, 173, 188, 189, 190, 193, 196, 197, 232, 233,\n",
    "       243, 244, 245, 246, 247, 249, 252, 253, 254, 255, 256, 259, 260,\n",
    "       263, 286, 339, 341, 351, 357, 359, 362, 373, 374, 380, 381, 382,\n",
    "       384, 385, 386, 387, 388, 390, 398, 412, 413, 414, 417, 419, 453,\n",
    "       463, 464, 465, 466, 467]\n",
    "\n",
    "# POSE_IDXS0 = [ 0,  1,  2,  3,  4,  5,  6,  7,  8,  9, 10, 11, 12, 13, 14, 15, 16,\n",
    "#        17, 18, 19, 20, 21, 22, 23, 24, 25, 26, 27, 28, 29, 30, 31, 32]\n",
    "\n",
    "POSE_IDXS0 = np.arange(502, 512)\n",
    "LEFT_HAND_IDXS0 = np.arange(468,489)\n",
    "RIGHT_HAND_IDXS0 = np.arange(522,543)\n",
    "\n",
    "LANDMARK_IDXS0 = np.concatenate((LIPS_IDXS0, LEFT_HAND_IDXS0, RIGHT_HAND_IDXS0, EYES_IDXS0, POSE_IDXS0))"
   ]
  },
  {
   "cell_type": "code",
   "execution_count": 45,
   "id": "0b298bd9-a5f7-49b6-abae-7c779eee4664",
   "metadata": {
    "tags": []
   },
   "outputs": [
    {
     "data": {
      "text/plain": [
       "212"
      ]
     },
     "execution_count": 45,
     "metadata": {},
     "output_type": "execute_result"
    }
   ],
   "source": [
    "len(LANDMARK_IDXS0)"
   ]
  },
  {
   "cell_type": "code",
   "execution_count": 20,
   "id": "f5b8b603-dd3a-47ab-98fb-e86d4cb34ac9",
   "metadata": {
    "tags": []
   },
   "outputs": [
    {
     "data": {
      "text/plain": [
       "array([[ 5.58298886e-01,  4.63002384e-01],\n",
       "       [ 6.02611661e-01,  4.18690920e-01],\n",
       "       [ 6.28177881e-01,  4.20569062e-01],\n",
       "       [ 6.49016082e-01,  4.23131078e-01],\n",
       "       [ 5.10920703e-01,  4.18736964e-01],\n",
       "       [ 4.81898695e-01,  4.21183467e-01],\n",
       "       [ 4.58743930e-01,  4.24462974e-01],\n",
       "       [ 6.87426031e-01,  4.48747903e-01],\n",
       "       [ 4.30427939e-01,  4.49997783e-01],\n",
       "       [ 6.03306472e-01,  5.25382757e-01],\n",
       "       [ 5.01094818e-01,  5.28297424e-01],\n",
       "       [ 8.26361716e-01,  6.71795845e-01],\n",
       "       [ 3.03589582e-01,  6.46503508e-01],\n",
       "       [ 9.90334034e-01,  9.74739611e-01],\n",
       "       [-9.86907165e-04,  7.66859233e-01],\n",
       "       [ 9.43818748e-01,  1.17694294e+00],\n",
       "       [ 1.03133924e-01,  5.88010728e-01],\n",
       "       [ 9.47321951e-01,  1.26920629e+00],\n",
       "       [ 9.86627042e-02,  5.58533251e-01],\n",
       "       [ 9.03593540e-01,  1.23730671e+00],\n",
       "       [ 1.34045810e-01,  5.38975537e-01],\n",
       "       [ 8.87158155e-01,  1.20615578e+00],\n",
       "       [ 1.47983044e-01,  5.58624804e-01],\n",
       "       [ 7.14376509e-01,  1.22500670e+00],\n",
       "       [ 3.19310844e-01,  1.21380174e+00],\n",
       "       [ 6.87334955e-01,  1.67242849e+00],\n",
       "       [ 3.32278997e-01,  1.66521561e+00],\n",
       "       [ 6.69568837e-01,  2.08700299e+00],\n",
       "       [ 3.26062679e-01,  2.07717562e+00],\n",
       "       [ 6.78556919e-01,  2.15192413e+00],\n",
       "       [ 3.20209146e-01,  2.14005923e+00],\n",
       "       [ 6.02200866e-01,  2.21799350e+00],\n",
       "       [ 3.67063254e-01,  2.21614003e+00]], dtype=float32)"
      ]
     },
     "execution_count": 20,
     "metadata": {},
     "output_type": "execute_result"
    }
   ],
   "source": [
    "data[0][POSE_IDXS0]"
   ]
  },
  {
   "cell_type": "code",
   "execution_count": 30,
   "id": "9b3eb1fc-88f3-4ba5-be78-6d7a5b4ecb47",
   "metadata": {
    "tags": []
   },
   "outputs": [
    {
     "data": {
      "text/html": [
       "<div>\n",
       "<style scoped>\n",
       "    .dataframe tbody tr th:only-of-type {\n",
       "        vertical-align: middle;\n",
       "    }\n",
       "\n",
       "    .dataframe tbody tr th {\n",
       "        vertical-align: top;\n",
       "    }\n",
       "\n",
       "    .dataframe thead th {\n",
       "        text-align: right;\n",
       "    }\n",
       "</style>\n",
       "<table border=\"1\" class=\"dataframe\">\n",
       "  <thead>\n",
       "    <tr style=\"text-align: right;\">\n",
       "      <th></th>\n",
       "      <th>frame</th>\n",
       "      <th>row_id</th>\n",
       "      <th>type</th>\n",
       "      <th>landmark_index</th>\n",
       "      <th>x</th>\n",
       "      <th>y</th>\n",
       "      <th>z</th>\n",
       "    </tr>\n",
       "  </thead>\n",
       "  <tbody>\n",
       "    <tr>\n",
       "      <th>489</th>\n",
       "      <td>29</td>\n",
       "      <td>29-pose-0</td>\n",
       "      <td>pose</td>\n",
       "      <td>0</td>\n",
       "      <td>0.558299</td>\n",
       "      <td>0.463002</td>\n",
       "      <td>-1.549376</td>\n",
       "    </tr>\n",
       "    <tr>\n",
       "      <th>490</th>\n",
       "      <td>29</td>\n",
       "      <td>29-pose-1</td>\n",
       "      <td>pose</td>\n",
       "      <td>1</td>\n",
       "      <td>0.602612</td>\n",
       "      <td>0.418691</td>\n",
       "      <td>-1.467385</td>\n",
       "    </tr>\n",
       "    <tr>\n",
       "      <th>491</th>\n",
       "      <td>29</td>\n",
       "      <td>29-pose-2</td>\n",
       "      <td>pose</td>\n",
       "      <td>2</td>\n",
       "      <td>0.628178</td>\n",
       "      <td>0.420569</td>\n",
       "      <td>-1.468376</td>\n",
       "    </tr>\n",
       "    <tr>\n",
       "      <th>492</th>\n",
       "      <td>29</td>\n",
       "      <td>29-pose-3</td>\n",
       "      <td>pose</td>\n",
       "      <td>3</td>\n",
       "      <td>0.649016</td>\n",
       "      <td>0.423131</td>\n",
       "      <td>-1.469032</td>\n",
       "    </tr>\n",
       "    <tr>\n",
       "      <th>493</th>\n",
       "      <td>29</td>\n",
       "      <td>29-pose-4</td>\n",
       "      <td>pose</td>\n",
       "      <td>4</td>\n",
       "      <td>0.510921</td>\n",
       "      <td>0.418737</td>\n",
       "      <td>-1.462460</td>\n",
       "    </tr>\n",
       "    <tr>\n",
       "      <th>...</th>\n",
       "      <td>...</td>\n",
       "      <td>...</td>\n",
       "      <td>...</td>\n",
       "      <td>...</td>\n",
       "      <td>...</td>\n",
       "      <td>...</td>\n",
       "      <td>...</td>\n",
       "    </tr>\n",
       "    <tr>\n",
       "      <th>5947</th>\n",
       "      <td>39</td>\n",
       "      <td>39-pose-28</td>\n",
       "      <td>pose</td>\n",
       "      <td>28</td>\n",
       "      <td>0.280855</td>\n",
       "      <td>2.031735</td>\n",
       "      <td>0.948414</td>\n",
       "    </tr>\n",
       "    <tr>\n",
       "      <th>5948</th>\n",
       "      <td>39</td>\n",
       "      <td>39-pose-29</td>\n",
       "      <td>pose</td>\n",
       "      <td>29</td>\n",
       "      <td>0.622959</td>\n",
       "      <td>2.127774</td>\n",
       "      <td>0.340365</td>\n",
       "    </tr>\n",
       "    <tr>\n",
       "      <th>5949</th>\n",
       "      <td>39</td>\n",
       "      <td>39-pose-30</td>\n",
       "      <td>pose</td>\n",
       "      <td>30</td>\n",
       "      <td>0.286632</td>\n",
       "      <td>2.094783</td>\n",
       "      <td>0.983788</td>\n",
       "    </tr>\n",
       "    <tr>\n",
       "      <th>5950</th>\n",
       "      <td>39</td>\n",
       "      <td>39-pose-31</td>\n",
       "      <td>pose</td>\n",
       "      <td>31</td>\n",
       "      <td>0.515856</td>\n",
       "      <td>2.178496</td>\n",
       "      <td>-0.413913</td>\n",
       "    </tr>\n",
       "    <tr>\n",
       "      <th>5951</th>\n",
       "      <td>39</td>\n",
       "      <td>39-pose-32</td>\n",
       "      <td>pose</td>\n",
       "      <td>32</td>\n",
       "      <td>0.279566</td>\n",
       "      <td>2.175831</td>\n",
       "      <td>0.193546</td>\n",
       "    </tr>\n",
       "  </tbody>\n",
       "</table>\n",
       "<p>363 rows × 7 columns</p>\n",
       "</div>"
      ],
      "text/plain": [
       "      frame      row_id  type  landmark_index         x         y         z\n",
       "489      29   29-pose-0  pose               0  0.558299  0.463002 -1.549376\n",
       "490      29   29-pose-1  pose               1  0.602612  0.418691 -1.467385\n",
       "491      29   29-pose-2  pose               2  0.628178  0.420569 -1.468376\n",
       "492      29   29-pose-3  pose               3  0.649016  0.423131 -1.469032\n",
       "493      29   29-pose-4  pose               4  0.510921  0.418737 -1.462460\n",
       "...     ...         ...   ...             ...       ...       ...       ...\n",
       "5947     39  39-pose-28  pose              28  0.280855  2.031735  0.948414\n",
       "5948     39  39-pose-29  pose              29  0.622959  2.127774  0.340365\n",
       "5949     39  39-pose-30  pose              30  0.286632  2.094783  0.983788\n",
       "5950     39  39-pose-31  pose              31  0.515856  2.178496 -0.413913\n",
       "5951     39  39-pose-32  pose              32  0.279566  2.175831  0.193546\n",
       "\n",
       "[363 rows x 7 columns]"
      ]
     },
     "execution_count": 30,
     "metadata": {},
     "output_type": "execute_result"
    }
   ],
   "source": [
    "data = pd_read_s3_parquet(\"raw-data/train_landmark_files/28656/1000106739.parquet\", AWS_S3_BUCKET,)\n",
    "data[data['type']=='pose']"
   ]
  },
  {
   "cell_type": "code",
   "execution_count": null,
   "id": "ff9c9c2b-794f-4210-b888-a9a786557921",
   "metadata": {},
   "outputs": [],
   "source": []
  },
  {
   "cell_type": "code",
   "execution_count": null,
   "id": "69fabfaa-e6b6-4201-9a5a-908b21858707",
   "metadata": {
    "tags": []
   },
   "outputs": [],
   "source": [
    "data['index'] = data['type'] + data['landmark_index'].astype(str)\n",
    "data['index_ord'] = data['index'].astype('category').cat.codes\n",
    "# data[data['frame']==29].sort_values('index_ord').head(50)\n",
    "\n",
    "data[(data['frame']==29) & (data['index_ord']>=502) & (data['index_ord']<=512)]"
   ]
  },
  {
   "cell_type": "code",
   "execution_count": 31,
   "id": "a50785b6-4d2f-4e57-8a62-cba5608eb818",
   "metadata": {
    "tags": []
   },
   "outputs": [
    {
     "data": {
      "text/plain": [
       "<Axes: xlabel='x', ylabel='y'>"
      ]
     },
     "execution_count": 31,
     "metadata": {},
     "output_type": "execute_result"
    },
    {
     "data": {
      "image/png": "[encoded data removed]",
      "text/plain": [
       "<Figure size 500x800 with 1 Axes>"
      ]
     },
     "metadata": {},
     "output_type": "display_data"
    }
   ],
   "source": [
    "\n",
    "data[(data['frame']==29) & (data['type']=='pose')][['x','y']].plot.scatter(x='x',y='y', marker='.', figsize=(5,8))"
   ]
  },
  {
   "cell_type": "code",
   "execution_count": 33,
   "id": "09977253-3771-43d6-9227-c82eee636c6c",
   "metadata": {
    "tags": []
   },
   "outputs": [
    {
     "data": {
      "text/plain": [
       "<Axes: xlabel='x', ylabel='y'>"
      ]
     },
     "execution_count": 33,
     "metadata": {},
     "output_type": "execute_result"
    },
    {
     "data": {
      "image/png": "[encoded data removed]",
      "text/plain": [
       "<Figure size 640x480 with 1 Axes>"
      ]
     },
     "metadata": {},
     "output_type": "display_data"
    }
   ],
   "source": [
    "data[(data['frame']==29) & (data['type']=='pose')  & (data['y']<1.4)\n",
    "    ].plot.scatter(x='x',y='y', marker='.')\n",
    "# data"
   ]
  },
  {
   "cell_type": "code",
   "execution_count": null,
   "id": "27fb430d-51d7-4536-b455-64bc490317cf",
   "metadata": {
    "tags": []
   },
   "outputs": [],
   "source": [
    "data[(data['frame']==29) & (data['type']=='face') & (data['landmark_index'].isin(EYES))].plot.scatter(x='x',y='y', marker='.')"
   ]
  },
  {
   "cell_type": "code",
   "execution_count": null,
   "id": "8f70c680-b524-46fe-86a8-fa27a38698a2",
   "metadata": {
    "tags": []
   },
   "outputs": [],
   "source": [
    "POSE"
   ]
  },
  {
   "cell_type": "code",
   "execution_count": null,
   "id": "7e9d036b-7460-472e-adaa-8cfd37d5e2d2",
   "metadata": {
    "tags": []
   },
   "outputs": [],
   "source": [
    "# LIPS = list(set(np.concatenate((data[(data['frame']==29) & (data['type']=='face') & (data['x']>0.52)  & (data['x']<.63) & (data['y']>0.5)  & (data['y']<.545)\n",
    "#     ].landmark_index.unique(), LIPS_IDXS0))))\n",
    "LIPS = [0, 11, 12, 13, 14, 15, 17, 37, 38, 39, 40, 41, 42, 61, 62, 72, 73, \n",
    "        74, 76, 77, 78, 80, 81, 82, 84, 86, 87, 88, 89, 90, 91, 95, 96, 146, \n",
    "        178, 179, 180, 181, 183, 184, 185, 191, 267, 268, 269, 270, 271, 272, \n",
    "        291, 292, 302, 303, 304, 306, 307, 308, 310, 311, 312, 314, 316, 317, \n",
    "        318, 319, 320, 321, 324, 325, 375, 402, 403, 404, 405, 407, 408, 409, 415]\n",
    "\n",
    "EYES = [  6,   7,  22,  23,  24,  25,  26,  30,  31,  33,  56, 110, 112,\n",
    "       113, 122, 128, 130, 133, 144, 145, 153, 154, 155, 157, 158, 159,\n",
    "       160, 161, 163, 168, 173, 188, 189, 190, 193, 196, 197, 232, 233,\n",
    "       243, 244, 245, 246, 247, 249, 252, 253, 254, 255, 256, 259, 260,\n",
    "       263, 286, 339, 341, 351, 357, 359, 362, 373, 374, 380, 381, 382,\n",
    "       384, 385, 386, 387, 388, 390, 398, 412, 413, 414, 417, 419, 453,\n",
    "       463, 464, 465, 466, 467]\n",
    "\n",
    "\n",
    "POSE = [ 0,  1,  2,  3,  4,  5,  6,  7,  8,  9, 10, 11, 12, 13, 14, 15, 16,\n",
    "       17, 18, 19, 20, 21, 22, 23, 24]\n",
    "\n",
    "# EYES = data[(data['frame']==29) & (data['type']=='face') & (data['x']>0.46)  & (data['x']<.683) & (data['y']>0.4)  & (data['y']<.43)].landmark_index.unique()\n",
    "# POSE = data[(data['frame']==29) & (data['type']=='pose')].landmark_index.unique()"
   ]
  },
  {
   "cell_type": "code",
   "execution_count": 34,
   "id": "2e5a92f7-1da8-4536-b3bd-319c017760a5",
   "metadata": {
    "tags": []
   },
   "outputs": [],
   "source": [
    "POSE = data[(data['frame']==29) & (data['type']=='pose')  & (data['y']<1.4)\n",
    "    ].landmark_index.unique()"
   ]
  },
  {
   "cell_type": "code",
   "execution_count": 35,
   "id": "71410d06-bfe6-48e0-90ed-a3ac994e7ec8",
   "metadata": {
    "tags": []
   },
   "outputs": [
    {
     "data": {
      "text/plain": [
       "array([ 0,  1,  2,  3,  4,  5,  6,  7,  8,  9, 10, 11, 12, 13, 14, 15, 16,\n",
       "       17, 18, 19, 20, 21, 22, 23, 24], dtype=int16)"
      ]
     },
     "execution_count": 35,
     "metadata": {},
     "output_type": "execute_result"
    }
   ],
   "source": [
    "POSE"
   ]
  },
  {
   "cell_type": "code",
   "execution_count": null,
   "id": "f7b70c61-571a-4fb8-aa71-1aeda145da0c",
   "metadata": {},
   "outputs": [],
   "source": []
  }
 ],
 "metadata": {
  "kernelspec": {
   "display_name": "Python 3 (ipykernel)",
   "language": "python",
   "name": "python3"
  },
  "language_info": {
   "codemirror_mode": {
    "name": "ipython",
    "version": 3
   },
   "file_extension": ".py",
   "mimetype": "text/x-python",
   "name": "python",
   "nbconvert_exporter": "python",
   "pygments_lexer": "ipython3",
   "version": "3.10.10"
  }
 },
 "nbformat": 4,
 "nbformat_minor": 5
}
