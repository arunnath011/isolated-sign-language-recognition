{
 "cells": [
  {
   "cell_type": "code",
   "execution_count": 1,
   "id": "b48d3ed3-1583-45de-a748-f06f78712306",
   "metadata": {
    "tags": []
   },
   "outputs": [
    {
     "name": "stderr",
     "output_type": "stream",
     "text": [
      "2023-03-27 03:53:22.970941: I tensorflow/core/util/port.cc:110] oneDNN custom operations are on. You may see slightly different numerical results due to floating-point round-off errors from different computation orders. To turn them off, set the environment variable `TF_ENABLE_ONEDNN_OPTS=0`.\n",
      "2023-03-27 03:53:23.023180: I tensorflow/core/platform/cpu_feature_guard.cc:182] This TensorFlow binary is optimized to use available CPU instructions in performance-critical operations.\n",
      "To enable the following instructions: AVX2 AVX512F AVX512_VNNI FMA, in other operations, rebuild TensorFlow with the appropriate compiler flags.\n",
      "2023-03-27 03:53:23.846953: W tensorflow/compiler/tf2tensorrt/utils/py_utils.cc:38] TF-TRT Warning: Could not find TensorRT\n"
     ]
    }
   ],
   "source": [
    "import tensorflow as tf\n"
   ]
  },
  {
   "cell_type": "code",
   "execution_count": 2,
   "id": "c4e32904-1686-46f2-85f4-e2a08fd38323",
   "metadata": {},
   "outputs": [],
   "source": [
    "import pandas as pd\n",
    "import numpy as np\n",
    "from sklearn.model_selection import train_test_split"
   ]
  },
  {
   "cell_type": "code",
   "execution_count": 3,
   "id": "0a8741b3-72bf-4cea-96ea-b12ffd6c4181",
   "metadata": {
    "tags": []
   },
   "outputs": [],
   "source": [
    "BASE_PATH = '/home/ec2-user/isolated-sign-language-recognition/sample-data'"
   ]
  },
  {
   "cell_type": "code",
   "execution_count": 4,
   "id": "d51020c0-dfe2-4fd3-8ef8-d8508fc630b7",
   "metadata": {
    "tags": []
   },
   "outputs": [],
   "source": [
    "index = pd.read_csv('index.csv')\n",
    "# sample_data = pd.read_csv(BASE_PATH)"
   ]
  },
  {
   "cell_type": "code",
   "execution_count": 5,
   "id": "24dfed85-517b-417e-9cc7-38320562e5cf",
   "metadata": {
    "tags": []
   },
   "outputs": [
    {
     "data": {
      "text/html": [
       "<div>\n",
       "<style scoped>\n",
       "    .dataframe tbody tr th:only-of-type {\n",
       "        vertical-align: middle;\n",
       "    }\n",
       "\n",
       "    .dataframe tbody tr th {\n",
       "        vertical-align: top;\n",
       "    }\n",
       "\n",
       "    .dataframe thead th {\n",
       "        text-align: right;\n",
       "    }\n",
       "</style>\n",
       "<table border=\"1\" class=\"dataframe\">\n",
       "  <thead>\n",
       "    <tr style=\"text-align: right;\">\n",
       "      <th></th>\n",
       "      <th>participant_id</th>\n",
       "      <th>sequence_id</th>\n",
       "      <th>sign</th>\n",
       "    </tr>\n",
       "  </thead>\n",
       "  <tbody>\n",
       "    <tr>\n",
       "      <th>0</th>\n",
       "      <td>26734</td>\n",
       "      <td>1000035562</td>\n",
       "      <td>blow</td>\n",
       "    </tr>\n",
       "    <tr>\n",
       "      <th>1</th>\n",
       "      <td>28656</td>\n",
       "      <td>1000106739</td>\n",
       "      <td>wait</td>\n",
       "    </tr>\n",
       "    <tr>\n",
       "      <th>2</th>\n",
       "      <td>16069</td>\n",
       "      <td>100015657</td>\n",
       "      <td>cloud</td>\n",
       "    </tr>\n",
       "    <tr>\n",
       "      <th>3</th>\n",
       "      <td>25571</td>\n",
       "      <td>1000210073</td>\n",
       "      <td>bird</td>\n",
       "    </tr>\n",
       "    <tr>\n",
       "      <th>4</th>\n",
       "      <td>62590</td>\n",
       "      <td>1000240708</td>\n",
       "      <td>owie</td>\n",
       "    </tr>\n",
       "  </tbody>\n",
       "</table>\n",
       "</div>"
      ],
      "text/plain": [
       "   participant_id  sequence_id   sign\n",
       "0           26734   1000035562   blow\n",
       "1           28656   1000106739   wait\n",
       "2           16069    100015657  cloud\n",
       "3           25571   1000210073   bird\n",
       "4           62590   1000240708   owie"
      ]
     },
     "execution_count": 5,
     "metadata": {},
     "output_type": "execute_result"
    }
   ],
   "source": [
    "index = index.drop(columns='path')\n",
    "index.head()"
   ]
  },
  {
   "cell_type": "code",
   "execution_count": 6,
   "id": "c0409a55-dde2-4ae5-a8e3-7d9135d6e937",
   "metadata": {
    "tags": []
   },
   "outputs": [
    {
     "data": {
      "text/plain": [
       "array(['blow', 'wait', 'cloud', 'bird', 'owie', 'duck', 'minemy', 'lips',\n",
       "       'flower', 'time', 'vacuum', 'apple', 'puzzle', 'mitten', 'there',\n",
       "       'dry', 'shirt', 'owl', 'yellow', 'not', 'zipper', 'clean',\n",
       "       'closet', 'quiet', 'have', 'brother', 'clown', 'cheek', 'cute',\n",
       "       'store', 'shoe', 'wet', 'see', 'empty', 'fall', 'balloon',\n",
       "       'frenchfries', 'finger', 'same', 'cry', 'hungry', 'orange', 'milk',\n",
       "       'go', 'drawer', 'TV', 'another', 'giraffe', 'wake', 'bee', 'bad',\n",
       "       'can', 'say', 'callonphone', 'finish', 'old', 'backyard', 'sick',\n",
       "       'look', 'that', 'black', 'yourself', 'open', 'alligator', 'moon',\n",
       "       'find', 'pizza', 'shhh', 'fast', 'jacket', 'scissors', 'now',\n",
       "       'man', 'sticky', 'jump', 'sleep', 'sun', 'first', 'grass', 'uncle',\n",
       "       'fish', 'cowboy', 'snow', 'dryer', 'green', 'bug', 'nap', 'feet',\n",
       "       'yucky', 'morning', 'sad', 'face', 'penny', 'gift', 'night',\n",
       "       'hair', 'who', 'think', 'brown', 'mad', 'bed', 'drink', 'stay',\n",
       "       'flag', 'tooth', 'awake', 'thankyou', 'hot', 'like', 'where',\n",
       "       'hesheit', 'potty', 'down', 'stuck', 'no', 'head', 'food',\n",
       "       'pretty', 'nuts', 'animal', 'frog', 'beside', 'noisy', 'water',\n",
       "       'weus', 'happy', 'white', 'bye', 'high', 'fine', 'boat', 'all',\n",
       "       'tiger', 'pencil', 'sleepy', 'grandma', 'chocolate', 'haveto',\n",
       "       'radio', 'farm', 'any', 'zebra', 'rain', 'toy', 'donkey', 'lion',\n",
       "       'drop', 'many', 'bath', 'aunt', 'will', 'hate', 'on', 'pretend',\n",
       "       'kitty', 'fireman', 'before', 'doll', 'stairs', 'kiss', 'loud',\n",
       "       'hen', 'listen', 'give', 'wolf', 'dad', 'gum', 'hear',\n",
       "       'refrigerator', 'outside', 'cut', 'underwear', 'please', 'child',\n",
       "       'smile', 'pen', 'yesterday', 'horse', 'pig', 'table', 'eye',\n",
       "       'snack', 'story', 'police', 'arm', 'talk', 'grandpa', 'tongue',\n",
       "       'pool', 'girl', 'up', 'better', 'tree', 'dance', 'close', 'taste',\n",
       "       'chin', 'ride', 'because', 'if', 'cat', 'why', 'carrot', 'dog',\n",
       "       'mouse', 'jeans', 'shower', 'later', 'mom', 'nose', 'yes',\n",
       "       'airplane', 'book', 'blue', 'icecream', 'garbage', 'tomorrow',\n",
       "       'red', 'cow', 'person', 'puppy', 'cereal', 'touch', 'mouth', 'boy',\n",
       "       'thirsty', 'make', 'for', 'glasswindow', 'into', 'read', 'every',\n",
       "       'bedroom', 'napkin', 'ear', 'toothbrush', 'home', 'pajamas',\n",
       "       'hello', 'helicopter', 'lamp', 'room', 'dirty', 'chair', 'hat',\n",
       "       'elephant', 'after', 'car', 'hide', 'goose'], dtype=object)"
      ]
     },
     "execution_count": 6,
     "metadata": {},
     "output_type": "execute_result"
    }
   ],
   "source": [
    "class_labels = index.sign.unique()\n",
    "class_labels"
   ]
  },
  {
   "cell_type": "code",
   "execution_count": 7,
   "id": "46390e72-1564-4005-a11a-84c2b4454986",
   "metadata": {
    "tags": []
   },
   "outputs": [],
   "source": [
    "X_train, X_test, y_train, y_test = train_test_split(index[['participant_id','sequence_id']], index['sign'], \n",
    "                                                    test_size=0.2, stratify=index['sign'])\n",
    "\n",
    "train = pd.concat([X_train, y_train], axis=1).reset_index(drop=True)\n",
    "test = pd.concat([X_test, y_test], axis=1).reset_index(drop=True)\n"
   ]
  },
  {
   "cell_type": "code",
   "execution_count": 18,
   "id": "b0113b37",
   "metadata": {},
   "outputs": [
    {
     "data": {
      "text/plain": [
       "87352     stuck\n",
       "94320       man\n",
       "7651     finish\n",
       "49169       car\n",
       "25025       red\n",
       "          ...  \n",
       "79255    person\n",
       "33716      doll\n",
       "42465      bath\n",
       "16401      make\n",
       "22438     after\n",
       "Name: sign, Length: 75581, dtype: object"
      ]
     },
     "execution_count": 18,
     "metadata": {},
     "output_type": "execute_result"
    }
   ],
   "source": [
    "y_train"
   ]
  },
  {
   "cell_type": "code",
   "execution_count": 20,
   "id": "ba159d02-f04d-4cc9-b038-8458746e56d3",
   "metadata": {
    "tags": []
   },
   "outputs": [],
   "source": [
    "import glob\n",
    "\n",
    "def get_train_sample(train_df):\n",
    "        \n",
    "    for index in train_df.index:\n",
    "        metadata = train_df.loc[index]\n",
    "        files = glob.glob(f\"{BASE_PATH}/participant_id={metadata['participant_id']}/sequence_id={metadata['sequence_id']}/*.csv\")\n",
    "        df = pd.concat((pd.read_csv(f) for f in files), ignore_index=True)\n",
    "        \n",
    "        df = df.sort_values('frame').values.astype(np.float32)\n",
    "        \n",
    "        yield df, metadata['sign']\n",
    "                \n",
    "#         # yield df.sort_values('frame').to_numpy()\n",
    "#         # yield (df.reshape(-1), 0.0)\n",
    "#         # yield (df.reshape(-1), metadata['sign'])        \n",
    "    \n",
    "        \n",
    "# def get_train_sample(train_df):\n",
    "        \n",
    "#     for index in train_df.index:\n",
    "#         metadata = train_df.loc[index]\n",
    "#         files = f\"{BASE_PATH}/participant_id={metadata['participant_id']}/sequence_id={metadata['sequence_id']}/*.csv\"\n",
    "        \n",
    "#         yield tf.convert_to_tensor(files,dtype=tf.string), tf.convert_to_tensor(metadata['sign'],dtype=tf.string)        \n",
    "    "
   ]
  },
  {
   "cell_type": "code",
   "execution_count": 21,
   "id": "99ef59fb-3578-4500-a16b-aeae853ff39a",
   "metadata": {
    "tags": []
   },
   "outputs": [],
   "source": [
    "tmp_df = index[(index['participant_id']==16069) & (index['sequence_id']==1004211348)]\n",
    "# tmp_df = index[(index['participant_id']==16069) & (index['sequence_id']==1005492440)]\n",
    "\n"
   ]
  },
  {
   "cell_type": "code",
   "execution_count": 22,
   "id": "8c7c868c-0e78-47f9-8e63-72f0cf4eb953",
   "metadata": {
    "tags": []
   },
   "outputs": [
    {
     "data": {
      "text/plain": [
       "(array([[106.        ,   0.41268227,   0.42548835, ...,   0.        ,\n",
       "           0.        ,   0.        ]], dtype=float32),\n",
       " 'bug')"
      ]
     },
     "execution_count": 22,
     "metadata": {},
     "output_type": "execute_result"
    }
   ],
   "source": [
    "# tf.convert_to_tensor(next(get_train_sample(tmp_df)))\n",
    "next(get_train_sample(tmp_df))"
   ]
  },
  {
   "cell_type": "code",
   "execution_count": 32,
   "id": "ff35e912-bb05-446b-9aa4-4dfdfe0ea09d",
   "metadata": {
    "tags": []
   },
   "outputs": [],
   "source": [
    "import os\n",
    "os.environ['CUDA_VISIBLE_DEVICES'] = '-1'"
   ]
  },
  {
   "cell_type": "code",
   "execution_count": 24,
   "id": "a1a36f30-55dc-4dfc-b03b-005f698abf75",
   "metadata": {
    "tags": []
   },
   "outputs": [],
   "source": [
    "# dataset = tf.data.Dataset.from_generator(get_train_sample, args=[tmp_df],\n",
    "#                                          output_types=tf.string)\n",
    "\n"
   ]
  },
  {
   "cell_type": "code",
   "execution_count": 33,
   "id": "5aa93017-e08b-487c-a150-db63757a3f08",
   "metadata": {},
   "outputs": [],
   "source": [
    "train_dataset = tf.data.Dataset.from_generator(\n",
    "    generator=lambda: get_train_sample(tmp_df),\n",
    "    output_signature=(\n",
    "        tf.TensorSpec(shape=(1, 1087), dtype=tf.float32),\n",
    "        tf.TensorSpec(shape=(), dtype=tf.string)\n",
    "    )\n",
    ")"
   ]
  },
  {
   "cell_type": "code",
   "execution_count": 34,
   "id": "b40a7abc",
   "metadata": {
    "scrolled": false
   },
   "outputs": [
    {
     "name": "stdout",
     "output_type": "stream",
     "text": [
      "Features: tf.Tensor(\n",
      "[[106.           0.41268227   0.42548835 ...   0.           0.\n",
      "    0.        ]], shape=(1, 1087), dtype=float32)\n",
      "Label: tf.Tensor(b'bug', shape=(), dtype=string)\n"
     ]
    },
    {
     "name": "stderr",
     "output_type": "stream",
     "text": [
      "2023-03-27 04:17:39.166385: I tensorflow/core/common_runtime/executor.cc:1197] [/device:CPU:0] (DEBUG INFO) Executor start aborting (this does not indicate an error and you can ignore this message): INVALID_ARGUMENT: You must feed a value for placeholder tensor 'Placeholder/_0' with dtype int32\n",
      "\t [[{{node Placeholder/_0}}]]\n"
     ]
    }
   ],
   "source": [
    "for features, label in train_dataset:\n",
    "    print(\"Features:\", features)\n",
    "    print(\"Label:\", label)"
   ]
  },
  {
   "cell_type": "code",
   "execution_count": 37,
   "id": "1aeb078f",
   "metadata": {},
   "outputs": [
    {
     "ename": "NameError",
     "evalue": "name 'train_df' is not defined",
     "output_type": "error",
     "traceback": [
      "\u001b[0;31m---------------------------------------------------------------------------\u001b[0m",
      "\u001b[0;31mNameError\u001b[0m                                 Traceback (most recent call last)",
      "Cell \u001b[0;32mIn[37], line 2\u001b[0m\n\u001b[1;32m      1\u001b[0m chunk_size \u001b[38;5;241m=\u001b[39m \u001b[38;5;241m2\u001b[39m  \u001b[38;5;66;03m# number of samples per chunk\u001b[39;00m\n\u001b[0;32m----> 2\u001b[0m \u001b[38;5;28;01mfor\u001b[39;00m i \u001b[38;5;129;01min\u001b[39;00m \u001b[38;5;28mrange\u001b[39m(\u001b[38;5;241m0\u001b[39m, \u001b[38;5;28mlen\u001b[39m(\u001b[43mtrain_df\u001b[49m), chunk_size):\n\u001b[1;32m      3\u001b[0m     tmp_df \u001b[38;5;241m=\u001b[39m train_df\u001b[38;5;241m.\u001b[39miloc[i:i\u001b[38;5;241m+\u001b[39mchunk_size]\n\u001b[1;32m      4\u001b[0m     train_dataset \u001b[38;5;241m=\u001b[39m tf\u001b[38;5;241m.\u001b[39mdata\u001b[38;5;241m.\u001b[39mDataset\u001b[38;5;241m.\u001b[39mfrom_generator(\n\u001b[1;32m      5\u001b[0m         generator\u001b[38;5;241m=\u001b[39m\u001b[38;5;28;01mlambda\u001b[39;00m: get_train_sample(tmp_df),\n\u001b[1;32m      6\u001b[0m         output_signature\u001b[38;5;241m=\u001b[39m(\n\u001b[0;32m   (...)\u001b[0m\n\u001b[1;32m      9\u001b[0m         )\n\u001b[1;32m     10\u001b[0m     )\n",
      "\u001b[0;31mNameError\u001b[0m: name 'train_df' is not defined"
     ]
    }
   ],
   "source": []
  },
  {
   "cell_type": "code",
   "execution_count": null,
   "id": "f4a08cb9",
   "metadata": {},
   "outputs": [],
   "source": []
  }
 ],
 "metadata": {
  "kernelspec": {
   "display_name": "Python 3 (ipykernel)",
   "language": "python",
   "name": "python3"
  },
  "language_info": {
   "codemirror_mode": {
    "name": "ipython",
    "version": 3
   },
   "file_extension": ".py",
   "mimetype": "text/x-python",
   "name": "python",
   "nbconvert_exporter": "python",
   "pygments_lexer": "ipython3",
   "version": "3.10.10"
  }
 },
 "nbformat": 4,
 "nbformat_minor": 5
}
